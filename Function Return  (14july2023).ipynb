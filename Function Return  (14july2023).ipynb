{
 "cells": [
  {
   "cell_type": "markdown",
   "id": "4a5b9382",
   "metadata": {},
   "source": [
    "**Function are a block of code defined with a name**\n",
    "# DRY -- Do not Repeat yourself\n",
    "- Function provide reuseability of code. "
   ]
  },
  {
   "cell_type": "markdown",
   "id": "9b690d52",
   "metadata": {},
   "source": [
    "# Types of Functions\n",
    " - 1. Bulit-in Function or predefined Function'\n",
    " - 2. User-defined function"
   ]
  },
  {
   "cell_type": "markdown",
   "id": "34f4a473",
   "metadata": {},
   "source": [
    "# Creating Function"
   ]
  },
  {
   "cell_type": "code",
   "execution_count": 2,
   "id": "7f14b116",
   "metadata": {},
   "outputs": [
    {
     "name": "stdout",
     "output_type": "stream",
     "text": [
      "data sciences is amazing\n"
     ]
    }
   ],
   "source": [
    "def first_function():    # def is for defined\n",
    "    \n",
    "    \n",
    "    print(\"data sciences is amazing\")\n",
    "\n",
    "first_function() # function is called\n",
    "\n"
   ]
  },
  {
   "cell_type": "markdown",
   "id": "414eed56",
   "metadata": {},
   "source": [
    "# Creating Function with parameters"
   ]
  },
  {
   "cell_type": "code",
   "execution_count": 10,
   "id": "aaccc6a9",
   "metadata": {
    "scrolled": true
   },
   "outputs": [
    {
     "name": "stdout",
     "output_type": "stream",
     "text": [
      "data science is amazing\n",
      "12\n",
      "data science is amazing\n",
      "hello\n"
     ]
    }
   ],
   "source": [
    "def first_function(x):\n",
    "    print(\"data science is amazing\")\n",
    "    print(x)\n",
    "first_function(12)\n",
    "\n",
    "first_function(\"hello\")"
   ]
  },
  {
   "cell_type": "code",
   "execution_count": 30,
   "id": "447454ec",
   "metadata": {},
   "outputs": [
    {
     "name": "stdout",
     "output_type": "stream",
     "text": [
      "14\n",
      "10\n",
      "6.0\n",
      "<class 'NoneType'>\n",
      "14\n",
      "10\n",
      "6.0\n",
      "None\n"
     ]
    }
   ],
   "source": [
    "def first_function(x,y):\n",
    "    print(x+y)\n",
    "    print(x-y)\n",
    "    print(x/y)\n",
    "    \n",
    "print(type(first_function(12,2)))\n",
    "print(first_function(12,2))"
   ]
  },
  {
   "cell_type": "code",
   "execution_count": 27,
   "id": "905e9934",
   "metadata": {},
   "outputs": [
    {
     "name": "stdout",
     "output_type": "stream",
     "text": [
      "None\n"
     ]
    }
   ],
   "source": [
    "print(None)"
   ]
  },
  {
   "cell_type": "code",
   "execution_count": 29,
   "id": "b7025a08",
   "metadata": {},
   "outputs": [
    {
     "data": {
      "text/plain": [
       "'rishi'"
      ]
     },
     "execution_count": 29,
     "metadata": {},
     "output_type": "execute_result"
    }
   ],
   "source": [
    "type('rishi')\n",
    "'rishi'"
   ]
  },
  {
   "cell_type": "code",
   "execution_count": 4,
   "id": "0eb8066a",
   "metadata": {},
   "outputs": [
    {
     "name": "stdout",
     "output_type": "stream",
     "text": [
      "24\n",
      "20\n",
      "11.0\n"
     ]
    }
   ],
   "source": [
    "first_function(22,2)"
   ]
  },
  {
   "cell_type": "code",
   "execution_count": 2,
   "id": "615754f7",
   "metadata": {
    "scrolled": true
   },
   "outputs": [
    {
     "name": "stdout",
     "output_type": "stream",
     "text": [
      "data science is amazing\n",
      "12\n"
     ]
    }
   ],
   "source": [
    "def first_function(x):\n",
    "    print(\"data science is amazing\")\n",
    "    print(x)\n",
    "first_function(12)"
   ]
  },
  {
   "cell_type": "code",
   "execution_count": 6,
   "id": "be612688",
   "metadata": {},
   "outputs": [
    {
     "name": "stdout",
     "output_type": "stream",
     "text": [
      "35\n",
      "data science is amazing\n"
     ]
    }
   ],
   "source": [
    "def second_function(x,y):\n",
    "    print(x+y)\n",
    "    print(\"data science is amazing\")\n",
    "second_function(12,23)"
   ]
  },
  {
   "cell_type": "code",
   "execution_count": 7,
   "id": "ae81c6d9",
   "metadata": {},
   "outputs": [
    {
     "name": "stdout",
     "output_type": "stream",
     "text": [
      "0\n"
     ]
    }
   ],
   "source": [
    "def third_function(x,y,z):\n",
    "    print(x+y-z)\n",
    "third_function(12,23,35)"
   ]
  },
  {
   "cell_type": "markdown",
   "id": "bf5fe7d8",
   "metadata": {},
   "source": [
    "# Retruning Value from a Function"
   ]
  },
  {
   "cell_type": "code",
   "execution_count": 32,
   "id": "297821aa",
   "metadata": {},
   "outputs": [
    {
     "data": {
      "text/plain": [
       "90"
      ]
     },
     "execution_count": 32,
     "metadata": {},
     "output_type": "execute_result"
    }
   ],
   "source": [
    "def calculater(x,y):\n",
    "    a = x+y\n",
    "    return a\n",
    "calculater(45,45)"
   ]
  },
  {
   "cell_type": "code",
   "execution_count": 34,
   "id": "a6cb8e7b",
   "metadata": {},
   "outputs": [
    {
     "name": "stdout",
     "output_type": "stream",
     "text": [
      "100\n"
     ]
    }
   ],
   "source": [
    "def calculater(x,y):\n",
    "    a = x+y\n",
    "    return a\n",
    "    \n",
    "b = calculater(45,45) +10\n",
    "print(b)"
   ]
  },
  {
   "cell_type": "code",
   "execution_count": 35,
   "id": "4c07ce44",
   "metadata": {},
   "outputs": [
    {
     "data": {
      "text/plain": [
       "100"
      ]
     },
     "execution_count": 35,
     "metadata": {},
     "output_type": "execute_result"
    }
   ],
   "source": [
    "b"
   ]
  },
  {
   "cell_type": "code",
   "execution_count": 10,
   "id": "7ac86c02",
   "metadata": {},
   "outputs": [
    {
     "name": "stdout",
     "output_type": "stream",
     "text": [
      "we are diff number\n"
     ]
    },
    {
     "data": {
      "text/plain": [
       "11"
      ]
     },
     "execution_count": 10,
     "metadata": {},
     "output_type": "execute_result"
    }
   ],
   "source": [
    "def my_func(x,y):\n",
    "    print(\"we are diff number\")\n",
    "    a = x-y\n",
    "    return a\n",
    "    print(\"hello world\")\n",
    "my_func(23,12)"
   ]
  },
  {
   "cell_type": "code",
   "execution_count": 1,
   "id": "c1f8b629",
   "metadata": {},
   "outputs": [
    {
     "name": "stdout",
     "output_type": "stream",
     "text": [
      "xyz\n",
      "45\n",
      "None\n"
     ]
    }
   ],
   "source": [
    "def func(a):\n",
    "    print(\"xyz\")\n",
    "    print(a)\n",
    "    \n",
    "    \n",
    "x = func(45)\n",
    "print(x)"
   ]
  },
  {
   "cell_type": "code",
   "execution_count": 26,
   "id": "01301e54",
   "metadata": {},
   "outputs": [
    {
     "name": "stdout",
     "output_type": "stream",
     "text": [
      "xyz\n",
      "45\n",
      "45\n"
     ]
    }
   ],
   "source": [
    "def func(a):\n",
    "    print(\"xyz\")\n",
    "    print(a)\n",
    "    return a\n",
    "    \n",
    "x = func(45)\n",
    "print(x)"
   ]
  },
  {
   "cell_type": "code",
   "execution_count": 2,
   "id": "90bd2086",
   "metadata": {},
   "outputs": [
    {
     "name": "stdout",
     "output_type": "stream",
     "text": [
      "xyz\n",
      "45\n",
      "22\n",
      "the valve of x is :  45\n"
     ]
    }
   ],
   "source": [
    "def func(a):\n",
    "    print(\"xyz\")\n",
    "    print(a)\n",
    "    print(a-23)\n",
    "    return a\n",
    "x= func(45)\n",
    "print(\"the valve of x is : \",x)\n",
    "    "
   ]
  },
  {
   "cell_type": "code",
   "execution_count": 39,
   "id": "3395f37d",
   "metadata": {},
   "outputs": [
    {
     "name": "stdout",
     "output_type": "stream",
     "text": [
      "hello\n",
      "world\n"
     ]
    },
    {
     "data": {
      "text/plain": [
       "'hello'"
      ]
     },
     "execution_count": 39,
     "metadata": {},
     "output_type": "execute_result"
    }
   ],
   "source": [
    "def func2(a):\n",
    "    print('hello')\n",
    "    print('world')\n",
    "    return a\n",
    "    print('data')\n",
    "func2(5)\n",
    "'hello'"
   ]
  },
  {
   "cell_type": "code",
   "execution_count": 38,
   "id": "a5a74ba8",
   "metadata": {},
   "outputs": [
    {
     "data": {
      "text/plain": [
       "89"
      ]
     },
     "execution_count": 38,
     "metadata": {},
     "output_type": "execute_result"
    }
   ],
   "source": [
    "6\n",
    "89"
   ]
  },
  {
   "cell_type": "code",
   "execution_count": 32,
   "id": "0a0103bf",
   "metadata": {},
   "outputs": [
    {
     "name": "stdout",
     "output_type": "stream",
     "text": [
      "2444234690992\n",
      "140729980317376\n"
     ]
    }
   ],
   "source": [
    "print(id(print(id(\"hello\"))))"
   ]
  },
  {
   "cell_type": "code",
   "execution_count": 33,
   "id": "e9a72471",
   "metadata": {},
   "outputs": [
    {
     "name": "stdout",
     "output_type": "stream",
     "text": [
      "hello\n",
      "None\n"
     ]
    }
   ],
   "source": [
    "print(print(\"hello\"))"
   ]
  },
  {
   "cell_type": "code",
   "execution_count": 34,
   "id": "89f9acdc",
   "metadata": {},
   "outputs": [],
   "source": [
    "None"
   ]
  },
  {
   "cell_type": "code",
   "execution_count": 35,
   "id": "c3a69baf",
   "metadata": {},
   "outputs": [
    {
     "name": "stdout",
     "output_type": "stream",
     "text": [
      "None\n"
     ]
    }
   ],
   "source": [
    "print(None)"
   ]
  },
  {
   "cell_type": "code",
   "execution_count": 16,
   "id": "0d27c03d",
   "metadata": {},
   "outputs": [
    {
     "name": "stdout",
     "output_type": "stream",
     "text": [
      "\n"
     ]
    }
   ],
   "source": [
    "print()"
   ]
  },
  {
   "cell_type": "code",
   "execution_count": 6,
   "id": "26ef7636",
   "metadata": {},
   "outputs": [
    {
     "name": "stdout",
     "output_type": "stream",
     "text": [
      "\n",
      "None\n",
      "None\n",
      "None\n"
     ]
    }
   ],
   "source": [
    "print(print(print(print())))"
   ]
  },
  {
   "cell_type": "code",
   "execution_count": 2,
   "id": "25f5d136",
   "metadata": {},
   "outputs": [
    {
     "name": "stdout",
     "output_type": "stream",
     "text": [
      "90\n",
      "90\n"
     ]
    }
   ],
   "source": [
    "def add(a,b):\n",
    "    sum = a+b\n",
    "    print(sum)\n",
    "    return sum\n",
    "print(add(45,45))"
   ]
  },
  {
   "cell_type": "code",
   "execution_count": 5,
   "id": "29e4fe60",
   "metadata": {},
   "outputs": [
    {
     "name": "stdout",
     "output_type": "stream",
     "text": [
      "14\n",
      "None\n"
     ]
    }
   ],
   "source": [
    "def add(a,b):    # im wirte not return function return function take a value of None \n",
    "    sum = a-b\n",
    "    print(sum)\n",
    "print(add(12,1-3))"
   ]
  },
  {
   "cell_type": "code",
   "execution_count": 6,
   "id": "1ec42913",
   "metadata": {},
   "outputs": [],
   "source": [
    "None # he is not a print of None"
   ]
  },
  {
   "cell_type": "code",
   "execution_count": 8,
   "id": "cbf4d1cd",
   "metadata": {},
   "outputs": [
    {
     "name": "stdout",
     "output_type": "stream",
     "text": [
      "None\n"
     ]
    }
   ],
   "source": [
    "print(None) # he is a print of None"
   ]
  },
  {
   "cell_type": "markdown",
   "id": "23a22147",
   "metadata": {},
   "source": [
    "# Return multipte values of a function"
   ]
  },
  {
   "cell_type": "code",
   "execution_count": 40,
   "id": "89c42091",
   "metadata": {},
   "outputs": [
    {
     "name": "stdout",
     "output_type": "stream",
     "text": [
      "hello 67\n"
     ]
    }
   ],
   "source": [
    "a,b = (\"hello\",67)\n",
    "print(a,b)"
   ]
  },
  {
   "cell_type": "code",
   "execution_count": 3,
   "id": "1f186551",
   "metadata": {},
   "outputs": [
    {
     "name": "stdout",
     "output_type": "stream",
     "text": [
      "12 8 20 5.0\n"
     ]
    }
   ],
   "source": [
    "def calculator(a,b):\n",
    "    sum = a+b\n",
    "    diff= a-b\n",
    "    product= a*b\n",
    "    div = a/b\n",
    "    return sum,diff,product,div  #return the value in the from of a tuple\n",
    "a,b,c,d= calculator(10,2)\n",
    "print(a,b,c,d)"
   ]
  },
  {
   "cell_type": "code",
   "execution_count": 4,
   "id": "d322717d",
   "metadata": {},
   "outputs": [
    {
     "name": "stdout",
     "output_type": "stream",
     "text": [
      "(12, 8, 20, 5.0)\n"
     ]
    }
   ],
   "source": [
    "def calculator(a,b):\n",
    "    sum = a+b\n",
    "    diff= a-b\n",
    "    product= a*b\n",
    "    div = a/b\n",
    "    return sum,diff,product,div  #return the value in the from of a tuple\n",
    "x= calculator(10,2) \n",
    "print(x)"
   ]
  },
  {
   "cell_type": "code",
   "execution_count": 5,
   "id": "5b005dd0",
   "metadata": {},
   "outputs": [
    {
     "name": "stdout",
     "output_type": "stream",
     "text": [
      "(12, 4, 32, 2.0)\n"
     ]
    }
   ],
   "source": [
    "def calculator (a,b):\n",
    "    sum = a+b\n",
    "    diff = a-b\n",
    "    product =a*b\n",
    "    div = a/b\n",
    "    return sum,diff,product,div\n",
    "y = calculator(8,4)\n",
    "print(y)\n"
   ]
  },
  {
   "cell_type": "code",
   "execution_count": 31,
   "id": "fe9071ef",
   "metadata": {
    "scrolled": true
   },
   "outputs": [
    {
     "name": "stdout",
     "output_type": "stream",
     "text": [
      "(12, 4, 32, 2.0)\n",
      "32\n"
     ]
    }
   ],
   "source": [
    "y = calculator(8,4)\n",
    "\n",
    "    \n",
    "print(y)\n",
    "print(y[2])"
   ]
  },
  {
   "cell_type": "code",
   "execution_count": 21,
   "id": "6cb71bdc",
   "metadata": {},
   "outputs": [
    {
     "data": {
      "text/plain": [
       "32"
      ]
     },
     "execution_count": 21,
     "metadata": {},
     "output_type": "execute_result"
    }
   ],
   "source": [
    "y[2]"
   ]
  },
  {
   "cell_type": "markdown",
   "id": "3905ece5",
   "metadata": {},
   "source": [
    "# Using Docsting in Function\n",
    " - **Single-line docstring**"
   ]
  },
  {
   "cell_type": "code",
   "execution_count": 41,
   "id": "acbfbc36",
   "metadata": {},
   "outputs": [
    {
     "name": "stdout",
     "output_type": "stream",
     "text": [
      "this is a test program\n"
     ]
    }
   ],
   "source": [
    "def show_result():\n",
    "    \"\"\"Let us understrand docstring\"\"\"\n",
    "    print(\"this is a test program\")\n",
    "show_result()"
   ]
  },
  {
   "cell_type": "code",
   "execution_count": 24,
   "id": "d5fb45ce",
   "metadata": {},
   "outputs": [
    {
     "data": {
      "text/plain": [
       "'Let us understrand docstring'"
      ]
     },
     "execution_count": 24,
     "metadata": {},
     "output_type": "execute_result"
    }
   ],
   "source": [
    "show_result.__doc__"
   ]
  },
  {
   "cell_type": "code",
   "execution_count": 25,
   "id": "996ff013",
   "metadata": {},
   "outputs": [
    {
     "name": "stdout",
     "output_type": "stream",
     "text": [
      "Help on built-in function print in module builtins:\n",
      "\n",
      "print(...)\n",
      "    print(value, ..., sep=' ', end='\\n', file=sys.stdout, flush=False)\n",
      "    \n",
      "    Prints the values to a stream, or to sys.stdout by default.\n",
      "    Optional keyword arguments:\n",
      "    file:  a file-like object (stream); defaults to the current sys.stdout.\n",
      "    sep:   string inserted between values, default a space.\n",
      "    end:   string appended after the last value, default a newline.\n",
      "    flush: whether to forcibly flush the stream.\n",
      "\n"
     ]
    }
   ],
   "source": [
    "help(print)"
   ]
  },
  {
   "cell_type": "code",
   "execution_count": 26,
   "id": "6582f809",
   "metadata": {},
   "outputs": [
    {
     "name": "stdout",
     "output_type": "stream",
     "text": [
      "Help on function show_result in module __main__:\n",
      "\n",
      "show_result()\n",
      "    Let us understrand docstring\n",
      "\n"
     ]
    }
   ],
   "source": [
    "help(show_result)"
   ]
  },
  {
   "cell_type": "markdown",
   "id": "bd17e451",
   "metadata": {},
   "source": [
    "- **Multi-line docstring**"
   ]
  },
  {
   "cell_type": "code",
   "execution_count": 27,
   "id": "5f92776c",
   "metadata": {},
   "outputs": [],
   "source": [
    "def show_result():\n",
    "    \"\"\"Let us understrnd docstring \n",
    "    \n",
    "    I am using this function to understrnd aout docstring\n",
    "    Docstring are used to document function\"\"\"\n",
    "    print(\"this is a test program\")"
   ]
  },
  {
   "cell_type": "code",
   "execution_count": 28,
   "id": "489db484",
   "metadata": {
    "scrolled": true
   },
   "outputs": [
    {
     "name": "stdout",
     "output_type": "stream",
     "text": [
      "Let us understrnd docstring \n",
      "    \n",
      "    I am using this function to understrnd aout docstring\n",
      "    Docstring are used to document function\n"
     ]
    }
   ],
   "source": [
    "print(show_result.__doc__)"
   ]
  },
  {
   "cell_type": "code",
   "execution_count": 29,
   "id": "0376a36f",
   "metadata": {},
   "outputs": [
    {
     "data": {
      "text/plain": [
       "'Let us understrnd docstring \\n    \\n    I am using this function to understrnd aout docstring\\n    Docstring are used to document function'"
      ]
     },
     "execution_count": 29,
     "metadata": {},
     "output_type": "execute_result"
    }
   ],
   "source": [
    "show_result.__doc__"
   ]
  },
  {
   "cell_type": "code",
   "execution_count": 30,
   "id": "06251463",
   "metadata": {},
   "outputs": [
    {
     "name": "stdout",
     "output_type": "stream",
     "text": [
      "Help on function show_result in module __main__:\n",
      "\n",
      "show_result()\n",
      "    Let us understrnd docstring \n",
      "    \n",
      "    I am using this function to understrnd aout docstring\n",
      "    Docstring are used to document function\n",
      "\n"
     ]
    }
   ],
   "source": [
    "help(show_result)"
   ]
  },
  {
   "cell_type": "code",
   "execution_count": 2,
   "id": "bfd1208a",
   "metadata": {},
   "outputs": [],
   "source": [
    "def first_function():\n",
    "        \"\"\"this function is test for a program\"\"\"\n",
    "        diff=a-b\n",
    "        div=a/b\n",
    "        \"\"\"hello sir\"\"\"\n",
    "        floor=a//b\n",
    "        print(\"hello sir\")\n",
    "        \"function is working this time\""
   ]
  },
  {
   "cell_type": "code",
   "execution_count": 48,
   "id": "3c09c998",
   "metadata": {},
   "outputs": [
    {
     "name": "stdout",
     "output_type": "stream",
     "text": [
      "Help on function first_function in module __main__:\n",
      "\n",
      "first_function()\n",
      "    this function is test for a program\n",
      "\n"
     ]
    }
   ],
   "source": [
    "help(first_function)"
   ]
  },
  {
   "cell_type": "markdown",
   "id": "743219da",
   "metadata": {},
   "source": [
    "# Scope of variables"
   ]
  },
  {
   "cell_type": "code",
   "execution_count": 3,
   "id": "ca1a94f6",
   "metadata": {},
   "outputs": [
    {
     "name": "stdout",
     "output_type": "stream",
     "text": [
      "T is  python\n",
      "The value of t is python\n"
     ]
    },
    {
     "ename": "NameError",
     "evalue": "name 'u' is not defined",
     "output_type": "error",
     "traceback": [
      "\u001b[1;31m---------------------------------------------------------------------------\u001b[0m",
      "\u001b[1;31mNameError\u001b[0m                                 Traceback (most recent call last)",
      "Cell \u001b[1;32mIn[3], line 7\u001b[0m\n\u001b[0;32m      5\u001b[0m scope_var()\n\u001b[0;32m      6\u001b[0m \u001b[38;5;28mprint\u001b[39m(\u001b[38;5;124m\"\u001b[39m\u001b[38;5;124mThe value of t is\u001b[39m\u001b[38;5;124m\"\u001b[39m,t)\n\u001b[1;32m----> 7\u001b[0m \u001b[38;5;28mprint\u001b[39m(\u001b[38;5;124m\"\u001b[39m\u001b[38;5;124mthe value of u is\u001b[39m\u001b[38;5;124m\"\u001b[39m,\u001b[43mu\u001b[49m)\n",
      "\u001b[1;31mNameError\u001b[0m: name 'u' is not defined"
     ]
    }
   ],
   "source": [
    "t = \"python\"     # Global Variable\n",
    "def scope_var():\n",
    "    u = \"analytics\"   # that call local variable\n",
    "    print(\"T is \",t)\n",
    "scope_var()\n",
    "print(\"The value of t is\",t)\n",
    "print(\"the value of u is\",u)\n",
    "    "
   ]
  },
  {
   "cell_type": "code",
   "execution_count": 55,
   "id": "ca5169d4",
   "metadata": {},
   "outputs": [
    {
     "name": "stdout",
     "output_type": "stream",
     "text": [
      "data science\n",
      "T is  python\n",
      "The value of t is python\n",
      "The value of u is analytics\n"
     ]
    }
   ],
   "source": [
    "t = \"python\"             # Global variable\n",
    "u = \"analytics\"          # global variable u\n",
    "def scope_var():\n",
    "    u = \"data science\"   # local variable u\n",
    "    print(u)  \n",
    "    print(\"T is \",t)\n",
    "scope_var()\n",
    "print(\"The value of t is\",t)\n",
    "\n",
    "print(\"The value of u is\",u)\n",
    "    \n"
   ]
  },
  {
   "cell_type": "code",
   "execution_count": 42,
   "id": "a1a44c49",
   "metadata": {},
   "outputs": [
    {
     "ename": "UnboundLocalError",
     "evalue": "local variable 'u' referenced before assignment",
     "output_type": "error",
     "traceback": [
      "\u001b[1;31m---------------------------------------------------------------------------\u001b[0m",
      "\u001b[1;31mUnboundLocalError\u001b[0m                         Traceback (most recent call last)",
      "Cell \u001b[1;32mIn[42], line 8\u001b[0m\n\u001b[0;32m      6\u001b[0m     \u001b[38;5;28mprint\u001b[39m(u)\n\u001b[0;32m      7\u001b[0m     \u001b[38;5;28mprint\u001b[39m(\u001b[38;5;124m\"\u001b[39m\u001b[38;5;124mT is\u001b[39m\u001b[38;5;124m\"\u001b[39m,t)\n\u001b[1;32m----> 8\u001b[0m \u001b[43mscope_var\u001b[49m\u001b[43m(\u001b[49m\u001b[43m)\u001b[49m\n\u001b[0;32m      9\u001b[0m \u001b[38;5;28mprint\u001b[39m(\u001b[38;5;124m\"\u001b[39m\u001b[38;5;124mThe value of t is \u001b[39m\u001b[38;5;124m\"\u001b[39m,t)\n\u001b[0;32m     10\u001b[0m \u001b[38;5;28mprint\u001b[39m(\u001b[38;5;124m\"\u001b[39m\u001b[38;5;124mThe value of u is \u001b[39m\u001b[38;5;124m\"\u001b[39m,u)\n",
      "Cell \u001b[1;32mIn[42], line 4\u001b[0m, in \u001b[0;36mscope_var\u001b[1;34m()\u001b[0m\n\u001b[0;32m      3\u001b[0m \u001b[38;5;28;01mdef\u001b[39;00m \u001b[38;5;21mscope_var\u001b[39m():\n\u001b[1;32m----> 4\u001b[0m     \u001b[38;5;28mprint\u001b[39m(\u001b[38;5;124m\"\u001b[39m\u001b[38;5;124mvalue of u inside function before declaring it as local is \u001b[39m\u001b[38;5;124m\"\u001b[39m,\u001b[43mu\u001b[49m) \u001b[38;5;66;03m# befroe assign variable is not reference\u001b[39;00m\n\u001b[0;32m      5\u001b[0m     u \u001b[38;5;241m=\u001b[39m \u001b[38;5;124m\"\u001b[39m\u001b[38;5;124mdata science\u001b[39m\u001b[38;5;124m\"\u001b[39m\n\u001b[0;32m      6\u001b[0m     \u001b[38;5;28mprint\u001b[39m(u)\n",
      "\u001b[1;31mUnboundLocalError\u001b[0m: local variable 'u' referenced before assignment"
     ]
    }
   ],
   "source": [
    "t = \"python\"\n",
    "u = \"analytics\"\n",
    "def scope_var():\n",
    "    print(\"value of u inside function before declaring it as local is \",u) # befroe assign variable is not reference\n",
    "    u = \"data science\"\n",
    "    print(u)\n",
    "    print(\"T is\",t)\n",
    "scope_var()\n",
    "print(\"The value of t is \",t)\n",
    "print(\"The value of u is \",u)"
   ]
  },
  {
   "cell_type": "markdown",
   "id": "e81e70ac",
   "metadata": {},
   "source": [
    "# Global variable"
   ]
  },
  {
   "cell_type": "code",
   "execution_count": 72,
   "id": "c26dda61",
   "metadata": {},
   "outputs": [
    {
     "name": "stdout",
     "output_type": "stream",
     "text": [
      "the value of python\n",
      "the value of  data science\n"
     ]
    }
   ],
   "source": [
    "t = \"python\"\n",
    "u = \"analytics\"\n",
    "def global_var():\n",
    "    global u\n",
    "    u = \"data science\"\n",
    "global_var()\n",
    "print(\"the value of\",t)\n",
    "print(\"the value of \",u)"
   ]
  },
  {
   "cell_type": "code",
   "execution_count": 73,
   "id": "15a7c56e",
   "metadata": {},
   "outputs": [
    {
     "name": "stdout",
     "output_type": "stream",
     "text": [
      "x inside function is 78\n",
      "x outside function is  78\n"
     ]
    }
   ],
   "source": [
    "# creating a global variable inside a function\n",
    "def global_test():\n",
    "    global x\n",
    "    x = 78\n",
    "    print(\"x inside function is\",x)\n",
    "global_test()\n",
    "print(\"x outside function is \",x)"
   ]
  },
  {
   "cell_type": "code",
   "execution_count": 44,
   "id": "dc0f3236",
   "metadata": {},
   "outputs": [
    {
     "ename": "SyntaxError",
     "evalue": "invalid syntax (2239576952.py, line 2)",
     "output_type": "error",
     "traceback": [
      "\u001b[1;36m  Cell \u001b[1;32mIn[44], line 2\u001b[1;36m\u001b[0m\n\u001b[1;33m    global x = 78\u001b[0m\n\u001b[1;37m             ^\u001b[0m\n\u001b[1;31mSyntaxError\u001b[0m\u001b[1;31m:\u001b[0m invalid syntax\n"
     ]
    }
   ],
   "source": [
    "def global_test():\n",
    "    global x = 78\n",
    "    print(\"x inside function is\",x)\n",
    "global_test()\n",
    "print(\"x outside function is \",x)"
   ]
  },
  {
   "cell_type": "code",
   "execution_count": 8,
   "id": "c6e7ed6b",
   "metadata": {
    "scrolled": true
   },
   "outputs": [],
   "source": [
    "def first_function():\n",
    "    a = 10\n",
    "    sum = a+34\n",
    "    def second_function():\n",
    "        a = 20\n",
    "        diff = a-23\n",
    "        return diff\n",
    "    \n",
    "    second_function()\n",
    "first_function()      "
   ]
  },
  {
   "cell_type": "code",
   "execution_count": 53,
   "id": "86efbfb7",
   "metadata": {},
   "outputs": [
    {
     "data": {
      "text/plain": [
       "78"
      ]
     },
     "execution_count": 53,
     "metadata": {},
     "output_type": "execute_result"
    }
   ],
   "source": [
    "34\n",
    "78"
   ]
  },
  {
   "cell_type": "code",
   "execution_count": 17,
   "id": "94cada43",
   "metadata": {},
   "outputs": [
    {
     "name": "stdout",
     "output_type": "stream",
     "text": [
      "67\n",
      "89\n"
     ]
    }
   ],
   "source": [
    "def outer():\n",
    "    w = 89\n",
    "    def inner():\n",
    "        w = 67\n",
    "        print(w)\n",
    "    inner()\n",
    "    print(w)\n",
    "outer()"
   ]
  },
  {
   "cell_type": "code",
   "execution_count": 23,
   "id": "1ca0c7b0",
   "metadata": {},
   "outputs": [
    {
     "name": "stdout",
     "output_type": "stream",
     "text": [
      "89\n",
      "89\n"
     ]
    }
   ],
   "source": [
    "def outer():\n",
    "    w = 89\n",
    "    def inner():\n",
    "        print(w)\n",
    "    inner()\n",
    "    print(w)\n",
    "outer()"
   ]
  },
  {
   "cell_type": "code",
   "execution_count": 31,
   "id": "2b25cbf2",
   "metadata": {
    "scrolled": true
   },
   "outputs": [
    {
     "name": "stdout",
     "output_type": "stream",
     "text": [
      "89\n",
      "89\n"
     ]
    }
   ],
   "source": [
    "# her W is global so this out is 89\n",
    "w = 89\n",
    "def inner():\n",
    "    print(w)\n",
    "inner()\n",
    "print(w)\n"
   ]
  },
  {
   "cell_type": "code",
   "execution_count": 35,
   "id": "2e757dc8",
   "metadata": {},
   "outputs": [
    {
     "name": "stdout",
     "output_type": "stream",
     "text": [
      "67\n",
      "89\n"
     ]
    }
   ],
   "source": [
    "def inner(): # we out is output is 67 and 89 because w =89 is a global variable which is decleared at input 31 \n",
    "        w = 67\n",
    "        print(w)\n",
    "inner()\n",
    "print(w)"
   ]
  },
  {
   "cell_type": "code",
   "execution_count": 38,
   "id": "2f2fbbb0",
   "metadata": {},
   "outputs": [
    {
     "name": "stdout",
     "output_type": "stream",
     "text": [
      "67\n"
     ]
    }
   ],
   "source": [
    "def inner(): \n",
    "    w = 67\n",
    "    print(w)\n",
    "inner()"
   ]
  },
  {
   "cell_type": "code",
   "execution_count": 39,
   "id": "b54ddd17",
   "metadata": {},
   "outputs": [
    {
     "name": "stdout",
     "output_type": "stream",
     "text": [
      "88\n",
      "10\n"
     ]
    }
   ],
   "source": [
    "def show_result():\n",
    "    global a\n",
    "    a = 10\n",
    "    sum = a+78\n",
    "    print(sum)\n",
    "show_result()\n",
    "print(a)"
   ]
  },
  {
   "cell_type": "code",
   "execution_count": 42,
   "id": "464d50ea",
   "metadata": {},
   "outputs": [
    {
     "name": "stdout",
     "output_type": "stream",
     "text": [
      "hi\n",
      "hello world\n"
     ]
    }
   ],
   "source": [
    "x = \"hello world\"\n",
    "def print_result():\n",
    "    x = \"hi\"\n",
    "    print(x)\n",
    "print_result()\n",
    "print(x)"
   ]
  },
  {
   "cell_type": "markdown",
   "id": "16cd847f",
   "metadata": {},
   "source": [
    "# Nonlocal Variables"
   ]
  },
  {
   "cell_type": "code",
   "execution_count": 45,
   "id": "a02725d0",
   "metadata": {},
   "outputs": [
    {
     "name": "stdout",
     "output_type": "stream",
     "text": [
      "67\n",
      "67\n"
     ]
    }
   ],
   "source": [
    "def outer():\n",
    "    w=89\n",
    "    def inner():\n",
    "        nonlocal w\n",
    "        w = 67\n",
    "        print(w)\n",
    "    inner()\n",
    "    print(w)\n",
    "outer()"
   ]
  },
  {
   "cell_type": "code",
   "execution_count": 48,
   "id": "6766987d",
   "metadata": {},
   "outputs": [
    {
     "ename": "SyntaxError",
     "evalue": "no binding for nonlocal 'x' found (3480734177.py, line 3)",
     "output_type": "error",
     "traceback": [
      "\u001b[1;36m  Cell \u001b[1;32mIn[48], line 3\u001b[1;36m\u001b[0m\n\u001b[1;33m    nonlocal x\u001b[0m\n\u001b[1;37m    ^\u001b[0m\n\u001b[1;31mSyntaxError\u001b[0m\u001b[1;31m:\u001b[0m no binding for nonlocal 'x' found\n"
     ]
    }
   ],
   "source": [
    "def outer (): # first funcstion not create local variable than im call nonlocal program the is give a error\n",
    "    def inner():\n",
    "        nonlocal x\n",
    "        x = 20\n",
    "        print(x)\n",
    "    inner()\n",
    "    print(x)\n",
    "outer()"
   ]
  },
  {
   "cell_type": "code",
   "execution_count": 14,
   "id": "7abcd3aa",
   "metadata": {},
   "outputs": [
    {
     "data": {
      "text/plain": [
       "112"
      ]
     },
     "execution_count": 14,
     "metadata": {},
     "output_type": "execute_result"
    }
   ],
   "source": [
    "# argument vs parameters\n",
    "def my_func(x,y):  # here x and y are the parameters\n",
    "    return x+y\n",
    "\n",
    "\n",
    "my_func(45,67)    # here 45 and 67 are the arguments"
   ]
  },
  {
   "cell_type": "markdown",
   "id": "c83f64ff",
   "metadata": {},
   "source": [
    "# Pyhton Function Argument\n",
    "\n",
    "1. Positional argument \n",
    "2. Keyword argument\n",
    "3. Default arguement\n",
    "4. Variable-length argument"
   ]
  },
  {
   "cell_type": "code",
   "execution_count": 21,
   "id": "8449d1b0",
   "metadata": {},
   "outputs": [
    {
     "ename": "TypeError",
     "evalue": "my_function() takes 0 positional arguments but 1 was given",
     "output_type": "error",
     "traceback": [
      "\u001b[1;31m---------------------------------------------------------------------------\u001b[0m",
      "\u001b[1;31mTypeError\u001b[0m                                 Traceback (most recent call last)",
      "Cell \u001b[1;32mIn[21], line 3\u001b[0m\n\u001b[0;32m      1\u001b[0m \u001b[38;5;28;01mdef\u001b[39;00m \u001b[38;5;21mmy_function\u001b[39m(): \u001b[38;5;66;03m# im not give  a any parameter in function \u001b[39;00m\n\u001b[0;32m      2\u001b[0m     \u001b[38;5;28;01mpass\u001b[39;00m\n\u001b[1;32m----> 3\u001b[0m \u001b[43mmy_function\u001b[49m\u001b[43m(\u001b[49m\u001b[38;5;241;43m56\u001b[39;49m\u001b[43m)\u001b[49m\n",
      "\u001b[1;31mTypeError\u001b[0m: my_function() takes 0 positional arguments but 1 was given"
     ]
    }
   ],
   "source": [
    "def my_function(): # im not give  a any parameter in function \n",
    "    pass\n",
    "my_function(56)"
   ]
  },
  {
   "cell_type": "markdown",
   "id": "085d1d41",
   "metadata": {},
   "source": [
    " # Positional argument \n",
    " - are arguments that are pssed to a function in proper positional order "
   ]
  },
  {
   "cell_type": "code",
   "execution_count": 4,
   "id": "b322223b",
   "metadata": {},
   "outputs": [
    {
     "data": {
      "text/plain": [
       "44"
      ]
     },
     "execution_count": 4,
     "metadata": {},
     "output_type": "execute_result"
    }
   ],
   "source": [
    "def calc(p,q):\n",
    "    diff = p-q\n",
    "    return diff\n",
    "calc(89,45)"
   ]
  },
  {
   "cell_type": "code",
   "execution_count": 23,
   "id": "4aa466be",
   "metadata": {},
   "outputs": [
    {
     "data": {
      "text/plain": [
       "-44"
      ]
     },
     "execution_count": 23,
     "metadata": {},
     "output_type": "execute_result"
    }
   ],
   "source": [
    "calc(45,89)"
   ]
  },
  {
   "cell_type": "markdown",
   "id": "b9524891",
   "metadata": {},
   "source": [
    "# Keyword arguments-\n",
    "- Values get assigned to the parameters by their name (keyword)\n",
    "- Here the order of the arguments does not metter."
   ]
  },
  {
   "cell_type": "code",
   "execution_count": 24,
   "id": "46d92984",
   "metadata": {},
   "outputs": [
    {
     "data": {
      "text/plain": [
       "8"
      ]
     },
     "execution_count": 24,
     "metadata": {},
     "output_type": "execute_result"
    }
   ],
   "source": [
    "def my_func(p,q):\n",
    "    diff = p-q\n",
    "    return diff\n",
    "calc(p=10,q=2)\n"
   ]
  },
  {
   "cell_type": "code",
   "execution_count": 25,
   "id": "033779c8",
   "metadata": {},
   "outputs": [
    {
     "data": {
      "text/plain": [
       "8"
      ]
     },
     "execution_count": 25,
     "metadata": {},
     "output_type": "execute_result"
    }
   ],
   "source": [
    "calc(q=2,p=10)"
   ]
  },
  {
   "cell_type": "code",
   "execution_count": 26,
   "id": "a8aec213",
   "metadata": {},
   "outputs": [
    {
     "data": {
      "text/plain": [
       "10"
      ]
     },
     "execution_count": 26,
     "metadata": {},
     "output_type": "execute_result"
    }
   ],
   "source": [
    "calc(p=12,q=2)"
   ]
  },
  {
   "cell_type": "code",
   "execution_count": 27,
   "id": "7847dde4",
   "metadata": {},
   "outputs": [
    {
     "ename": "TypeError",
     "evalue": "calc() got an unexpected keyword argument 'a'",
     "output_type": "error",
     "traceback": [
      "\u001b[1;31m---------------------------------------------------------------------------\u001b[0m",
      "\u001b[1;31mTypeError\u001b[0m                                 Traceback (most recent call last)",
      "Cell \u001b[1;32mIn[27], line 1\u001b[0m\n\u001b[1;32m----> 1\u001b[0m \u001b[43mcalc\u001b[49m\u001b[43m(\u001b[49m\u001b[43ma\u001b[49m\u001b[38;5;241;43m=\u001b[39;49m\u001b[38;5;241;43m10\u001b[39;49m\u001b[43m,\u001b[49m\u001b[43mb\u001b[49m\u001b[38;5;241;43m=\u001b[39;49m\u001b[38;5;241;43m2\u001b[39;49m\u001b[43m)\u001b[49m\n",
      "\u001b[1;31mTypeError\u001b[0m: calc() got an unexpected keyword argument 'a'"
     ]
    }
   ],
   "source": [
    "calc(a=10,b=2)"
   ]
  },
  {
   "cell_type": "markdown",
   "id": "538bf414",
   "metadata": {},
   "source": [
    "# Default arguments -\n",
    "- Take the default value during the function call if we do not pass them"
   ]
  },
  {
   "cell_type": "code",
   "execution_count": 29,
   "id": "909ae682",
   "metadata": {},
   "outputs": [
    {
     "name": "stdout",
     "output_type": "stream",
     "text": [
      "hi\n"
     ]
    }
   ],
   "source": [
    "def get_message(msg=\"Hello world\"):\n",
    "    print(msg)\n",
    "get_message(\"hi\")"
   ]
  },
  {
   "cell_type": "code",
   "execution_count": 30,
   "id": "59315007",
   "metadata": {},
   "outputs": [
    {
     "name": "stdout",
     "output_type": "stream",
     "text": [
      "Hello world\n"
     ]
    }
   ],
   "source": [
    "get_message()"
   ]
  },
  {
   "cell_type": "code",
   "execution_count": 9,
   "id": "f9397dda",
   "metadata": {},
   "outputs": [
    {
     "name": "stdout",
     "output_type": "stream",
     "text": [
      "45\n"
     ]
    }
   ],
   "source": [
    "def get_message(msg=\"helloworld\",y =45):\n",
    "    print(y)\n",
    "get_message(\"78\")"
   ]
  },
  {
   "cell_type": "code",
   "execution_count": 6,
   "id": "aeb26e7f",
   "metadata": {},
   "outputs": [
    {
     "name": "stdout",
     "output_type": "stream",
     "text": [
      "45\n"
     ]
    }
   ],
   "source": [
    "get_message()"
   ]
  },
  {
   "cell_type": "code",
   "execution_count": 10,
   "id": "0f3a9eac",
   "metadata": {},
   "outputs": [
    {
     "name": "stdout",
     "output_type": "stream",
     "text": [
      "45\n"
     ]
    }
   ],
   "source": [
    "get_message(78)"
   ]
  },
  {
   "cell_type": "code",
   "execution_count": 36,
   "id": "e95648d6",
   "metadata": {},
   "outputs": [
    {
     "ename": "TypeError",
     "evalue": "get_message() missing 1 required positional argument: 'msg'",
     "output_type": "error",
     "traceback": [
      "\u001b[1;31m---------------------------------------------------------------------------\u001b[0m",
      "\u001b[1;31mTypeError\u001b[0m                                 Traceback (most recent call last)",
      "Cell \u001b[1;32mIn[36], line 3\u001b[0m\n\u001b[0;32m      1\u001b[0m \u001b[38;5;28;01mdef\u001b[39;00m \u001b[38;5;21mget_message\u001b[39m(msg,q \u001b[38;5;241m=\u001b[39m \u001b[38;5;241m35\u001b[39m):\n\u001b[0;32m      2\u001b[0m     \u001b[38;5;28mprint\u001b[39m(msg,q)\n\u001b[1;32m----> 3\u001b[0m \u001b[43mget_message\u001b[49m\u001b[43m(\u001b[49m\u001b[43m)\u001b[49m\n",
      "\u001b[1;31mTypeError\u001b[0m: get_message() missing 1 required positional argument: 'msg'"
     ]
    }
   ],
   "source": [
    "def get_message(msg,q = 35):\n",
    "    print(msg,q)\n",
    "get_message()"
   ]
  },
  {
   "cell_type": "code",
   "execution_count": 37,
   "id": "fac4cd5b",
   "metadata": {},
   "outputs": [
    {
     "name": "stdout",
     "output_type": "stream",
     "text": [
      "hi 78\n"
     ]
    }
   ],
   "source": [
    "def get_message(msg,q=35): # q=35 is a default\n",
    "    print(msg,q) # msg parameters\n",
    "get_message(\"hi\",q=78) # hi is positional argument # q= 78 this is a keyword argument"
   ]
  },
  {
   "cell_type": "markdown",
   "id": "b7e086d4",
   "metadata": {},
   "source": [
    "# Variabel-length arguments or Arbitary Arguments-\n",
    "- When we need to pass multiple arugments to the function ,we can use variable-length arguments."
   ]
  },
  {
   "cell_type": "code",
   "execution_count": 11,
   "id": "a0070b11",
   "metadata": {},
   "outputs": [
    {
     "name": "stdout",
     "output_type": "stream",
     "text": [
      "(9, 4, 12)\n",
      "-5\n"
     ]
    }
   ],
   "source": [
    "# Arbitary postional arugments \n",
    "def sub(*numbers):\n",
    "    print(numbers)\n",
    "    sum = 20\n",
    "    for x in numbers :\n",
    "        sum = sum - x\n",
    "    print(sum)\n",
    "sub(9,4,12)"
   ]
  },
  {
   "cell_type": "code",
   "execution_count": 14,
   "id": "f41cd4ef",
   "metadata": {},
   "outputs": [
    {
     "name": "stdout",
     "output_type": "stream",
     "text": [
      "(9, 12, 4)\n",
      "-20\n"
     ]
    }
   ],
   "source": [
    "def sub(*numbers):\n",
    "    print(numbers)\n",
    "    sum = 5\n",
    "    for x in numbers :\n",
    "        sum = sum -x\n",
    "    print(sum)\n",
    "sub(9,12,4)"
   ]
  },
  {
   "cell_type": "code",
   "execution_count": 13,
   "id": "b3dd6cf9",
   "metadata": {},
   "outputs": [
    {
     "data": {
      "text/plain": [
       "-20"
      ]
     },
     "execution_count": 13,
     "metadata": {},
     "output_type": "execute_result"
    }
   ],
   "source": [
    "-16-4"
   ]
  },
  {
   "cell_type": "code",
   "execution_count": 13,
   "id": "2c29cfbd",
   "metadata": {},
   "outputs": [
    {
     "name": "stdout",
     "output_type": "stream",
     "text": [
      "(4, 9, 12)\n",
      "-20\n"
     ]
    }
   ],
   "source": [
    "def sub(*numbers):\n",
    "    print(numbers)\n",
    "    sum = 5\n",
    "    for x in numbers :\n",
    "        sum = sum -x\n",
    "    print(sum)\n",
    "sub(4,9,12)"
   ]
  },
  {
   "cell_type": "code",
   "execution_count": 12,
   "id": "18e5247d",
   "metadata": {},
   "outputs": [
    {
     "name": "stdout",
     "output_type": "stream",
     "text": [
      "{'math': 56, 'english': 61, 'science': 73}\n",
      "my func subject : math\n",
      "my subject marks: 56\n",
      "math = 56\n",
      "my func subject : english\n",
      "my subject marks: 61\n",
      "english = 61\n",
      "my func subject : science\n",
      "my subject marks: 73\n",
      "science = 73\n"
     ]
    }
   ],
   "source": [
    "# Arbitary keyword arguments \n",
    "def my_func(**key_word):   # key_word is a dictionary\n",
    "    print(key_word)\n",
    "    for sub in key_word:\n",
    "        print(\"my func subject :\",sub)\n",
    "        # get arugments value\n",
    "        sub_marks = key_word[sub]\n",
    "        print(\"my subject marks:\",sub_marks)\n",
    "        print(sub,\"=\",sub_marks)\n",
    "my_func(math=56, english=61, science=73)"
   ]
  },
  {
   "cell_type": "code",
   "execution_count": 16,
   "id": "a8e76a42",
   "metadata": {},
   "outputs": [
    {
     "name": "stdout",
     "output_type": "stream",
     "text": [
      "{'Rider': 56, 'speed': 110, 'cut': 78}\n",
      "my taks number: Rider\n",
      "my taks number: 56\n",
      "Rider = 56\n",
      "my taks number: speed\n",
      "my taks number: 110\n",
      "speed = 110\n",
      "my taks number: cut\n",
      "my taks number: 78\n",
      "cut = 78\n"
     ]
    }
   ],
   "source": [
    "def my_taks(**number):\n",
    "    print(number)\n",
    "    for num in number:\n",
    "        print(\"my taks number:\",num)\n",
    "        num_taks = number[num] \n",
    "        print(\"my taks number:\",num_taks)\n",
    "        print(num,\"=\", num_taks)\n",
    "my_taks(Rider=56,speed=110,cut=78)\n",
    "        "
   ]
  },
  {
   "cell_type": "markdown",
   "id": "59e86cd8",
   "metadata": {},
   "source": [
    "# Recursion \n",
    "A recursion function is a function that calls itself,again and again."
   ]
  },
  {
   "cell_type": "code",
   "execution_count": null,
   "id": "87691a0d",
   "metadata": {},
   "outputs": [],
   "source": [
    "def my_func():   #  The kernel appears to have died.\n",
    "    \n",
    "    my_func()\n",
    "my_func()\n",
    "    \n",
    "    "
   ]
  },
  {
   "cell_type": "code",
   "execution_count": 1,
   "id": "26f82475",
   "metadata": {},
   "outputs": [
    {
     "name": "stdout",
     "output_type": "stream",
     "text": [
      "factorial of number: 24\n"
     ]
    }
   ],
   "source": [
    "def factorial(no):\n",
    "    if no == 0:\n",
    "        return 1\n",
    "    else:\n",
    "        return no * factorial (no -1)\n",
    "    \n",
    "print(\"factorial of number:\",factorial(4))"
   ]
  },
  {
   "cell_type": "code",
   "execution_count": 28,
   "id": "6b46088e",
   "metadata": {},
   "outputs": [
    {
     "name": "stdout",
     "output_type": "stream",
     "text": [
      "3\n",
      "devion of: 6\n"
     ]
    }
   ],
   "source": [
    "x = int(input())\n",
    "def devion(num):\n",
    "    if num//2==0:\n",
    "        return 1\n",
    "    else:\n",
    "        return num * devion (num-1)\n",
    "print(\"devion of:\",devion(x))"
   ]
  },
  {
   "cell_type": "code",
   "execution_count": 32,
   "id": "9bcf2f5b",
   "metadata": {},
   "outputs": [
    {
     "data": {
      "text/plain": [
       "2"
      ]
     },
     "execution_count": 32,
     "metadata": {},
     "output_type": "execute_result"
    }
   ],
   "source": [
    "4//2"
   ]
  },
  {
   "cell_type": "code",
   "execution_count": null,
   "id": "ecc3c8e2",
   "metadata": {},
   "outputs": [],
   "source": [
    "# Lambda Function (anonymous)\n"
   ]
  },
  {
   "cell_type": "code",
   "execution_count": null,
   "id": "100c9bd7",
   "metadata": {},
   "outputs": [],
   "source": [
    "# used for instant and one-time use\n",
    "# wirtten in just one line"
   ]
  },
  {
   "cell_type": "code",
   "execution_count": null,
   "id": "2d4f084b",
   "metadata": {},
   "outputs": [],
   "source": [
    "# lambda parameters:  Expression"
   ]
  },
  {
   "cell_type": "code",
   "execution_count": 1,
   "id": "5f90dc73",
   "metadata": {},
   "outputs": [
    {
     "data": {
      "text/plain": [
       "<function __main__.<lambda>()>"
      ]
     },
     "execution_count": 1,
     "metadata": {},
     "output_type": "execute_result"
    }
   ],
   "source": [
    "lambda : print(\"hello world\")"
   ]
  },
  {
   "cell_type": "code",
   "execution_count": 2,
   "id": "f82115e2",
   "metadata": {},
   "outputs": [
    {
     "name": "stdout",
     "output_type": "stream",
     "text": [
      "hello world\n"
     ]
    }
   ],
   "source": [
    "(lambda : print(\"hello world\"))()"
   ]
  },
  {
   "cell_type": "code",
   "execution_count": 9,
   "id": "acbddfa9",
   "metadata": {},
   "outputs": [
    {
     "ename": "TypeError",
     "evalue": "<lambda>() takes 0 positional arguments but 1 was given",
     "output_type": "error",
     "traceback": [
      "\u001b[1;31m---------------------------------------------------------------------------\u001b[0m",
      "\u001b[1;31mTypeError\u001b[0m                                 Traceback (most recent call last)",
      "Cell \u001b[1;32mIn[9], line 1\u001b[0m\n\u001b[1;32m----> 1\u001b[0m \u001b[43m(\u001b[49m\u001b[38;5;28;43;01mlambda\u001b[39;49;00m\u001b[43m \u001b[49m\u001b[43m:\u001b[49m\u001b[43m \u001b[49m\u001b[38;5;28;43mprint\u001b[39;49m\u001b[43m(\u001b[49m\u001b[38;5;124;43m\"\u001b[39;49m\u001b[38;5;124;43mhello world\u001b[39;49m\u001b[38;5;124;43m\"\u001b[39;49m\u001b[43m,\u001b[49m\u001b[38;5;241;43m89\u001b[39;49m\u001b[43m)\u001b[49m\u001b[43m)\u001b[49m\u001b[43m(\u001b[49m\u001b[38;5;124;43m\"\u001b[39;49m\u001b[38;5;124;43mhello\u001b[39;49m\u001b[38;5;124;43m\"\u001b[39;49m\u001b[43m)\u001b[49m\n",
      "\u001b[1;31mTypeError\u001b[0m: <lambda>() takes 0 positional arguments but 1 was given"
     ]
    }
   ],
   "source": [
    "(lambda : print(\"hello world\",89))(\"hello\")"
   ]
  },
  {
   "cell_type": "code",
   "execution_count": 13,
   "id": "73a1ac41",
   "metadata": {},
   "outputs": [
    {
     "name": "stdout",
     "output_type": "stream",
     "text": [
      "hello world\n"
     ]
    }
   ],
   "source": [
    "(lambda:print(\"hello world\"))()   # print fucntion \n"
   ]
  },
  {
   "cell_type": "code",
   "execution_count": 24,
   "id": "db3ca5a3",
   "metadata": {},
   "outputs": [
    {
     "data": {
      "text/plain": [
       "15"
      ]
     },
     "execution_count": 24,
     "metadata": {},
     "output_type": "execute_result"
    }
   ],
   "source": [
    "(lambda x,y:(x+y))(10,5)   "
   ]
  },
  {
   "cell_type": "code",
   "execution_count": 10,
   "id": "0253397a",
   "metadata": {},
   "outputs": [
    {
     "name": "stdout",
     "output_type": "stream",
     "text": [
      "8 5 5 9 5 5\n"
     ]
    }
   ],
   "source": [
    "(lambda *number:print(*number))(8,5,5,9,5,5)"
   ]
  },
  {
   "cell_type": "code",
   "execution_count": 52,
   "id": "66fe1605",
   "metadata": {},
   "outputs": [
    {
     "ename": "SyntaxError",
     "evalue": "invalid syntax (1277903028.py, line 1)",
     "output_type": "error",
     "traceback": [
      "\u001b[1;36m  Cell \u001b[1;32mIn[52], line 1\u001b[1;36m\u001b[0m\n\u001b[1;33m    (lambda **number:print(**number))(\"english\":89,\"hindi\":90)\u001b[0m\n\u001b[1;37m                                               ^\u001b[0m\n\u001b[1;31mSyntaxError\u001b[0m\u001b[1;31m:\u001b[0m invalid syntax\n"
     ]
    }
   ],
   "source": [
    "(lambda **number:print(**number))(\"english\":89,\"hindi\":90)"
   ]
  },
  {
   "cell_type": "code",
   "execution_count": 19,
   "id": "45427c4b",
   "metadata": {},
   "outputs": [
    {
     "name": "stdout",
     "output_type": "stream",
     "text": [
      "hello world\n"
     ]
    }
   ],
   "source": [
    "(lambda:print(\"hello world\"))()"
   ]
  },
  {
   "cell_type": "code",
   "execution_count": 29,
   "id": "0ae51539",
   "metadata": {},
   "outputs": [
    {
     "ename": "SyntaxError",
     "evalue": "cannot assign to lambda (48990107.py, line 1)",
     "output_type": "error",
     "traceback": [
      "\u001b[1;36m  Cell \u001b[1;32mIn[29], line 1\u001b[1;36m\u001b[0m\n\u001b[1;33m    lambda  :  sum=9\u001b[0m\n\u001b[1;37m    ^\u001b[0m\n\u001b[1;31mSyntaxError\u001b[0m\u001b[1;31m:\u001b[0m cannot assign to lambda\n"
     ]
    }
   ],
   "source": [
    "sum=12                         # im not assigment value lambda function\n",
    "lambda  :  sum=9\n"
   ]
  },
  {
   "cell_type": "code",
   "execution_count": 30,
   "id": "7f6f3ba7",
   "metadata": {},
   "outputs": [
    {
     "data": {
      "text/plain": [
       "<filter at 0x1a6115bae60>"
      ]
     },
     "execution_count": 30,
     "metadata": {},
     "output_type": "execute_result"
    }
   ],
   "source": [
    "# Filter (function,iterable) # list set tuple dic string range\n",
    "filter(lambda x : x%2==0 , (1,2,3,4,5,6,7,8))        # only experssion value use for filter function"
   ]
  },
  {
   "cell_type": "code",
   "execution_count": 31,
   "id": "0c293aa1",
   "metadata": {},
   "outputs": [
    {
     "data": {
      "text/plain": [
       "[2, 4, 6, 8]"
      ]
     },
     "execution_count": 31,
     "metadata": {},
     "output_type": "execute_result"
    }
   ],
   "source": [
    "list(filter(lambda x : x%2==0 , (1,2,3,4,5,6,7,8)))"
   ]
  },
  {
   "cell_type": "code",
   "execution_count": 32,
   "id": "912257da",
   "metadata": {},
   "outputs": [
    {
     "data": {
      "text/plain": [
       "[1, 2, 3, 4, 5, 6, 7, 8]"
      ]
     },
     "execution_count": 32,
     "metadata": {},
     "output_type": "execute_result"
    }
   ],
   "source": [
    "list(filter(lambda x : True ,(1,2,3,4,5,6,7,8)))"
   ]
  },
  {
   "cell_type": "code",
   "execution_count": 33,
   "id": "2d181066",
   "metadata": {},
   "outputs": [
    {
     "data": {
      "text/plain": [
       "[]"
      ]
     },
     "execution_count": 33,
     "metadata": {},
     "output_type": "execute_result"
    }
   ],
   "source": [
    "list(filter(lambda x : False ,(1,2,3,4,5,6,7,8)))"
   ]
  },
  {
   "cell_type": "code",
   "execution_count": 34,
   "id": "4cf4a405",
   "metadata": {},
   "outputs": [
    {
     "data": {
      "text/plain": [
       "[1, 2, 3, 4, 5, 6, 7, 8]"
      ]
     },
     "execution_count": 34,
     "metadata": {},
     "output_type": "execute_result"
    }
   ],
   "source": [
    "list(filter(lambda x : \"string\" ,(1,2,3,4,5,6,7,8)))"
   ]
  },
  {
   "cell_type": "code",
   "execution_count": 35,
   "id": "0cffe8f9",
   "metadata": {},
   "outputs": [
    {
     "data": {
      "text/plain": [
       "[]"
      ]
     },
     "execution_count": 35,
     "metadata": {},
     "output_type": "execute_result"
    }
   ],
   "source": [
    "list(filter(lambda x : None ,(1,2,3,4,5,6,7,8)))"
   ]
  },
  {
   "cell_type": "code",
   "execution_count": 24,
   "id": "c9abfc96",
   "metadata": {},
   "outputs": [
    {
     "data": {
      "text/plain": [
       "[2, 4, 6, 8]"
      ]
     },
     "execution_count": 24,
     "metadata": {},
     "output_type": "execute_result"
    }
   ],
   "source": [
    "list(filter(lambda x : x%2==0,(range (1,10))))"
   ]
  },
  {
   "cell_type": "code",
   "execution_count": 42,
   "id": "d8e80c91",
   "metadata": {},
   "outputs": [
    {
     "name": "stdout",
     "output_type": "stream",
     "text": [
      "result is <map object at 0x000001A612C73F10>\n"
     ]
    }
   ],
   "source": [
    "# map(function,itreable)\n",
    "# take a dunction as a first argument and applies it to each of the elemet of the iterable\n",
    "list1 = [2,3,5,6]\n",
    "list2 = map(lambda x : x+2,(list1))\n",
    "print(\"result is\",list2)"
   ]
  },
  {
   "cell_type": "code",
   "execution_count": 43,
   "id": "648fa69f",
   "metadata": {},
   "outputs": [
    {
     "name": "stdout",
     "output_type": "stream",
     "text": [
      "result is [4, 5, 7, 8]\n"
     ]
    }
   ],
   "source": [
    "list1 = [2,3,5,6]\n",
    "list2 = list(map(lambda x : x+2,(list1)))\n",
    "print(\"result is\",list2)"
   ]
  },
  {
   "cell_type": "code",
   "execution_count": 44,
   "id": "e448d6de",
   "metadata": {},
   "outputs": [
    {
     "name": "stdout",
     "output_type": "stream",
     "text": [
      "result is ['data science', 'data science', 'data science', 'data science']\n"
     ]
    }
   ],
   "source": [
    "list1 = [2,3,5,6]                                   # iterable replace the value list1\n",
    "list2 = list(map(lambda x : \"data science\",(list1)))\n",
    "print(\"result is\",list2)"
   ]
  },
  {
   "cell_type": "code",
   "execution_count": 54,
   "id": "ce215738",
   "metadata": {},
   "outputs": [
    {
     "ename": "TypeError",
     "evalue": "map() must have at least two arguments.",
     "output_type": "error",
     "traceback": [
      "\u001b[1;31m---------------------------------------------------------------------------\u001b[0m",
      "\u001b[1;31mTypeError\u001b[0m                                 Traceback (most recent call last)",
      "Cell \u001b[1;32mIn[54], line 2\u001b[0m\n\u001b[0;32m      1\u001b[0m list1 \u001b[38;5;241m=\u001b[39m [\u001b[38;5;241m2\u001b[39m,\u001b[38;5;241m3\u001b[39m,\u001b[38;5;241m5\u001b[39m,\u001b[38;5;241m6\u001b[39m]                                   \u001b[38;5;66;03m# iterable replace the value list1\u001b[39;00m\n\u001b[1;32m----> 2\u001b[0m list2 \u001b[38;5;241m=\u001b[39m \u001b[38;5;28mlist\u001b[39m(\u001b[38;5;28;43mmap\u001b[39;49m\u001b[43m(\u001b[49m\u001b[38;5;28;43;01mlambda\u001b[39;49;00m\u001b[43m \u001b[49m\u001b[43mx\u001b[49m\u001b[43m \u001b[49m\u001b[43m:\u001b[49m\u001b[43m \u001b[49m\u001b[38;5;28;43mbool\u001b[39;49m\u001b[43m \u001b[49m\u001b[43m(\u001b[49m\u001b[43mlist1\u001b[49m\u001b[43m)\u001b[49m\u001b[43m)\u001b[49m)\n\u001b[0;32m      3\u001b[0m \u001b[38;5;28mprint\u001b[39m(\u001b[38;5;124m\"\u001b[39m\u001b[38;5;124mresult is\u001b[39m\u001b[38;5;124m\"\u001b[39m,list2)\n",
      "\u001b[1;31mTypeError\u001b[0m: map() must have at least two arguments."
     ]
    }
   ],
   "source": [
    "list1 = [2,3,5,6]                                   # iterable replace the value list1\n",
    "list2 = list(map(lambda x : bool (list1)))\n",
    "print(\"result is\",list2)"
   ]
  },
  {
   "cell_type": "code",
   "execution_count": 21,
   "id": "3dcdd602",
   "metadata": {},
   "outputs": [
    {
     "ename": "SyntaxError",
     "evalue": "expression cannot contain assignment, perhaps you meant \"==\"? (2186325890.py, line 1)",
     "output_type": "error",
     "traceback": [
      "\u001b[1;36m  Cell \u001b[1;32mIn[21], line 1\u001b[1;36m\u001b[0m\n\u001b[1;33m    print(list(filter(lambda x: x = range(1,12) ,  if x%2==0:  print(\"even number\",x) else:print(\"this is a odd number\",x()))))\u001b[0m\n\u001b[1;37m                      ^\u001b[0m\n\u001b[1;31mSyntaxError\u001b[0m\u001b[1;31m:\u001b[0m expression cannot contain assignment, perhaps you meant \"==\"?\n"
     ]
    }
   ],
   "source": [
    "print(list(filter(lambda x:, x = range(1,12) ,  if x%2==0:  print(\"even number\",x) else:print(\"this is a odd number\",x()))))\n"
   ]
  },
  {
   "cell_type": "code",
   "execution_count": 54,
   "id": "ca8b1b3c",
   "metadata": {},
   "outputs": [
    {
     "ename": "SyntaxError",
     "evalue": "invalid syntax (1438329031.py, line 2)",
     "output_type": "error",
     "traceback": [
      "\u001b[1;36m  Cell \u001b[1;32mIn[54], line 2\u001b[1;36m\u001b[0m\n\u001b[1;33m    print(list(filter(lambda x:  if x%2==0:    print(\"even number\",x)    else:    print(\"this is a odd number\",x)())))\u001b[0m\n\u001b[1;37m                                 ^\u001b[0m\n\u001b[1;31mSyntaxError\u001b[0m\u001b[1;31m:\u001b[0m invalid syntax\n"
     ]
    }
   ],
   "source": [
    "x = list(range(1,11))\n",
    "print(list(filter(lambda x:  if x%2==0:    print(\"even number\",x)    else:    print(\"this is a odd number\",x)())))"
   ]
  },
  {
   "cell_type": "code",
   "execution_count": 48,
   "id": "bda4e291",
   "metadata": {},
   "outputs": [
    {
     "ename": "SyntaxError",
     "evalue": "invalid syntax. Maybe you meant '==' or ':=' instead of '='? (1561281130.py, line 1)",
     "output_type": "error",
     "traceback": [
      "\u001b[1;36m  Cell \u001b[1;32mIn[48], line 1\u001b[1;36m\u001b[0m\n\u001b[1;33m    (list(filter(lambda x:  (x=y) if x%2==0: , else :(range ( 1,10)))))\u001b[0m\n\u001b[1;37m                             ^\u001b[0m\n\u001b[1;31mSyntaxError\u001b[0m\u001b[1;31m:\u001b[0m invalid syntax. Maybe you meant '==' or ':=' instead of '='?\n"
     ]
    }
   ],
   "source": [
    "(list(filter(lambda x:   if x%2print(list(filter(lambda x:, x = range(1,12) ,  if x%2==0:  print(\"even number\",x) else:print(\"this is a odd number\",x()))))==0: , else :(range ( 1,10)))))"
   ]
  },
  {
   "cell_type": "code",
   "execution_count": 57,
   "id": "76642057",
   "metadata": {},
   "outputs": [
    {
     "data": {
      "text/plain": [
       "[2, 4, 6, 8, 10, 12, 14, 16, 18]"
      ]
     },
     "execution_count": 57,
     "metadata": {},
     "output_type": "execute_result"
    }
   ],
   "source": [
    "list(filter(lambda x : x%2==0, (range(1,20))))"
   ]
  },
  {
   "cell_type": "code",
   "execution_count": null,
   "id": "00a0b5a5",
   "metadata": {},
   "outputs": [],
   "source": []
  }
 ],
 "metadata": {
  "kernelspec": {
   "display_name": "Python 3 (ipykernel)",
   "language": "python",
   "name": "python3"
  },
  "language_info": {
   "codemirror_mode": {
    "name": "ipython",
    "version": 3
   },
   "file_extension": ".py",
   "mimetype": "text/x-python",
   "name": "python",
   "nbconvert_exporter": "python",
   "pygments_lexer": "ipython3",
   "version": "3.10.9"
  }
 },
 "nbformat": 4,
 "nbformat_minor": 5
}
