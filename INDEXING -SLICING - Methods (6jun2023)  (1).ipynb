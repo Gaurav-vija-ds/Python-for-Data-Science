{
 "cells": [
  {
   "cell_type": "markdown",
   "id": "c12c129f",
   "metadata": {},
   "source": [
    "\n",
    "# INDEXING\n",
    " \n",
    "- Indexing means accessing individual characters(elemests) of a string by it position with in the string.\n",
    "\n",
    "\n",
    "\n",
    "\n",
    "\n",
    "# NOTE  : POSITIVE INDEXING STARTS WITH (0) \n",
    "- will also count the space and start from left to right\n",
    "# NOTE : Negivite indexing start with (-1)\n",
    "- will also count the space and start from right to left"
   ]
  },
  {
   "cell_type": "code",
   "execution_count": 1,
   "id": "12395027",
   "metadata": {},
   "outputs": [
    {
     "name": "stdout",
     "output_type": "stream",
     "text": [
      " \n"
     ]
    }
   ],
   "source": [
    "x = \"hello sir\"\n",
    "print(x[5])"
   ]
  },
  {
   "cell_type": "code",
   "execution_count": 1,
   "id": "27a93858",
   "metadata": {},
   "outputs": [
    {
     "name": "stdout",
     "output_type": "stream",
     "text": [
      "7\n"
     ]
    }
   ],
   "source": [
    "\n",
    "R = \"817121 8767\"\n",
    "print(R[8])"
   ]
  },
  {
   "cell_type": "code",
   "execution_count": 2,
   "id": "e881c0cf",
   "metadata": {},
   "outputs": [
    {
     "name": "stdout",
     "output_type": "stream",
     "text": [
      "r\n"
     ]
    }
   ],
   "source": [
    "x = \"hello sir im fine whtup\"\n",
    "print(x[8])"
   ]
  },
  {
   "cell_type": "code",
   "execution_count": 7,
   "id": "87bd71a7",
   "metadata": {},
   "outputs": [
    {
     "name": "stdout",
     "output_type": "stream",
     "text": [
      "  w s\n"
     ]
    }
   ],
   "source": [
    "y = \"hello sir how are you, good morning\"\n",
    "print(y[9],y[12],x[6])"
   ]
  },
  {
   "cell_type": "code",
   "execution_count": 7,
   "id": "4f410bc7",
   "metadata": {},
   "outputs": [
    {
     "name": "stdout",
     "output_type": "stream",
     "text": [
      "s\n"
     ]
    }
   ],
   "source": [
    "name =\"hello everyone my name is gaurav\"\n",
    "print(name[-8])"
   ]
  },
  {
   "cell_type": "code",
   "execution_count": 8,
   "id": "cc55bfed",
   "metadata": {},
   "outputs": [
    {
     "name": "stdout",
     "output_type": "stream",
     "text": [
      "m\n"
     ]
    }
   ],
   "source": [
    "print(name[-12])"
   ]
  },
  {
   "cell_type": "code",
   "execution_count": 9,
   "id": "199bbe9e",
   "metadata": {},
   "outputs": [
    {
     "name": "stdout",
     "output_type": "stream",
     "text": [
      "h n e y\n"
     ]
    }
   ],
   "source": [
    "Example = \"Pyhton is easy\"\n",
    "print(Example[-12],Example[-9],Example[-4],Example[-1])"
   ]
  },
  {
   "cell_type": "code",
   "execution_count": 10,
   "id": "65f41eea",
   "metadata": {},
   "outputs": [
    {
     "name": "stdout",
     "output_type": "stream",
     "text": [
      "h   e y\n"
     ]
    }
   ],
   "source": [
    "Example = \"Pyhton is easy\"\n",
    "print(Example[-12],Example[9],Example[-4],Example[1])"
   ]
  },
  {
   "cell_type": "code",
   "execution_count": 9,
   "id": "8f8f3181",
   "metadata": {},
   "outputs": [
    {
     "name": "stdout",
     "output_type": "stream",
     "text": [
      "4\n"
     ]
    }
   ],
   "source": [
    "Number = \"7895467467\"\n",
    "print(Number[-6])"
   ]
  },
  {
   "cell_type": "code",
   "execution_count": 10,
   "id": "912ebbdc",
   "metadata": {},
   "outputs": [
    {
     "name": "stdout",
     "output_type": "stream",
     "text": [
      "6\n"
     ]
    }
   ],
   "source": [
    "print(Number[5])"
   ]
  },
  {
   "cell_type": "code",
   "execution_count": 16,
   "id": "fb0da49d",
   "metadata": {},
   "outputs": [
    {
     "name": "stdout",
     "output_type": "stream",
     "text": [
      "n\n"
     ]
    },
    {
     "data": {
      "text/plain": [
       "(None, 'r', 'o', 'a')"
      ]
     },
     "execution_count": 16,
     "metadata": {},
     "output_type": "execute_result"
    }
   ],
   "source": [
    "Bike = \"bike name is hero xtreme\"\n",
    "print(Bike[5]),(Bike[-4]),(Bike[-8]),(Bike[6])\n"
   ]
  },
  {
   "cell_type": "markdown",
   "id": "730f30f1",
   "metadata": {},
   "source": [
    "# SLICING\n",
    "- Slicing means accessing a subset of a string based on its indices.(plural of index)\n",
    "# Positive Slicing."
   ]
  },
  {
   "cell_type": "code",
   "execution_count": 18,
   "id": "d55f574c",
   "metadata": {},
   "outputs": [
    {
     "data": {
      "text/plain": [
       "'PYHTON'"
      ]
     },
     "execution_count": 18,
     "metadata": {},
     "output_type": "execute_result"
    }
   ],
   "source": [
    "# String [start indedx : stop index]\n",
    "Example= \"PYHTON IS ESAY\"\n",
    "Example[0:6]"
   ]
  },
  {
   "cell_type": "code",
   "execution_count": 7,
   "id": "fe8d9b7f",
   "metadata": {},
   "outputs": [
    {
     "data": {
      "text/plain": [
       "'s'"
      ]
     },
     "execution_count": 7,
     "metadata": {},
     "output_type": "execute_result"
    }
   ],
   "source": [
    "Number[-6:9]"
   ]
  },
  {
   "cell_type": "code",
   "execution_count": 22,
   "id": "cff7c4bb",
   "metadata": {},
   "outputs": [
    {
     "name": "stdout",
     "output_type": "stream",
     "text": [
      "i\n"
     ]
    }
   ],
   "source": [
    "Number = 'Pyhton is easy'#exclued.\n",
    "print(Number[7:8])"
   ]
  },
  {
   "cell_type": "code",
   "execution_count": 5,
   "id": "c5684e64",
   "metadata": {},
   "outputs": [
    {
     "data": {
      "text/plain": [
       "'s ea'"
      ]
     },
     "execution_count": 5,
     "metadata": {},
     "output_type": "execute_result"
    }
   ],
   "source": [
    "Number[-6:-2]"
   ]
  },
  {
   "cell_type": "code",
   "execution_count": 6,
   "id": "ccea0b51",
   "metadata": {},
   "outputs": [
    {
     "data": {
      "text/plain": [
       "''"
      ]
     },
     "execution_count": 6,
     "metadata": {},
     "output_type": "execute_result"
    }
   ],
   "source": [
    "Number[-2:0]"
   ]
  },
  {
   "cell_type": "code",
   "execution_count": 23,
   "id": "cb764bfa",
   "metadata": {},
   "outputs": [
    {
     "name": "stdout",
     "output_type": "stream",
     "text": [
      "hto\n"
     ]
    }
   ],
   "source": [
    "print(Number[2:5]) "
   ]
  },
  {
   "cell_type": "code",
   "execution_count": 30,
   "id": "e9526c26",
   "metadata": {},
   "outputs": [
    {
     "name": "stdout",
     "output_type": "stream",
     "text": [
      "Gaura . ..... ...ri\n"
     ]
    }
   ],
   "source": [
    "Example = \"Gaurav............rishi\"\n",
    "print(Example[0:5],Example[7:8],Example[10:15],Example[15:20])"
   ]
  },
  {
   "cell_type": "code",
   "execution_count": 24,
   "id": "7299e1c0",
   "metadata": {},
   "outputs": [
    {
     "name": "stdout",
     "output_type": "stream",
     "text": [
      "Py\n"
     ]
    }
   ],
   "source": [
    "print(Number[0:2])"
   ]
  },
  {
   "cell_type": "code",
   "execution_count": 30,
   "id": "3f7256d8",
   "metadata": {},
   "outputs": [
    {
     "name": "stdout",
     "output_type": "stream",
     "text": [
      "lo \n"
     ]
    },
    {
     "data": {
      "text/plain": [
       "(None, 'hello s', 'lo si', 'how are')"
      ]
     },
     "execution_count": 30,
     "metadata": {},
     "output_type": "execute_result"
    }
   ],
   "source": [
    "Name = \"hello sir how are you\"\n",
    "print(Name[3:6]),(Name[0:7]),(Name[3:8]),(Name[10:17])"
   ]
  },
  {
   "cell_type": "code",
   "execution_count": 28,
   "id": "b3cd03f8",
   "metadata": {},
   "outputs": [
    {
     "data": {
      "text/plain": [
       "'how are you'"
      ]
     },
     "execution_count": 28,
     "metadata": {},
     "output_type": "execute_result"
    }
   ],
   "source": [
    "Name[10:]"
   ]
  },
  {
   "cell_type": "code",
   "execution_count": 41,
   "id": "1f9b1dde",
   "metadata": {},
   "outputs": [
    {
     "data": {
      "text/plain": [
       "'hello sir how a'"
      ]
     },
     "execution_count": 41,
     "metadata": {},
     "output_type": "execute_result"
    }
   ],
   "source": [
    "Name[:15]"
   ]
  },
  {
   "cell_type": "code",
   "execution_count": 36,
   "id": "59c6dbc4",
   "metadata": {},
   "outputs": [
    {
     "name": "stdout",
     "output_type": "stream",
     "text": [
      "IS\n"
     ]
    }
   ],
   "source": [
    "Example = \"Python IS easy\"\n",
    "print(Example[7:9])"
   ]
  },
  {
   "cell_type": "code",
   "execution_count": 12,
   "id": "4b4f1e2d",
   "metadata": {},
   "outputs": [
    {
     "name": "stdout",
     "output_type": "stream",
     "text": [
      "hello si , m\n"
     ]
    }
   ],
   "source": [
    "Example = \"hello sir, my name is gaurav\"\n",
    "print(Example[0:8],Example[9:12])"
   ]
  },
  {
   "cell_type": "code",
   "execution_count": 2,
   "id": "9dbc414a",
   "metadata": {},
   "outputs": [
    {
     "name": "stdout",
     "output_type": "stream",
     "text": [
      "\n"
     ]
    }
   ],
   "source": [
    "example = \"PYTHON IS EASY\"\n",
    "print(example[1000:10])"
   ]
  },
  {
   "cell_type": "markdown",
   "id": "8b9afd05",
   "metadata": {},
   "source": [
    "# Negative Slicing"
   ]
  },
  {
   "cell_type": "code",
   "execution_count": 42,
   "id": "b82d4b58",
   "metadata": {},
   "outputs": [
    {
     "data": {
      "text/plain": [
       "'PYTHON IS EASY'"
      ]
     },
     "execution_count": 42,
     "metadata": {},
     "output_type": "execute_result"
    }
   ],
   "source": [
    "example[:]"
   ]
  },
  {
   "cell_type": "code",
   "execution_count": 4,
   "id": "858bd80a",
   "metadata": {},
   "outputs": [
    {
     "name": "stdout",
     "output_type": "stream",
     "text": [
      "\n"
     ]
    }
   ],
   "source": [
    "example = \"python is easy \"# pyhton will move in forward direction.\n",
    "print(example[-1:-6:])"
   ]
  },
  {
   "cell_type": "code",
   "execution_count": 26,
   "id": "6dd15084",
   "metadata": {},
   "outputs": [
    {
     "name": "stdout",
     "output_type": "stream",
     "text": [
      " ysae\n"
     ]
    }
   ],
   "source": [
    "example = \"python is easy \"# pyhton will move in forward direction.\n",
    "print(example[-1:-6:-1])"
   ]
  },
  {
   "cell_type": "code",
   "execution_count": 27,
   "id": "2e19650c",
   "metadata": {},
   "outputs": [
    {
     "data": {
      "text/plain": [
       "''"
      ]
     },
     "execution_count": 27,
     "metadata": {},
     "output_type": "execute_result"
    }
   ],
   "source": [
    "example[-1:-6:4]"
   ]
  },
  {
   "cell_type": "code",
   "execution_count": 28,
   "id": "b1ea3118",
   "metadata": {},
   "outputs": [
    {
     "data": {
      "text/plain": [
       "' e'"
      ]
     },
     "execution_count": 28,
     "metadata": {},
     "output_type": "execute_result"
    }
   ],
   "source": [
    "example[-1:-6:-4]"
   ]
  },
  {
   "cell_type": "code",
   "execution_count": 43,
   "id": "7e6769d5",
   "metadata": {},
   "outputs": [
    {
     "data": {
      "text/plain": [
       "'THON IS E'"
      ]
     },
     "execution_count": 43,
     "metadata": {},
     "output_type": "execute_result"
    }
   ],
   "source": [
    "example[-12:-3]"
   ]
  },
  {
   "cell_type": "code",
   "execution_count": 52,
   "id": "6c44e248",
   "metadata": {},
   "outputs": [
    {
     "data": {
      "text/plain": [
       "''"
      ]
     },
     "execution_count": 52,
     "metadata": {},
     "output_type": "execute_result"
    }
   ],
   "source": [
    "example[-9:-15]"
   ]
  },
  {
   "cell_type": "code",
   "execution_count": 53,
   "id": "296adc61",
   "metadata": {},
   "outputs": [
    {
     "data": {
      "text/plain": [
       "'ON IS EASY'"
      ]
     },
     "execution_count": 53,
     "metadata": {},
     "output_type": "execute_result"
    }
   ],
   "source": [
    "example[-10:]"
   ]
  },
  {
   "cell_type": "code",
   "execution_count": 70,
   "id": "96b753de",
   "metadata": {},
   "outputs": [
    {
     "data": {
      "text/plain": [
       "'IS'"
      ]
     },
     "execution_count": 70,
     "metadata": {},
     "output_type": "execute_result"
    }
   ],
   "source": [
    "example[-7:9]"
   ]
  },
  {
   "cell_type": "code",
   "execution_count": 55,
   "id": "30304eae",
   "metadata": {},
   "outputs": [
    {
     "data": {
      "text/plain": [
       "'PYTHON'"
      ]
     },
     "execution_count": 55,
     "metadata": {},
     "output_type": "execute_result"
    }
   ],
   "source": [
    "example[:-8]"
   ]
  },
  {
   "cell_type": "code",
   "execution_count": 59,
   "id": "2523e3c6",
   "metadata": {},
   "outputs": [
    {
     "data": {
      "text/plain": [
       "'IS'"
      ]
     },
     "execution_count": 59,
     "metadata": {},
     "output_type": "execute_result"
    }
   ],
   "source": [
    "example[7:-5]"
   ]
  },
  {
   "cell_type": "code",
   "execution_count": 66,
   "id": "acfa1c93",
   "metadata": {},
   "outputs": [
    {
     "data": {
      "text/plain": [
       "' IS '"
      ]
     },
     "execution_count": 66,
     "metadata": {},
     "output_type": "execute_result"
    }
   ],
   "source": [
    "example[-8:10]"
   ]
  },
  {
   "cell_type": "code",
   "execution_count": 44,
   "id": "6c29f80a",
   "metadata": {},
   "outputs": [
    {
     "name": "stdout",
     "output_type": "stream",
     "text": [
      "od mor\n"
     ]
    }
   ],
   "source": [
    "Name =  \"hello sir good morning\"\n",
    "print(Name[-10:-4])"
   ]
  },
  {
   "cell_type": "code",
   "execution_count": 31,
   "id": "5add11b2",
   "metadata": {},
   "outputs": [
    {
     "name": "stdout",
     "output_type": "stream",
     "text": [
      "Easy\n"
     ]
    }
   ],
   "source": [
    "X = \"Pyhton Is Easy \"\n",
    "print(X[-5:14])"
   ]
  },
  {
   "cell_type": "code",
   "execution_count": 47,
   "id": "6062282a",
   "metadata": {},
   "outputs": [
    {
     "data": {
      "text/plain": [
       "'I'"
      ]
     },
     "execution_count": 47,
     "metadata": {},
     "output_type": "execute_result"
    }
   ],
   "source": [
    "X[-8:8]"
   ]
  },
  {
   "cell_type": "code",
   "execution_count": 3,
   "id": "79becda1",
   "metadata": {},
   "outputs": [
    {
     "data": {
      "text/plain": [
       "'n Is '"
      ]
     },
     "execution_count": 3,
     "metadata": {},
     "output_type": "execute_result"
    }
   ],
   "source": [
    "X = \"Pyhton Is Easy \"\n",
    "X[5:-5]"
   ]
  },
  {
   "cell_type": "code",
   "execution_count": 36,
   "id": "cfb9df9d",
   "metadata": {},
   "outputs": [
    {
     "data": {
      "text/plain": [
       "'I'"
      ]
     },
     "execution_count": 36,
     "metadata": {},
     "output_type": "execute_result"
    }
   ],
   "source": [
    "X[-8:-7]"
   ]
  },
  {
   "cell_type": "code",
   "execution_count": 48,
   "id": "9707c2ed",
   "metadata": {},
   "outputs": [
    {
     "name": "stdout",
     "output_type": "stream",
     "text": [
      "g\n"
     ]
    }
   ],
   "source": [
    "print(Name[-1:])"
   ]
  },
  {
   "cell_type": "code",
   "execution_count": 47,
   "id": "c342f66b",
   "metadata": {},
   "outputs": [
    {
     "name": "stdout",
     "output_type": "stream",
     "text": [
      "morning\n"
     ]
    }
   ],
   "source": [
    "print(Name[-7:])"
   ]
  },
  {
   "cell_type": "code",
   "execution_count": 50,
   "id": "b21813db",
   "metadata": {},
   "outputs": [
    {
     "name": "stdout",
     "output_type": "stream",
     "text": [
      " is gaurav\n"
     ]
    }
   ],
   "source": [
    "print(name[-10:])"
   ]
  },
  {
   "cell_type": "code",
   "execution_count": 6,
   "id": "1c09f79c",
   "metadata": {},
   "outputs": [
    {
     "name": "stdout",
     "output_type": "stream",
     "text": [
      "ir\n"
     ]
    }
   ],
   "source": [
    "X = \"lreaning to easy\"\n",
    "print (x[7:])"
   ]
  },
  {
   "cell_type": "code",
   "execution_count": 7,
   "id": "50d73f93",
   "metadata": {},
   "outputs": [
    {
     "name": "stdout",
     "output_type": "stream",
     "text": [
      "th \n"
     ]
    }
   ],
   "source": [
    "X = \"play with python\"\n",
    "print (X [7:-6])"
   ]
  },
  {
   "cell_type": "code",
   "execution_count": 12,
   "id": "d7d231d1",
   "metadata": {},
   "outputs": [
    {
     "name": "stdout",
     "output_type": "stream",
     "text": [
      "is\n"
     ]
    }
   ],
   "source": [
    "W = \"my name is gaurav \"\n",
    "print(W[8:-8])\n"
   ]
  },
  {
   "cell_type": "code",
   "execution_count": 27,
   "id": "87f9fd29",
   "metadata": {},
   "outputs": [
    {
     "name": "stdout",
     "output_type": "stream",
     "text": [
      "lo \n"
     ]
    }
   ],
   "source": [
    "C = \"hello sir\"\n",
    "print(C[-6:6])"
   ]
  },
  {
   "cell_type": "code",
   "execution_count": 29,
   "id": "4dd0d596",
   "metadata": {},
   "outputs": [
    {
     "name": "stdout",
     "output_type": "stream",
     "text": [
      "iam leraning python\n"
     ]
    }
   ],
   "source": [
    "C = \"iam leraning python\"\n",
    "print(C[-20:20])"
   ]
  },
  {
   "cell_type": "code",
   "execution_count": 38,
   "id": "a533194e",
   "metadata": {},
   "outputs": [
    {
     "name": "stdout",
     "output_type": "stream",
     "text": [
      "i am leraning python \n"
     ]
    }
   ],
   "source": [
    "C  = \" i am leraning python \"\n",
    "print(C[-21:])"
   ]
  },
  {
   "cell_type": "markdown",
   "id": "7d90caaa",
   "metadata": {},
   "source": [
    "# STRIDE -- Long Steeps\n",
    "- String slicing can also accept a third parameter,the stirde , which refes to many steps you want to take from the first character of the string.\n",
    "# Positive and Negavite Stride."
   ]
  },
  {
   "cell_type": "code",
   "execution_count": 40,
   "id": "761d3535",
   "metadata": {},
   "outputs": [
    {
     "name": "stdout",
     "output_type": "stream",
     "text": [
      "Poss\n"
     ]
    }
   ],
   "source": [
    "example = \"Python is easy\" ###String [start index :stop index : stride/step value] \n",
    "print(example[0:15:4])"
   ]
  },
  {
   "cell_type": "code",
   "execution_count": 41,
   "id": "fcb91894",
   "metadata": {},
   "outputs": [
    {
     "name": "stdout",
     "output_type": "stream",
     "text": [
      "ph  s\n"
     ]
    }
   ],
   "source": [
    "example = \"python is easy \"# pyhton will move in forward direction.\n",
    "print (example[0:14:3])"
   ]
  },
  {
   "cell_type": "code",
   "execution_count": 42,
   "id": "c9f3a018",
   "metadata": {},
   "outputs": [
    {
     "ename": "ValueError",
     "evalue": "slice step cannot be zero",
     "output_type": "error",
     "traceback": [
      "\u001b[1;31m---------------------------------------------------------------------------\u001b[0m",
      "\u001b[1;31mValueError\u001b[0m                                Traceback (most recent call last)",
      "Cell \u001b[1;32mIn[42], line 2\u001b[0m\n\u001b[0;32m      1\u001b[0m example \u001b[38;5;241m=\u001b[39m \u001b[38;5;124m\"\u001b[39m\u001b[38;5;124mpython is easy \u001b[39m\u001b[38;5;124m\"\u001b[39m\u001b[38;5;66;03m# pyhton will move in forward direction.\u001b[39;00m\n\u001b[1;32m----> 2\u001b[0m \u001b[38;5;28mprint\u001b[39m(\u001b[43mexample\u001b[49m\u001b[43m[\u001b[49m\u001b[43m:\u001b[49m\u001b[43m:\u001b[49m\u001b[38;5;241;43m0\u001b[39;49m\u001b[43m]\u001b[49m)\n",
      "\u001b[1;31mValueError\u001b[0m: slice step cannot be zero"
     ]
    }
   ],
   "source": [
    "example = \"python is easy \"# Slice step connot be zero\n",
    "\n",
    "print(example[::0])"
   ]
  },
  {
   "cell_type": "code",
   "execution_count": 44,
   "id": "11f4e332",
   "metadata": {},
   "outputs": [
    {
     "name": "stdout",
     "output_type": "stream",
     "text": [
      "hello sir i am fine\n"
     ]
    }
   ],
   "source": [
    "example = \"hello sir i am fine\"\n",
    "print(example[0::1])"
   ]
  },
  {
   "cell_type": "code",
   "execution_count": 46,
   "id": "b799ec68",
   "metadata": {},
   "outputs": [
    {
     "name": "stdout",
     "output_type": "stream",
     "text": [
      "olleh\n"
     ]
    }
   ],
   "source": [
    "example = \"hello sir\"\n",
    "print(example[-5::-1])"
   ]
  },
  {
   "cell_type": "code",
   "execution_count": 47,
   "id": "fec57398",
   "metadata": {},
   "outputs": [
    {
     "name": "stdout",
     "output_type": "stream",
     "text": [
      "s otp\n"
     ]
    }
   ],
   "source": [
    "example = \"python is easy\"\n",
    "print(example[-6::-2])"
   ]
  },
  {
   "cell_type": "code",
   "execution_count": 50,
   "id": "1aca4895",
   "metadata": {},
   "outputs": [
    {
     "name": "stdout",
     "output_type": "stream",
     "text": [
      "i\n"
     ]
    }
   ],
   "source": [
    "example = \"i am leraning pyhton\"\n",
    "print(example[-10:9:-3])"
   ]
  },
  {
   "cell_type": "code",
   "execution_count": 45,
   "id": "041d326f",
   "metadata": {},
   "outputs": [
    {
     "data": {
      "text/plain": [
       "'yp'"
      ]
     },
     "execution_count": 45,
     "metadata": {},
     "output_type": "execute_result"
    }
   ],
   "source": [
    "example = \"python is easy \"\n",
    "example[1::-1]\n"
   ]
  },
  {
   "cell_type": "code",
   "execution_count": 44,
   "id": "c35db973",
   "metadata": {},
   "outputs": [
    {
     "data": {
      "text/plain": [
       "' e t'"
      ]
     },
     "execution_count": 44,
     "metadata": {},
     "output_type": "execute_result"
    }
   ],
   "source": [
    "example = \"python is easy \"\n",
    "example[::-4]"
   ]
  },
  {
   "cell_type": "markdown",
   "id": "d732c220",
   "metadata": {},
   "source": [
    "# String Methods and Functions\n",
    "# Concatenation of String"
   ]
  },
  {
   "cell_type": "markdown",
   "id": "998e5569",
   "metadata": {},
   "source": [
    "# .upper()\n",
    "x.upper    (method)\n",
    "# .lower()\n",
    "x.lower"
   ]
  },
  {
   "cell_type": "code",
   "execution_count": 59,
   "id": "7422b4b2",
   "metadata": {},
   "outputs": [
    {
     "name": "stdout",
     "output_type": "stream",
     "text": [
      "HELLO WORLD\n"
     ]
    }
   ],
   "source": [
    "print(x.upper())"
   ]
  },
  {
   "cell_type": "code",
   "execution_count": 60,
   "id": "942df08b",
   "metadata": {},
   "outputs": [
    {
     "name": "stdout",
     "output_type": "stream",
     "text": [
      "HELLO WORLD\n"
     ]
    }
   ],
   "source": [
    "print(x.upper())"
   ]
  },
  {
   "cell_type": "code",
   "execution_count": 68,
   "id": "037c3b49",
   "metadata": {},
   "outputs": [
    {
     "name": "stdout",
     "output_type": "stream",
     "text": [
      "PYHTON IS EASY\n"
     ]
    }
   ],
   "source": [
    "X = \"pyhton is easy\"\n",
    "X = X.upper()\n",
    "print(X)"
   ]
  },
  {
   "cell_type": "code",
   "execution_count": 69,
   "id": "0b33eb14",
   "metadata": {},
   "outputs": [
    {
     "name": "stdout",
     "output_type": "stream",
     "text": [
      "PYHTON IS EASY \n",
      "Pyhton Is Easy \n"
     ]
    }
   ],
   "source": [
    "X = \"Pyhton Is Easy \"\n",
    "print(X.upper())\n",
    "print(X)"
   ]
  },
  {
   "cell_type": "code",
   "execution_count": 70,
   "id": "de6f1b49",
   "metadata": {},
   "outputs": [
    {
     "name": "stdout",
     "output_type": "stream",
     "text": [
      "pyhton is easy \n"
     ]
    }
   ],
   "source": [
    "print(X.lower())"
   ]
  },
  {
   "cell_type": "code",
   "execution_count": 71,
   "id": "2714f039",
   "metadata": {},
   "outputs": [
    {
     "name": "stdout",
     "output_type": "stream",
     "text": [
      "pyhton is easy \n"
     ]
    }
   ],
   "source": [
    "X = X.lower()\n",
    "print(X)"
   ]
  },
  {
   "cell_type": "code",
   "execution_count": 61,
   "id": "67ecbc8e",
   "metadata": {},
   "outputs": [
    {
     "name": "stdout",
     "output_type": "stream",
     "text": [
      "hello world\n"
     ]
    }
   ],
   "source": [
    "print(x.lower())\n"
   ]
  },
  {
   "cell_type": "code",
   "execution_count": 64,
   "id": "6278b1c7",
   "metadata": {},
   "outputs": [
    {
     "ename": "AttributeError",
     "evalue": "'NoneType' object has no attribute 'upper'",
     "output_type": "error",
     "traceback": [
      "\u001b[1;31m---------------------------------------------------------------------------\u001b[0m",
      "\u001b[1;31mAttributeError\u001b[0m                            Traceback (most recent call last)",
      "Cell \u001b[1;32mIn[64], line 1\u001b[0m\n\u001b[1;32m----> 1\u001b[0m x\u001b[38;5;241m=\u001b[39m \u001b[43mx\u001b[49m\u001b[38;5;241;43m.\u001b[39;49m\u001b[43mupper\u001b[49m()\n\u001b[0;32m      3\u001b[0m \u001b[38;5;28mprint\u001b[39m(x\u001b[38;5;241m.\u001b[39mupper)\n",
      "\u001b[1;31mAttributeError\u001b[0m: 'NoneType' object has no attribute 'upper'"
     ]
    }
   ],
   "source": [
    "x= x.upper()\n",
    "\n",
    "print(x.upper)"
   ]
  },
  {
   "cell_type": "markdown",
   "id": "50a3eb5a",
   "metadata": {},
   "source": [
    "# .Replace()"
   ]
  },
  {
   "cell_type": "code",
   "execution_count": 69,
   "id": "95e198c6",
   "metadata": {},
   "outputs": [
    {
     "name": "stdout",
     "output_type": "stream",
     "text": [
      "hezzo worzd\n"
     ]
    }
   ],
   "source": [
    "#. replace()\n",
    "x = \"hello world\"\n",
    "x= x.replace(\"l\",\"z\")\n",
    "print(x)"
   ]
  },
  {
   "cell_type": "code",
   "execution_count": 2,
   "id": "02aac892",
   "metadata": {},
   "outputs": [
    {
     "name": "stdout",
     "output_type": "stream",
     "text": [
      "hellr wrrld\n"
     ]
    }
   ],
   "source": [
    "x = \"hello world\"\n",
    "x = x.replace(\"o\",\"r\")\n",
    "\n",
    "print(x)"
   ]
  },
  {
   "cell_type": "code",
   "execution_count": 3,
   "id": "1c144905",
   "metadata": {},
   "outputs": [
    {
     "name": "stdout",
     "output_type": "stream",
     "text": [
      "heuur wrrud\n"
     ]
    }
   ],
   "source": [
    "x=x.replace(\"l\",\"u\")\n",
    "print(x)"
   ]
  },
  {
   "cell_type": "code",
   "execution_count": 14,
   "id": "3c86c310",
   "metadata": {},
   "outputs": [
    {
     "data": {
      "text/plain": [
       "'gello world'"
      ]
     },
     "execution_count": 14,
     "metadata": {},
     "output_type": "execute_result"
    }
   ],
   "source": [
    "x = \"hello world\" \n",
    "x = x.replace(\"h\",\"g\")\n",
    "x"
   ]
  },
  {
   "cell_type": "code",
   "execution_count": 15,
   "id": "4e82c0ac",
   "metadata": {},
   "outputs": [
    {
     "name": "stdout",
     "output_type": "stream",
     "text": [
      "hellg wgrld\n"
     ]
    }
   ],
   "source": [
    "y = \"hello world\"\n",
    "y =y.replace(\"o\",\"g\")\n",
    "print(y)"
   ]
  },
  {
   "cell_type": "code",
   "execution_count": 83,
   "id": "7e02ce81",
   "metadata": {},
   "outputs": [
    {
     "name": "stdout",
     "output_type": "stream",
     "text": [
      "heuurywrrud\n"
     ]
    }
   ],
   "source": [
    "x=  x.replace(\" \",\"y\")\n",
    "print(x)"
   ]
  },
  {
   "cell_type": "code",
   "execution_count": 87,
   "id": "5f68d861",
   "metadata": {},
   "outputs": [
    {
     "name": "stdout",
     "output_type": "stream",
     "text": [
      "wram stride\n"
     ]
    }
   ],
   "source": [
    "y = \"scold stride\"\n",
    "y= y.replace(\"scold\",\"wram\")\n",
    "print(y)"
   ]
  },
  {
   "cell_type": "code",
   "execution_count": 88,
   "id": "1b94ecc5",
   "metadata": {},
   "outputs": [
    {
     "name": "stdout",
     "output_type": "stream",
     "text": [
      "GUARAV\n"
     ]
    }
   ],
   "source": [
    "Number = \"guarav\"\n",
    "Number = Number.upper()\n",
    "print(Number)"
   ]
  },
  {
   "cell_type": "code",
   "execution_count": 72,
   "id": "e985235c",
   "metadata": {},
   "outputs": [
    {
     "name": "stdout",
     "output_type": "stream",
     "text": [
      "GAURAV\n",
      "gaurav\n",
      "Gourov\n"
     ]
    }
   ],
   "source": [
    "Name =  \"Gaurav\"\n",
    "print(Name.upper())\n",
    "print(Name.lower())\n",
    "print(Name.replace(\"a\",\"o\"))"
   ]
  },
  {
   "cell_type": "code",
   "execution_count": 75,
   "id": "272e78cf",
   "metadata": {},
   "outputs": [
    {
     "name": "stdout",
     "output_type": "stream",
     "text": [
      "Hello_sir_i_am_a_data_sicenstist\n"
     ]
    }
   ],
   "source": [
    "Name = \"Hello sir i am a data sicenstist\"\n",
    "Name = Name.replace(\" \",\"_\")\n",
    "print(Name)\n"
   ]
  },
  {
   "cell_type": "code",
   "execution_count": 77,
   "id": "45315f0d",
   "metadata": {},
   "outputs": [
    {
     "name": "stdout",
     "output_type": "stream",
     "text": [
      "-H-e-l-l-o- -s-i-r- -i- -a-m- -a- -d-a-t-a- -s-i-c-e-n-s-t-i-s-t-\n"
     ]
    }
   ],
   "source": [
    "Name = \"Hello sir i am a data sicenstist\"\n",
    "Name = Name.replace(\"\",\"-\")\n",
    "print(Name)"
   ]
  },
  {
   "cell_type": "code",
   "execution_count": 82,
   "id": "1d21d93a",
   "metadata": {},
   "outputs": [
    {
     "name": "stdout",
     "output_type": "stream",
     "text": [
      "DATA\n",
      "data\n",
      "-D-A-T-A-\n"
     ]
    }
   ],
   "source": [
    "X = \"DATA\"\n",
    "print(X.upper())\n",
    "print(X.lower())\n",
    "print(X.replace(\"\",\"-\"))"
   ]
  },
  {
   "cell_type": "code",
   "execution_count": 5,
   "id": "fc02110b",
   "metadata": {},
   "outputs": [
    {
     "name": "stdout",
     "output_type": "stream",
     "text": [
      "ROHIT\n",
      "rohit\n",
      "-r-o-h-i-t-\n"
     ]
    }
   ],
   "source": [
    "x = \"rohit\" \n",
    "print(x.upper())\n",
    "print(x.lower())\n",
    "print(x.replace(\"\",\"-\"))\n",
    "\n",
    "\n"
   ]
  },
  {
   "cell_type": "code",
   "execution_count": 88,
   "id": "174a47e8",
   "metadata": {},
   "outputs": [
    {
     "name": "stdout",
     "output_type": "stream",
     "text": [
      "dhellothello\n"
     ]
    }
   ],
   "source": [
    "X = \"DATA\"\n",
    "X=X.replace(\"A\",\"hello\").upper().lower()\n",
    "\n",
    "\n",
    "print(X)"
   ]
  },
  {
   "cell_type": "code",
   "execution_count": 89,
   "id": "24d26cc4",
   "metadata": {},
   "outputs": [
    {
     "name": "stdout",
     "output_type": "stream",
     "text": [
      "GAURAVGUNJAN\n"
     ]
    }
   ],
   "source": [
    "Name = \"gauravgunjan\"\n",
    "Name= Name.upper()\n",
    "print(Name)"
   ]
  },
  {
   "cell_type": "code",
   "execution_count": 91,
   "id": "6221f6d5",
   "metadata": {},
   "outputs": [
    {
     "name": "stdout",
     "output_type": "stream",
     "text": [
      "hello sir good morning\n"
     ]
    }
   ],
   "source": [
    "Wish= \"HELLO SIR GOOD MORNING\"\n",
    "Wish = Wish.lower()\n",
    "print(Wish)\n"
   ]
  },
  {
   "cell_type": "code",
   "execution_count": 92,
   "id": "f97ac1ae",
   "metadata": {},
   "outputs": [
    {
     "ename": "TypeError",
     "evalue": "count() takes at least 1 argument (0 given)",
     "output_type": "error",
     "traceback": [
      "\u001b[1;31m---------------------------------------------------------------------------\u001b[0m",
      "\u001b[1;31mTypeError\u001b[0m                                 Traceback (most recent call last)",
      "Cell \u001b[1;32mIn[92], line 2\u001b[0m\n\u001b[0;32m      1\u001b[0m Number \u001b[38;5;241m=\u001b[39m \u001b[38;5;124m\"\u001b[39m\u001b[38;5;124mgaurav\u001b[39m\u001b[38;5;124m\"\u001b[39m\n\u001b[1;32m----> 2\u001b[0m Number \u001b[38;5;241m=\u001b[39m \u001b[43mNumber\u001b[49m\u001b[38;5;241;43m.\u001b[39;49m\u001b[43mcount\u001b[49m\u001b[43m(\u001b[49m\u001b[43m)\u001b[49m\n\u001b[0;32m      3\u001b[0m \u001b[38;5;28mprint\u001b[39m(Number)\n",
      "\u001b[1;31mTypeError\u001b[0m: count() takes at least 1 argument (0 given)"
     ]
    }
   ],
   "source": [
    "Number = \"gaurav\"\n",
    "Number = Number.count()\n",
    "print(Number)"
   ]
  },
  {
   "cell_type": "code",
   "execution_count": 93,
   "id": "6a9cec86",
   "metadata": {},
   "outputs": [
    {
     "name": "stdout",
     "output_type": "stream",
     "text": [
      "1\n"
     ]
    }
   ],
   "source": [
    "#.count()\n",
    "Number = \"gaurav\"\n",
    "Number = Number.count(Number)\n",
    "print(Number)"
   ]
  },
  {
   "cell_type": "code",
   "execution_count": 94,
   "id": "ece663d3",
   "metadata": {},
   "outputs": [
    {
     "name": "stdout",
     "output_type": "stream",
     "text": [
      "gourov gunjon\n"
     ]
    }
   ],
   "source": [
    "Number = \"gaurav gunjan\"\n",
    "Number = Number.replace(\"a\",\"o\")\n",
    "print(Number)"
   ]
  },
  {
   "cell_type": "code",
   "execution_count": 4,
   "id": "2c385e81",
   "metadata": {},
   "outputs": [
    {
     "name": "stdout",
     "output_type": "stream",
     "text": [
      "1\n"
     ]
    }
   ],
   "source": [
    "Numer = \"gaurav is very good preson gaurav is most fablous data seicenetest\"\n",
    "Numer = Numer.count(Numer)\n",
    "print(Numer)"
   ]
  },
  {
   "cell_type": "code",
   "execution_count": 98,
   "id": "53015dba",
   "metadata": {},
   "outputs": [
    {
     "data": {
      "text/plain": [
       "2"
      ]
     },
     "execution_count": 98,
     "metadata": {},
     "output_type": "execute_result"
    }
   ],
   "source": [
    "Numer = \"gaurav is very good preson gaurav is most fablous data seicenetest\"\n",
    "Numer = Numer.count(\"gaurav\")\n",
    "Numer"
   ]
  },
  {
   "cell_type": "code",
   "execution_count": 6,
   "id": "5323e1b8",
   "metadata": {},
   "outputs": [
    {
     "data": {
      "text/plain": [
       "2"
      ]
     },
     "execution_count": 6,
     "metadata": {},
     "output_type": "execute_result"
    }
   ],
   "source": [
    "Numer = \"gaurav is very good preson gaurav is most fablous data seicenetest\"\n",
    "\n",
    "Numer.count(\"is\")"
   ]
  },
  {
   "cell_type": "code",
   "execution_count": 18,
   "id": "4149f169",
   "metadata": {},
   "outputs": [
    {
     "data": {
      "text/plain": [
       "3"
      ]
     },
     "execution_count": 18,
     "metadata": {},
     "output_type": "execute_result"
    }
   ],
   "source": [
    "Numer = \"gaurav is very good preson gaurav is most fablous data seicenetest\"\n",
    "Numer.count(\"i\")"
   ]
  },
  {
   "cell_type": "markdown",
   "id": "b2733481",
   "metadata": {},
   "source": [
    "# endswith()\n",
    "- Only select to end string than give (true&false)\n",
    "- The endswith () method is a string method that allow you to check if string ending with letter or not.. "
   ]
  },
  {
   "cell_type": "code",
   "execution_count": 1,
   "id": "09812300",
   "metadata": {},
   "outputs": [
    {
     "data": {
      "text/plain": [
       "True"
      ]
     },
     "execution_count": 1,
     "metadata": {},
     "output_type": "execute_result"
    }
   ],
   "source": [
    "X = \"hello world\"\n",
    "X.endswith(\"orld\")"
   ]
  },
  {
   "cell_type": "code",
   "execution_count": 3,
   "id": "6787098a",
   "metadata": {},
   "outputs": [
    {
     "data": {
      "text/plain": [
       "True"
      ]
     },
     "execution_count": 3,
     "metadata": {},
     "output_type": "execute_result"
    }
   ],
   "source": [
    "X.endswith(\"\")"
   ]
  },
  {
   "cell_type": "code",
   "execution_count": 2,
   "id": "7e25cab1",
   "metadata": {
    "scrolled": true
   },
   "outputs": [
    {
     "data": {
      "text/plain": [
       "False"
      ]
     },
     "execution_count": 2,
     "metadata": {},
     "output_type": "execute_result"
    }
   ],
   "source": [
    "X.endswith(\" \")"
   ]
  },
  {
   "cell_type": "code",
   "execution_count": 8,
   "id": "77950e6f",
   "metadata": {},
   "outputs": [
    {
     "ename": "TypeError",
     "evalue": "endswith() takes at least 1 argument (0 given)",
     "output_type": "error",
     "traceback": [
      "\u001b[1;31m---------------------------------------------------------------------------\u001b[0m",
      "\u001b[1;31mTypeError\u001b[0m                                 Traceback (most recent call last)",
      "Cell \u001b[1;32mIn[8], line 2\u001b[0m\n\u001b[0;32m      1\u001b[0m X \u001b[38;5;241m=\u001b[39m \u001b[38;5;124m\"\u001b[39m\u001b[38;5;124mhello world\u001b[39m\u001b[38;5;124m\"\u001b[39m\n\u001b[1;32m----> 2\u001b[0m \u001b[43mX\u001b[49m\u001b[38;5;241;43m.\u001b[39;49m\u001b[43mendswith\u001b[49m\u001b[43m(\u001b[49m\u001b[43m)\u001b[49m\n",
      "\u001b[1;31mTypeError\u001b[0m: endswith() takes at least 1 argument (0 given)"
     ]
    }
   ],
   "source": [
    "X = \"hello world\"\n",
    "X.endswith()"
   ]
  },
  {
   "cell_type": "code",
   "execution_count": 10,
   "id": "dd2eccda",
   "metadata": {},
   "outputs": [
    {
     "data": {
      "text/plain": [
       "False"
      ]
     },
     "execution_count": 10,
     "metadata": {},
     "output_type": "execute_result"
    }
   ],
   "source": [
    "X.endswith(\"ello ld\")"
   ]
  },
  {
   "cell_type": "code",
   "execution_count": 11,
   "id": "c30f91f8",
   "metadata": {},
   "outputs": [
    {
     "data": {
      "text/plain": [
       "False"
      ]
     },
     "execution_count": 11,
     "metadata": {},
     "output_type": "execute_result"
    }
   ],
   "source": [
    "X.endswith(\"hello\")"
   ]
  },
  {
   "cell_type": "code",
   "execution_count": 12,
   "id": "de17f2fa",
   "metadata": {},
   "outputs": [
    {
     "data": {
      "text/plain": [
       "True"
      ]
     },
     "execution_count": 12,
     "metadata": {},
     "output_type": "execute_result"
    }
   ],
   "source": [
    "X.endswith(\"rld\")"
   ]
  },
  {
   "cell_type": "code",
   "execution_count": 13,
   "id": "ef880409",
   "metadata": {},
   "outputs": [
    {
     "data": {
      "text/plain": [
       "True"
      ]
     },
     "execution_count": 13,
     "metadata": {},
     "output_type": "execute_result"
    }
   ],
   "source": [
    "X = \"hello maam\"\n",
    "X.endswith(\"am\")"
   ]
  },
  {
   "cell_type": "code",
   "execution_count": 14,
   "id": "199715a3",
   "metadata": {},
   "outputs": [
    {
     "data": {
      "text/plain": [
       "'hello maam'"
      ]
     },
     "execution_count": 14,
     "metadata": {},
     "output_type": "execute_result"
    }
   ],
   "source": [
    "X"
   ]
  },
  {
   "cell_type": "code",
   "execution_count": 15,
   "id": "ca397998",
   "metadata": {},
   "outputs": [
    {
     "data": {
      "text/plain": [
       "True"
      ]
     },
     "execution_count": 15,
     "metadata": {},
     "output_type": "execute_result"
    }
   ],
   "source": [
    "X.endswith(\"maam\")"
   ]
  },
  {
   "cell_type": "markdown",
   "id": "4b5bb596",
   "metadata": {},
   "source": [
    "# Split() []\n",
    "- if you want to divide string datatype in diffrent part then us use split () method\n",
    " - split is a string method."
   ]
  },
  {
   "cell_type": "code",
   "execution_count": 6,
   "id": "81a2dc5f",
   "metadata": {},
   "outputs": [
    {
     "data": {
      "text/plain": [
       "['he', 'o world']"
      ]
     },
     "execution_count": 6,
     "metadata": {},
     "output_type": "execute_result"
    }
   ],
   "source": [
    "X.split(\"ll\")"
   ]
  },
  {
   "cell_type": "code",
   "execution_count": 10,
   "id": "bc7bd91d",
   "metadata": {},
   "outputs": [
    {
     "data": {
      "text/plain": [
       "['hello', 'world']"
      ]
     },
     "execution_count": 10,
     "metadata": {},
     "output_type": "execute_result"
    }
   ],
   "source": [
    "X = \"hello world\"\n",
    "X.split()  # If the arugment is  not given then the string by space"
   ]
  },
  {
   "cell_type": "code",
   "execution_count": 5,
   "id": "c4ca12a2",
   "metadata": {
    "collapsed": true
   },
   "outputs": [
    {
     "ename": "ValueError",
     "evalue": "empty separator",
     "output_type": "error",
     "traceback": [
      "\u001b[1;31m---------------------------------------------------------------------------\u001b[0m",
      "\u001b[1;31mValueError\u001b[0m                                Traceback (most recent call last)",
      "Cell \u001b[1;32mIn[5], line 1\u001b[0m\n\u001b[1;32m----> 1\u001b[0m \u001b[43mX\u001b[49m\u001b[38;5;241;43m.\u001b[39;49m\u001b[43msplit\u001b[49m\u001b[43m(\u001b[49m\u001b[38;5;124;43m\"\u001b[39;49m\u001b[38;5;124;43m\"\u001b[39;49m\u001b[43m)\u001b[49m\n",
      "\u001b[1;31mValueError\u001b[0m: empty separator"
     ]
    }
   ],
   "source": [
    "X.split(\"\")"
   ]
  },
  {
   "cell_type": "code",
   "execution_count": 10,
   "id": "ed670331",
   "metadata": {},
   "outputs": [
    {
     "data": {
      "text/plain": [
       "False"
      ]
     },
     "execution_count": 10,
     "metadata": {},
     "output_type": "execute_result"
    }
   ],
   "source": [
    "Numer = \"gaurav is very good preson gaurav is most fablous data seicenetest\"\n",
    "Numer.endswith(\"z\")\n"
   ]
  },
  {
   "cell_type": "code",
   "execution_count": 16,
   "id": "7d56fc0f",
   "metadata": {},
   "outputs": [
    {
     "data": {
      "text/plain": [
       "['Hello ', 'one']"
      ]
     },
     "execution_count": 16,
     "metadata": {},
     "output_type": "execute_result"
    }
   ],
   "source": [
    "X = \"Hello Everyone\"\n",
    "X.split(\"Every\")"
   ]
  },
  {
   "cell_type": "code",
   "execution_count": 18,
   "id": "0534d923",
   "metadata": {},
   "outputs": [
    {
     "data": {
      "text/plain": [
       "['Hello Every', '']"
      ]
     },
     "execution_count": 18,
     "metadata": {},
     "output_type": "execute_result"
    }
   ],
   "source": [
    "X.split(\"one\")"
   ]
  },
  {
   "cell_type": "code",
   "execution_count": 20,
   "id": "4d494f26",
   "metadata": {},
   "outputs": [
    {
     "data": {
      "text/plain": [
       "['', ' Everyone']"
      ]
     },
     "execution_count": 20,
     "metadata": {},
     "output_type": "execute_result"
    }
   ],
   "source": [
    "X.split(\"Hello\")"
   ]
  },
  {
   "cell_type": "code",
   "execution_count": 21,
   "id": "3c0631a2",
   "metadata": {},
   "outputs": [
    {
     "data": {
      "text/plain": [
       "['H', ' Everyone']"
      ]
     },
     "execution_count": 21,
     "metadata": {},
     "output_type": "execute_result"
    }
   ],
   "source": [
    "X.split(\"ello\")"
   ]
  },
  {
   "cell_type": "code",
   "execution_count": 17,
   "id": "42bdbecb",
   "metadata": {
    "scrolled": true
   },
   "outputs": [
    {
     "data": {
      "text/plain": [
       "['potato', 'tomato', 'slat', 'Spice']"
      ]
     },
     "execution_count": 17,
     "metadata": {},
     "output_type": "execute_result"
    }
   ],
   "source": [
    "Veg = \"potato,tomato,slat,Spice\"\n",
    "Veg.split(\",\")"
   ]
  },
  {
   "cell_type": "markdown",
   "id": "0411c5a9",
   "metadata": {},
   "source": [
    "# Find\n",
    "- kisi charatcer ko find krne ke liye Find methods\n",
    "- This method retrun indexing number."
   ]
  },
  {
   "cell_type": "code",
   "execution_count": 33,
   "id": "fcf21edc",
   "metadata": {},
   "outputs": [
    {
     "data": {
      "text/plain": [
       "1"
      ]
     },
     "execution_count": 33,
     "metadata": {},
     "output_type": "execute_result"
    }
   ],
   "source": [
    "\n",
    "\n",
    "Veg.find(\"o\")\n",
    "\n"
   ]
  },
  {
   "cell_type": "code",
   "execution_count": 34,
   "id": "5b30a7f7",
   "metadata": {},
   "outputs": [
    {
     "data": {
      "text/plain": [
       "9"
      ]
     },
     "execution_count": 34,
     "metadata": {},
     "output_type": "execute_result"
    }
   ],
   "source": [
    "Veg.find(\"ma\")"
   ]
  },
  {
   "cell_type": "code",
   "execution_count": 35,
   "id": "e0f734f0",
   "metadata": {},
   "outputs": [
    {
     "ename": "TypeError",
     "evalue": "slice indices must be integers or None or have an __index__ method",
     "output_type": "error",
     "traceback": [
      "\u001b[1;31m---------------------------------------------------------------------------\u001b[0m",
      "\u001b[1;31mTypeError\u001b[0m                                 Traceback (most recent call last)",
      "Cell \u001b[1;32mIn[35], line 1\u001b[0m\n\u001b[1;32m----> 1\u001b[0m \u001b[43mVeg\u001b[49m\u001b[38;5;241;43m.\u001b[39;49m\u001b[43mfind\u001b[49m\u001b[43m(\u001b[49m\u001b[38;5;124;43m\"\u001b[39;49m\u001b[38;5;124;43mta\u001b[39;49m\u001b[38;5;124;43m\"\u001b[39;49m\u001b[43m,\u001b[49m\u001b[38;5;124;43m\"\u001b[39;49m\u001b[38;5;124;43mpi\u001b[39;49m\u001b[38;5;124;43m\"\u001b[39;49m\u001b[43m)\u001b[49m\n",
      "\u001b[1;31mTypeError\u001b[0m: slice indices must be integers or None or have an __index__ method"
     ]
    }
   ],
   "source": [
    "Veg.find(\"ta\",\"pi\")"
   ]
  },
  {
   "cell_type": "code",
   "execution_count": 36,
   "id": "6f2174f3",
   "metadata": {},
   "outputs": [
    {
     "data": {
      "text/plain": [
       "2"
      ]
     },
     "execution_count": 36,
     "metadata": {},
     "output_type": "execute_result"
    }
   ],
   "source": [
    "Veg.find(\"ta\")"
   ]
  },
  {
   "cell_type": "code",
   "execution_count": 39,
   "id": "f15e375a",
   "metadata": {},
   "outputs": [
    {
     "ename": "TypeError",
     "evalue": "'int' object is not callable",
     "output_type": "error",
     "traceback": [
      "\u001b[1;31m---------------------------------------------------------------------------\u001b[0m",
      "\u001b[1;31mTypeError\u001b[0m                                 Traceback (most recent call last)",
      "Cell \u001b[1;32mIn[39], line 1\u001b[0m\n\u001b[1;32m----> 1\u001b[0m \u001b[43mVeg\u001b[49m\u001b[38;5;241;43m.\u001b[39;49m\u001b[43mfind\u001b[49m\u001b[43m(\u001b[49m\u001b[38;5;124;43m\"\u001b[39;49m\u001b[38;5;124;43mto\u001b[39;49m\u001b[38;5;124;43m\"\u001b[39;49m\u001b[43m)\u001b[49m\u001b[43m(\u001b[49m\u001b[38;5;124;43m\"\u001b[39;49m\u001b[38;5;124;43msl\u001b[39;49m\u001b[38;5;124;43m\"\u001b[39;49m\u001b[43m)\u001b[49m\n",
      "\u001b[1;31mTypeError\u001b[0m: 'int' object is not callable"
     ]
    }
   ],
   "source": [
    "Veg.find(\"to\")(\"sl\")"
   ]
  },
  {
   "cell_type": "code",
   "execution_count": 40,
   "id": "fa1f26ad",
   "metadata": {},
   "outputs": [
    {
     "data": {
      "text/plain": [
       "-1"
      ]
     },
     "execution_count": 40,
     "metadata": {},
     "output_type": "execute_result"
    }
   ],
   "source": [
    "Veg = \"potato,tomato,slat,Spice\"\n",
    "Veg.find(\"oota\")"
   ]
  },
  {
   "cell_type": "code",
   "execution_count": 41,
   "id": "6b125130",
   "metadata": {},
   "outputs": [
    {
     "data": {
      "text/plain": [
       "-1"
      ]
     },
     "execution_count": 41,
     "metadata": {},
     "output_type": "execute_result"
    }
   ],
   "source": [
    "Veg.find(\"tals\")"
   ]
  },
  {
   "cell_type": "markdown",
   "id": "5e5dcd9f",
   "metadata": {},
   "source": [
    "# Len Function.\n",
    "- Retrun length of string."
   ]
  },
  {
   "cell_type": "code",
   "execution_count": 43,
   "id": "d30beb14",
   "metadata": {},
   "outputs": [
    {
     "data": {
      "text/plain": [
       "34"
      ]
     },
     "execution_count": 43,
     "metadata": {},
     "output_type": "execute_result"
    }
   ],
   "source": [
    "X = \"python python is esay pic at learn\"\n",
    "len(X)"
   ]
  },
  {
   "cell_type": "code",
   "execution_count": 44,
   "id": "6b4a97d8",
   "metadata": {},
   "outputs": [
    {
     "data": {
      "text/plain": [
       "32"
      ]
     },
     "execution_count": 44,
     "metadata": {},
     "output_type": "execute_result"
    }
   ],
   "source": [
    "X = \"rishi is a bestfriend for gaurav\"\n",
    "len(X)"
   ]
  },
  {
   "cell_type": "code",
   "execution_count": 45,
   "id": "e2c8155c",
   "metadata": {},
   "outputs": [
    {
     "data": {
      "text/plain": [
       "19"
      ]
     },
     "execution_count": 45,
     "metadata": {},
     "output_type": "execute_result"
    }
   ],
   "source": [
    "len(\"   gaurvanjsdjhfksh\")"
   ]
  },
  {
   "cell_type": "code",
   "execution_count": 8,
   "id": "48d517e1",
   "metadata": {},
   "outputs": [
    {
     "data": {
      "text/plain": [
       "12"
      ]
     },
     "execution_count": 8,
     "metadata": {},
     "output_type": "execute_result"
    }
   ],
   "source": [
    "X = \"123455667788\"\n",
    "len(X)"
   ]
  },
  {
   "cell_type": "code",
   "execution_count": 19,
   "id": "33aa5fda",
   "metadata": {
    "scrolled": true
   },
   "outputs": [
    {
     "ename": "TypeError",
     "evalue": "object of type 'int' has no len()",
     "output_type": "error",
     "traceback": [
      "\u001b[1;31m---------------------------------------------------------------------------\u001b[0m",
      "\u001b[1;31mTypeError\u001b[0m                                 Traceback (most recent call last)",
      "Cell \u001b[1;32mIn[19], line 2\u001b[0m\n\u001b[0;32m      1\u001b[0m X \u001b[38;5;241m=\u001b[39m (\u001b[38;5;241m1234656658796896988698\u001b[39m)\n\u001b[1;32m----> 2\u001b[0m \u001b[38;5;28;43mlen\u001b[39;49m\u001b[43m(\u001b[49m\u001b[43mX\u001b[49m\u001b[43m)\u001b[49m\n",
      "\u001b[1;31mTypeError\u001b[0m: object of type 'int' has no len()"
     ]
    }
   ],
   "source": [
    "X = (1234656658796896988698)\n",
    "len(X)"
   ]
  },
  {
   "cell_type": "markdown",
   "id": "9ec8740c",
   "metadata": {},
   "source": [
    "# Tokens\n",
    "- A Token is the smallest indiviual unit in python. all statements and instruction in a program are bulit with token. \n",
    "  # Keyword :\n",
    "    - Keyword are special words which have a unqiue meaning and purpose in Python\n",
    "     - keyword cannot be used as variable names, function name etc.\n",
    "  #  Identifiers :\n",
    "    - identifiers are Name given to any variable ,class,function ,method etc.\n",
    "  # Literals : \n",
    "    - Literals are simply the raw data that is assigned into the variables.   \n",
    "      # Literals\n",
    "1.  String Literal\n",
    "2. Numeric Literal\n",
    "        \n",
    "        A. Float\n",
    "        B. Integer\n",
    "        C. Complex\n",
    "         \n",
    "3. Boolean Literal\n",
    "4. Special Literal(None)\n",
    "5. Literal Collections \n",
    "\n",
    "\n",
    "         A. List Literal\n",
    "         B. Tuple Literal\n",
    "         C. Dicitonary Literal\n",
    "         D. Set Literal\n",
    "      \n",
    "   \n",
    "   # Operators : \n",
    "   - Operators are symblos which are used to perfrom ja specific operation between values.\n",
    "              \n",
    "          1. Arithmetic Operators\n",
    "          2. Comparsion\n",
    "          3. Assigment\n",
    "          4. Logical\n",
    "          5. Bitwise \n",
    "          6. Membership\n",
    "          7. Identity Operators\n",
    "          \n",
    "   # Precedence (Bodmas)\n",
    "      - ()\n",
    "      - **\n",
    "      - *,/,//,%\n",
    "      - +, -\n",
    "   \n",
    "          \n",
    "   # Punctuators : \n",
    "    - Punctuators are symbols that are used to structure the statement. Some commonly used punctruators are: \"\",#,\\,(),{},[],@,:"
   ]
  },
  {
   "cell_type": "code",
   "execution_count": 47,
   "id": "e7645902",
   "metadata": {
    "scrolled": true
   },
   "outputs": [
    {
     "name": "stdout",
     "output_type": "stream",
     "text": [
      "\n",
      "Here is a list of the Python keywords.  Enter any keyword to get more help.\n",
      "\n",
      "False               class               from                or\n",
      "None                continue            global              pass\n",
      "True                def                 if                  raise\n",
      "and                 del                 import              return\n",
      "as                  elif                in                  try\n",
      "assert              else                is                  while\n",
      "async               except              lambda              with\n",
      "await               finally             nonlocal            yield\n",
      "break               for                 not                 \n",
      "\n"
     ]
    }
   ],
   "source": [
    "help(\"keywords\")"
   ]
  },
  {
   "cell_type": "code",
   "execution_count": 2,
   "id": "72c25b07",
   "metadata": {},
   "outputs": [
    {
     "name": "stdout",
     "output_type": "stream",
     "text": [
      "my name,: True\n"
     ]
    }
   ],
   "source": [
    "print(\"my name,:\",True)"
   ]
  },
  {
   "cell_type": "markdown",
   "id": "e1e403a7",
   "metadata": {},
   "source": [
    "# Operators.\n"
   ]
  },
  {
   "cell_type": "markdown",
   "id": "9c0fb5f1",
   "metadata": {},
   "source": [
    "# Arithmetic Operators +  - * / // ** %"
   ]
  },
  {
   "cell_type": "code",
   "execution_count": 12,
   "id": "683cde37",
   "metadata": {},
   "outputs": [
    {
     "data": {
      "text/plain": [
       "71"
      ]
     },
     "execution_count": 12,
     "metadata": {},
     "output_type": "execute_result"
    }
   ],
   "source": [
    "# Arithmetic Operators +  - * / // ** %\n",
    "80+56-65"
   ]
  },
  {
   "cell_type": "code",
   "execution_count": 13,
   "id": "715ca36d",
   "metadata": {},
   "outputs": [
    {
     "data": {
      "text/plain": [
       "1.3928571428571428"
      ]
     },
     "execution_count": 13,
     "metadata": {},
     "output_type": "execute_result"
    }
   ],
   "source": [
    "78/56"
   ]
  },
  {
   "cell_type": "code",
   "execution_count": 14,
   "id": "33405cb9",
   "metadata": {},
   "outputs": [
    {
     "data": {
      "text/plain": [
       "61143"
      ]
     },
     "execution_count": 14,
     "metadata": {},
     "output_type": "execute_result"
    }
   ],
   "source": [
    "687*89"
   ]
  },
  {
   "cell_type": "code",
   "execution_count": 15,
   "id": "9020cb23",
   "metadata": {},
   "outputs": [
    {
     "data": {
      "text/plain": [
       "7"
      ]
     },
     "execution_count": 15,
     "metadata": {},
     "output_type": "execute_result"
    }
   ],
   "source": [
    "58//8"
   ]
  },
  {
   "cell_type": "code",
   "execution_count": 16,
   "id": "6a0c406c",
   "metadata": {},
   "outputs": [
    {
     "data": {
      "text/plain": [
       "9765625"
      ]
     },
     "execution_count": 16,
     "metadata": {},
     "output_type": "execute_result"
    }
   ],
   "source": [
    "25**5"
   ]
  },
  {
   "cell_type": "code",
   "execution_count": 17,
   "id": "b5de177c",
   "metadata": {
    "collapsed": true
   },
   "outputs": [
    {
     "data": {
      "text/plain": [
       "2"
      ]
     },
     "execution_count": 17,
     "metadata": {},
     "output_type": "execute_result"
    }
   ],
   "source": [
    "46322%10"
   ]
  },
  {
   "cell_type": "markdown",
   "id": "1b9bfe5e",
   "metadata": {},
   "source": [
    "# Commparion Operators ==(equal) !=(not equal) < > <= >="
   ]
  },
  {
   "cell_type": "code",
   "execution_count": 8,
   "id": "58572d43",
   "metadata": {},
   "outputs": [
    {
     "name": "stdout",
     "output_type": "stream",
     "text": [
      "False\n",
      "True\n",
      "True\n",
      "False\n",
      "True\n",
      "False\n"
     ]
    }
   ],
   "source": [
    "#Commparion Operators ==(equl) !=(not equal) < > <= >=\n",
    "\n",
    "X=20\n",
    "y=45\n",
    "print(X==y) # Vlaue equal to\n",
    "print(X!=y) # Not equal\n",
    "print(X<y) # Graterthen\n",
    "print(X>y) # less then\n",
    "print(X<=y)# Graterthen equal to\n",
    "print(X>=y) # less then equal to"
   ]
  },
  {
   "cell_type": "markdown",
   "id": "7ec5e0cd",
   "metadata": {},
   "source": [
    "# Logical Operators\n",
    "\n",
    "   # and  \n",
    "      \n",
    "   - True and True = True                \n",
    "   - True and False = False\n",
    "   - False and False = False\n",
    "   - False and True = False\n",
    "    \n",
    "   # or\n",
    "    \n",
    "   - True or True = True              \n",
    "   - True or False = True\n",
    "   - False or False = False\n",
    "   - False or True = True\n",
    "   \n",
    "   # not\n",
    "   \n",
    "   - not true become false\n",
    "   - not false become true"
   ]
  },
  {
   "cell_type": "code",
   "execution_count": 6,
   "id": "77ae43da",
   "metadata": {},
   "outputs": [
    {
     "data": {
      "text/plain": [
       "False"
      ]
     },
     "execution_count": 6,
     "metadata": {},
     "output_type": "execute_result"
    }
   ],
   "source": [
    " not True and False or False "
   ]
  },
  {
   "cell_type": "code",
   "execution_count": 1,
   "id": "39dbd65a",
   "metadata": {},
   "outputs": [
    {
     "data": {
      "text/plain": [
       "True"
      ]
     },
     "execution_count": 1,
     "metadata": {},
     "output_type": "execute_result"
    }
   ],
   "source": [
    "True and False or True and True or False and False"
   ]
  },
  {
   "cell_type": "code",
   "execution_count": 2,
   "id": "19dde1da",
   "metadata": {},
   "outputs": [
    {
     "data": {
      "text/plain": [
       "True"
      ]
     },
     "execution_count": 2,
     "metadata": {},
     "output_type": "execute_result"
    }
   ],
   "source": [
    "True or False and True or True and False or False"
   ]
  },
  {
   "cell_type": "code",
   "execution_count": 3,
   "id": "604c499f",
   "metadata": {},
   "outputs": [
    {
     "data": {
      "text/plain": [
       "True"
      ]
     },
     "execution_count": 3,
     "metadata": {},
     "output_type": "execute_result"
    }
   ],
   "source": [
    "True or False and True or not True and False or False"
   ]
  },
  {
   "cell_type": "code",
   "execution_count": 6,
   "id": "9a9b3818",
   "metadata": {},
   "outputs": [
    {
     "data": {
      "text/plain": [
       "True"
      ]
     },
     "execution_count": 6,
     "metadata": {},
     "output_type": "execute_result"
    }
   ],
   "source": [
    "True or False and True or not True and True or not True"
   ]
  },
  {
   "cell_type": "code",
   "execution_count": 26,
   "id": "11e9ea7b",
   "metadata": {},
   "outputs": [
    {
     "name": "stdout",
     "output_type": "stream",
     "text": [
      "False\n"
     ]
    },
    {
     "data": {
      "text/plain": [
       "(None, False)"
      ]
     },
     "execution_count": 26,
     "metadata": {},
     "output_type": "execute_result"
    }
   ],
   "source": [
    "X= 34\n",
    "Y= 45\n",
    "print(X==Y),(X>=Y)"
   ]
  },
  {
   "cell_type": "code",
   "execution_count": 28,
   "id": "e552cf58",
   "metadata": {},
   "outputs": [
    {
     "name": "stdout",
     "output_type": "stream",
     "text": [
      "False\n"
     ]
    }
   ],
   "source": [
    "x = 67\n",
    "y = 56\n",
    "print(x==y)and(x!=y)\n"
   ]
  },
  {
   "cell_type": "code",
   "execution_count": 29,
   "id": "42d2d71b",
   "metadata": {},
   "outputs": [
    {
     "name": "stdout",
     "output_type": "stream",
     "text": [
      "True\n"
     ]
    }
   ],
   "source": [
    "x =45\n",
    "y= 45\n",
    "print(x==y)and(x>=y)"
   ]
  },
  {
   "cell_type": "code",
   "execution_count": 30,
   "id": "dec47e89",
   "metadata": {},
   "outputs": [
    {
     "data": {
      "text/plain": [
       "True"
      ]
     },
     "execution_count": 30,
     "metadata": {},
     "output_type": "execute_result"
    }
   ],
   "source": [
    "x = 34\n",
    "y = 34\n",
    "x==y or x<=y"
   ]
  },
  {
   "cell_type": "code",
   "execution_count": 31,
   "id": "617daa19",
   "metadata": {},
   "outputs": [
    {
     "data": {
      "text/plain": [
       "True"
      ]
     },
     "execution_count": 31,
     "metadata": {},
     "output_type": "execute_result"
    }
   ],
   "source": [
    "not x!=y "
   ]
  },
  {
   "cell_type": "code",
   "execution_count": 40,
   "id": "ee924cff",
   "metadata": {},
   "outputs": [
    {
     "data": {
      "text/plain": [
       "True"
      ]
     },
     "execution_count": 40,
     "metadata": {},
     "output_type": "execute_result"
    }
   ],
   "source": [
    "s = 1000\n",
    "r = 1001\n",
    "not s==r and s!=r   or s!=r "
   ]
  },
  {
   "cell_type": "markdown",
   "id": "f836e05d",
   "metadata": {},
   "source": [
    "# Identity Operaters\n",
    " - Check whether two variable or objects share the same location or not(is , isnot)"
   ]
  },
  {
   "cell_type": "code",
   "execution_count": 3,
   "id": "3e9f7419",
   "metadata": {},
   "outputs": [
    {
     "name": "stdout",
     "output_type": "stream",
     "text": [
      "2211279667728 2211279667728\n",
      "True\n"
     ]
    }
   ],
   "source": [
    "X = 10\n",
    "Y = 10\n",
    "print(id(X),id(Y))\n",
    "print(X  is Y)"
   ]
  },
  {
   "cell_type": "code",
   "execution_count": 4,
   "id": "104b2f11",
   "metadata": {},
   "outputs": [
    {
     "name": "stdout",
     "output_type": "stream",
     "text": [
      "2211279667728 2211279667728\n",
      "False\n"
     ]
    }
   ],
   "source": [
    "print(id (X),(id(Y)))\n",
    "print(X is not Y)"
   ]
  },
  {
   "cell_type": "code",
   "execution_count": 6,
   "id": "0f6f89c5",
   "metadata": {},
   "outputs": [
    {
     "name": "stdout",
     "output_type": "stream",
     "text": [
      "2211279667728 2211279668048\n",
      "False\n",
      "True\n"
     ]
    }
   ],
   "source": [
    "X = 10\n",
    "Y = 20\n",
    "print(id(X),id(Y))\n",
    "print(X is Y)\n",
    "print(X is not Y)"
   ]
  },
  {
   "cell_type": "code",
   "execution_count": 9,
   "id": "15588255",
   "metadata": {},
   "outputs": [
    {
     "name": "stdout",
     "output_type": "stream",
     "text": [
      "False\n",
      "True\n"
     ]
    }
   ],
   "source": [
    "X = [10]\n",
    "Y = [10]\n",
    "X==Y\n",
    "print(X is Y)# Share the memory location\n",
    "print(X is not Y)"
   ]
  },
  {
   "cell_type": "code",
   "execution_count": 11,
   "id": "aed0d33c",
   "metadata": {},
   "outputs": [
    {
     "name": "stdout",
     "output_type": "stream",
     "text": [
      "True\n"
     ]
    }
   ],
   "source": [
    "print(X==Y)# share the value.\n",
    "\n"
   ]
  },
  {
   "cell_type": "markdown",
   "id": "569e3861",
   "metadata": {},
   "source": [
    "# Membership Operater (in, not in)\n",
    " - Membership operater check whether a value is present in a seqeunce of value\n",
    " - Seqeunce - string , lists, tuples, sets, Dictionaries\n"
   ]
  },
  {
   "cell_type": "code",
   "execution_count": 38,
   "id": "5a0afcaa",
   "metadata": {},
   "outputs": [
    {
     "data": {
      "text/plain": [
       "False"
      ]
     },
     "execution_count": 38,
     "metadata": {},
     "output_type": "execute_result"
    }
   ],
   "source": [
    "a = \"data science\"\n",
    "b = \"data\"\n",
    "a in b"
   ]
  },
  {
   "cell_type": "code",
   "execution_count": 39,
   "id": "18165d2c",
   "metadata": {},
   "outputs": [
    {
     "data": {
      "text/plain": [
       "True"
      ]
     },
     "execution_count": 39,
     "metadata": {},
     "output_type": "execute_result"
    }
   ],
   "source": [
    "b in a"
   ]
  },
  {
   "cell_type": "code",
   "execution_count": 13,
   "id": "2a140a97",
   "metadata": {},
   "outputs": [
    {
     "data": {
      "text/plain": [
       "True"
      ]
     },
     "execution_count": 13,
     "metadata": {},
     "output_type": "execute_result"
    }
   ],
   "source": [
    "a not in b"
   ]
  },
  {
   "cell_type": "code",
   "execution_count": 20,
   "id": "65d13d36",
   "metadata": {},
   "outputs": [
    {
     "data": {
      "text/plain": [
       "False"
      ]
     },
     "execution_count": 20,
     "metadata": {},
     "output_type": "execute_result"
    }
   ],
   "source": [
    "x = [4,5,6,7,8]\n",
    "y = [8]\n",
    "\n",
    "\n",
    "y in x \n",
    "x in y"
   ]
  },
  {
   "cell_type": "code",
   "execution_count": 41,
   "id": "9026d69e",
   "metadata": {},
   "outputs": [
    {
     "ename": "TypeError",
     "evalue": "argument of type 'int' is not iterable",
     "output_type": "error",
     "traceback": [
      "\u001b[1;31m---------------------------------------------------------------------------\u001b[0m",
      "\u001b[1;31mTypeError\u001b[0m                                 Traceback (most recent call last)",
      "Cell \u001b[1;32mIn[41], line 1\u001b[0m\n\u001b[1;32m----> 1\u001b[0m \u001b[43mx\u001b[49m\u001b[43m \u001b[49m\u001b[38;5;129;43;01min\u001b[39;49;00m\u001b[43m \u001b[49m\u001b[43my\u001b[49m\n\u001b[0;32m      2\u001b[0m y\n",
      "\u001b[1;31mTypeError\u001b[0m: argument of type 'int' is not iterable"
     ]
    }
   ],
   "source": [
    "x in y\n"
   ]
  },
  {
   "cell_type": "code",
   "execution_count": 25,
   "id": "72484ab8",
   "metadata": {},
   "outputs": [
    {
     "data": {
      "text/plain": [
       "False"
      ]
     },
     "execution_count": 25,
     "metadata": {},
     "output_type": "execute_result"
    }
   ],
   "source": [
    "x = [4,6,5,7,[7]]\n",
    "\n",
    "y = [7]\n",
    "y in x\n",
    "y not in x"
   ]
  },
  {
   "cell_type": "markdown",
   "id": "a2b2ed72",
   "metadata": {},
   "source": [
    "# Bitwise operater  & | ^ ~ << >>  \n",
    "- & - Bitwise AND\n",
    "- | - bitwise OR\n",
    "- ^ - Bitwise XOR\n",
    "- ~ - Bitwise NOT\n",
    "- << - Left shift\n",
    "-      >>     -  Right shift"
   ]
  },
  {
   "cell_type": "markdown",
   "id": "23914c94",
   "metadata": {},
   "source": [
    "# Assignment operaters   ( =, +=, -=, *= ,/=, //=, **=, %= ,|=, &=, ^=, >>=, <<=)\n",
    "\n"
   ]
  },
  {
   "cell_type": "code",
   "execution_count": 31,
   "id": "115fa398",
   "metadata": {},
   "outputs": [
    {
     "data": {
      "text/plain": [
       "13"
      ]
     },
     "execution_count": 31,
     "metadata": {},
     "output_type": "execute_result"
    }
   ],
   "source": [
    "X = 7\n",
    "X += 6\n",
    "X"
   ]
  },
  {
   "cell_type": "code",
   "execution_count": 32,
   "id": "70cfda8d",
   "metadata": {},
   "outputs": [
    {
     "data": {
      "text/plain": [
       "10"
      ]
     },
     "execution_count": 32,
     "metadata": {},
     "output_type": "execute_result"
    }
   ],
   "source": [
    "x =67\n",
    "x -=57\n",
    "x"
   ]
  },
  {
   "cell_type": "code",
   "execution_count": 34,
   "id": "946ad10e",
   "metadata": {},
   "outputs": [
    {
     "data": {
      "text/plain": [
       "64"
      ]
     },
     "execution_count": 34,
     "metadata": {},
     "output_type": "execute_result"
    }
   ],
   "source": [
    "x = 8\n",
    "x *=8\n",
    "x"
   ]
  },
  {
   "cell_type": "code",
   "execution_count": 35,
   "id": "d7124677",
   "metadata": {},
   "outputs": [
    {
     "data": {
      "text/plain": [
       "6"
      ]
     },
     "execution_count": 35,
     "metadata": {},
     "output_type": "execute_result"
    }
   ],
   "source": [
    "x = 6\n",
    "x |=6\n",
    "x"
   ]
  },
  {
   "cell_type": "code",
   "execution_count": null,
   "id": "441e0a65",
   "metadata": {},
   "outputs": [],
   "source": []
  }
 ],
 "metadata": {
  "kernelspec": {
   "display_name": "Python 3 (ipykernel)",
   "language": "python",
   "name": "python3"
  },
  "language_info": {
   "codemirror_mode": {
    "name": "ipython",
    "version": 3
   },
   "file_extension": ".py",
   "mimetype": "text/x-python",
   "name": "python",
   "nbconvert_exporter": "python",
   "pygments_lexer": "ipython3",
   "version": "3.10.9"
  }
 },
 "nbformat": 4,
 "nbformat_minor": 5
}
