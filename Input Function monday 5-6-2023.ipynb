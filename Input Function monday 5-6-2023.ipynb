{
 "cells": [
  {
   "cell_type": "markdown",
   "id": "2f004f4e",
   "metadata": {},
   "source": [
    "# Input Function "
   ]
  },
  {
   "cell_type": "markdown",
   "id": "01a11f24",
   "metadata": {},
   "source": [
    "- In, pyhton, using the input () function we takee input from a user and using the print () we display output on the screen.( Any Data given in input is string)"
   ]
  },
  {
   "cell_type": "code",
   "execution_count": 1,
   "id": "c0c025ba",
   "metadata": {},
   "outputs": [
    {
     "name": "stdout",
     "output_type": "stream",
     "text": [
      "enter empolyee name:Gaurav Bisht\n",
      "helloGaurav Bishthow are you\n"
     ]
    }
   ],
   "source": [
    "Name = input (\"enter empolyee name:\")\n",
    "print(\"hello\" +Name + \"how are you\")\n"
   ]
  },
  {
   "cell_type": "code",
   "execution_count": 4,
   "id": "9ed00a16",
   "metadata": {},
   "outputs": [
    {
     "name": "stdout",
     "output_type": "stream",
     "text": [
      "empolyee nameGaurav Bisht\n",
      "age26\n",
      "salary500000\n",
      "Gaurav Bisht \t26 \t500000\n"
     ]
    }
   ],
   "source": [
    "name = input (\"empolyee name\")\n",
    "age= input(\"age\")\n",
    "salary= input(\"salary\")\n",
    "print (name,\"\\t\" + age,\"\\t\" +salary)\n",
    "\n"
   ]
  },
  {
   "cell_type": "code",
   "execution_count": 4,
   "id": "0d614ba0",
   "metadata": {},
   "outputs": [
    {
     "name": "stdout",
     "output_type": "stream",
     "text": [
      "enter empolyee name:\n",
      "Gaurav Bisht\n",
      "how are you sir\n",
      "\n",
      "im 28 age year old\n",
      "\n",
      "my salary 46000\n",
      "\n"
     ]
    }
   ],
   "source": [
    "name = input(\"enter empolyee name:\\n\")\n",
    "print(\"how are you sir\\n\")\n",
    "print(\"im 28 age year old\\n\")\n",
    "print(\"my salary 46000\\n\")"
   ]
  },
  {
   "cell_type": "code",
   "execution_count": 2,
   "id": "2b44d4b6",
   "metadata": {},
   "outputs": [
    {
     "name": "stdout",
     "output_type": "stream",
     "text": [
      "enter empolyee name:Gaurav\n"
     ]
    }
   ],
   "source": [
    "Name = input(\"enter empolyee name:\")"
   ]
  },
  {
   "cell_type": "code",
   "execution_count": 3,
   "id": "5f3d08cf",
   "metadata": {},
   "outputs": [
    {
     "name": "stdout",
     "output_type": "stream",
     "text": [
      "whats your age:28\n"
     ]
    }
   ],
   "source": [
    " Age = input (\"whats your age:\")"
   ]
  },
  {
   "cell_type": "code",
   "execution_count": 4,
   "id": "41e4905d",
   "metadata": {},
   "outputs": [
    {
     "name": "stdout",
     "output_type": "stream",
     "text": [
      "my salary is:45000\n"
     ]
    }
   ],
   "source": [
    "Salary = input (\"my salary is:\")"
   ]
  },
  {
   "cell_type": "code",
   "execution_count": 5,
   "id": "5a4c87ae",
   "metadata": {},
   "outputs": [
    {
     "name": "stdout",
     "output_type": "stream",
     "text": [
      "\n",
      "\n",
      "empolyee detial\n",
      "Name Age Salary\n",
      "Gaurav 28 45000\n"
     ]
    }
   ],
   "source": [
    "print (\"\\n\")\n",
    "print(\"empolyee detial\")\n",
    "print(\"Name\",\"Age\",\"Salary\")\n",
    "print (Name,Age,Salary)"
   ]
  },
  {
   "cell_type": "code",
   "execution_count": 10,
   "id": "e8cd1eff",
   "metadata": {},
   "outputs": [
    {
     "name": "stdout",
     "output_type": "stream",
     "text": [
      "enter empolyee name:Gaurav\n"
     ]
    }
   ],
   "source": [
    "Name = input ('enter empolyee name:')"
   ]
  },
  {
   "cell_type": "code",
   "execution_count": 14,
   "id": "9b03a61c",
   "metadata": {},
   "outputs": [
    {
     "name": "stdout",
     "output_type": "stream",
     "text": [
      "enter empolyee  age:25\n"
     ]
    }
   ],
   "source": [
    "Age = input ('enter empolyee  age:')"
   ]
  },
  {
   "cell_type": "code",
   "execution_count": 2,
   "id": "b489d339",
   "metadata": {},
   "outputs": [
    {
     "name": "stdout",
     "output_type": "stream",
     "text": [
      "enter empolyee company name:vijai\n"
     ]
    }
   ],
   "source": [
    "company = input ('enter empolyee company name:')\n",
    "\n"
   ]
  },
  {
   "cell_type": "code",
   "execution_count": 4,
   "id": "da0731c1",
   "metadata": {},
   "outputs": [
    {
     "name": "stdout",
     "output_type": "stream",
     "text": [
      "enter empolyee name:Gaurav\n",
      "enter empolyee age:25\n",
      "enter empolyee company name:viaji\n",
      "\n",
      "\n",
      "printing empolyee detail\n",
      "Name Age company\n",
      "Gaurav 25 viaji\n",
      "Gaurav\n"
     ]
    },
    {
     "data": {
      "text/plain": [
       "NoneType"
      ]
     },
     "execution_count": 4,
     "metadata": {},
     "output_type": "execute_result"
    }
   ],
   "source": [
    "#take three value from user\n",
    "Name = input  ('enter empolyee name:')\n",
    "Age = input ('enter empolyee age:')\n",
    "company = input ('enter empolyee company name:')\n",
    "\n",
    "#display all vlaue on display\n",
    "print('\\n')\n",
    "print('printing empolyee detail')\n",
    "print('Name','Age','company')\n",
    "print(Name,Age,company)\n",
    "type(print(Name))"
   ]
  },
  {
   "cell_type": "code",
   "execution_count": 3,
   "id": "a96ae700",
   "metadata": {},
   "outputs": [
    {
     "name": "stdout",
     "output_type": "stream",
     "text": [
      "even number:8\n",
      "odd number:9\n",
      "89\n"
     ]
    }
   ],
   "source": [
    "x = input (\"even number:\")\n",
    "y = input (\"odd number:\")\n",
    "z = x+y\n",
    "print(z)\n",
    "\n"
   ]
  },
  {
   "cell_type": "code",
   "execution_count": 7,
   "id": "6048b41d",
   "metadata": {},
   "outputs": [
    {
     "name": "stdout",
     "output_type": "stream",
     "text": [
      "enter employe name :Gaurav Bisht\n",
      "enter employee age :28\n",
      "enter empolyee salary : 590k\n",
      "enter empolyee hobby :Bike Rider Travling\n",
      "enter empolye location :Haldwani\n",
      "Name\t\t-\t\t Gaurav Bisht\n",
      "Age\t\t-\t\t 28\n",
      "Salary\t\t-\t\t 590k\n",
      "Hobby\t\t-\t\t Bike Rider Travling\n",
      "Location\t\t-\t\t Haldwani\n"
     ]
    }
   ],
   "source": [
    "Name = input(\"enter employe name :\")\n",
    "Age = input (\"enter employee age :\")\n",
    "Salary  = input (\"enter empolyee salary : \")          \n",
    "Hobby = input (\"enter empolyee hobby :\")\n",
    "Location = input(\"enter empolye location :\")\n",
    "print (\"Name\\t\\t-\\t\\t\",Name)\n",
    "print(\"Age\\t\\t-\\t\\t\",Age)\n",
    "print(\"Salary\\t\\t-\\t\\t\",Salary)\n",
    "print(\"Hobby\\t\\t-\\t\\t\",Hobby)\n",
    "print(\"Location\\t\\t-\\t\\t\",Location)"
   ]
  },
  {
   "cell_type": "code",
   "execution_count": 2,
   "id": "1715fcbb",
   "metadata": {},
   "outputs": [
    {
     "name": "stdout",
     "output_type": "stream",
     "text": [
      "enter employee name:Gaurav\n"
     ]
    }
   ],
   "source": [
    "Name = input(\"enter employee name:\")\n"
   ]
  },
  {
   "cell_type": "code",
   "execution_count": 3,
   "id": "f0678c1a",
   "metadata": {},
   "outputs": [
    {
     "name": "stdout",
     "output_type": "stream",
     "text": [
      "enter employee name:Gaurav\n",
      "enter employee age:25\n",
      "enter employee salary:500000\n",
      "enter employee company name:Google\n",
      "\n",
      "\n",
      "'enter employee detail'\n",
      "Name\t-\t Gaurav\n",
      "Age\t-\t 25\n",
      "Salary\t-\t 500000\n",
      "company\t-\t Google\n",
      "Gaurav\n"
     ]
    },
    {
     "data": {
      "text/plain": [
       "NoneType"
      ]
     },
     "execution_count": 3,
     "metadata": {},
     "output_type": "execute_result"
    }
   ],
   "source": [
    "Name = input (\"enter employee name:\")\n",
    "Age = input (\"enter employee age:\")\n",
    "Salary = input (\"enter employee salary:\")\n",
    "company = input (\"enter employee company name:\")\n",
    " \n",
    "    \n",
    "print(\"\\n\")\n",
    "print(\"\\'enter employee detail\\'\")\n",
    "print(\"Name\\t-\\t\", Name)\n",
    "print(\"Age\\t-\\t\", Age)\n",
    "print(\"Salary\\t-\\t\", Salary)\n",
    "print(\"company\\t-\\t\", company)\n",
    "type(print(Name))"
   ]
  },
  {
   "cell_type": "code",
   "execution_count": null,
   "id": "dfdbf3ce",
   "metadata": {},
   "outputs": [],
   "source": [
    "A= input (\"even no : \")\n",
    "B= input (\"odd no: \")\n",
    "C= A+B\n",
    "print(C)"
   ]
  },
  {
   "cell_type": "code",
   "execution_count": 5,
   "id": "2862012a",
   "metadata": {},
   "outputs": [
    {
     "name": "stdout",
     "output_type": "stream",
     "text": [
      "even number:4\n",
      "odd number5\n",
      "45\n"
     ]
    }
   ],
   "source": [
    "b=input(\"even number:\")\n",
    "c=input(\"odd number\")\n",
    "r=b+c\n",
    "print(r)"
   ]
  },
  {
   "cell_type": "code",
   "execution_count": 11,
   "id": "13b5884a",
   "metadata": {},
   "outputs": [
    {
     "name": "stdout",
     "output_type": "stream",
     "text": [
      "enter number6\n",
      "6\n",
      "6\n"
     ]
    },
    {
     "data": {
      "text/plain": [
       "int"
      ]
     },
     "execution_count": 11,
     "metadata": {},
     "output_type": "execute_result"
    }
   ],
   "source": [
    "A=input (\"enter number\")\n",
    "print(A)\n",
    "b=int(A)\n",
    "print(b)\n",
    "type(b)\n"
   ]
  },
  {
   "cell_type": "code",
   "execution_count": 2,
   "id": "77f454a4",
   "metadata": {},
   "outputs": [
    {
     "data": {
      "text/plain": [
       "str"
      ]
     },
     "execution_count": 2,
     "metadata": {},
     "output_type": "execute_result"
    }
   ],
   "source": [
    "type(A)"
   ]
  },
  {
   "cell_type": "code",
   "execution_count": 3,
   "id": "a028f918",
   "metadata": {},
   "outputs": [
    {
     "name": "stdout",
     "output_type": "stream",
     "text": [
      "<class 'str'>\n"
     ]
    }
   ],
   "source": [
    "print(type(A))"
   ]
  },
  {
   "cell_type": "code",
   "execution_count": 4,
   "id": "cb24e4e5",
   "metadata": {},
   "outputs": [
    {
     "data": {
      "text/plain": [
       "89"
      ]
     },
     "execution_count": 4,
     "metadata": {},
     "output_type": "execute_result"
    }
   ],
   "source": [
    "int(A)"
   ]
  },
  {
   "cell_type": "code",
   "execution_count": 5,
   "id": "af6b20c1",
   "metadata": {},
   "outputs": [
    {
     "data": {
      "text/plain": [
       "str"
      ]
     },
     "execution_count": 5,
     "metadata": {},
     "output_type": "execute_result"
    }
   ],
   "source": [
    "type(A)"
   ]
  },
  {
   "cell_type": "code",
   "execution_count": 3,
   "id": "ddc546ee",
   "metadata": {},
   "outputs": [
    {
     "name": "stdout",
     "output_type": "stream",
     "text": [
      "evn no78\n",
      "78\n"
     ]
    },
    {
     "data": {
      "text/plain": [
       "int"
      ]
     },
     "execution_count": 3,
     "metadata": {},
     "output_type": "execute_result"
    }
   ],
   "source": [
    "A=int(input(\"evn no\"))\n",
    "print(A)\n",
    "type(A)"
   ]
  },
  {
   "cell_type": "code",
   "execution_count": 11,
   "id": "e8c910a0",
   "metadata": {},
   "outputs": [
    {
     "name": "stdout",
     "output_type": "stream",
     "text": [
      "giva a number89\n"
     ]
    }
   ],
   "source": [
    "A=float(input(\"giva a number\"))"
   ]
  },
  {
   "cell_type": "code",
   "execution_count": 12,
   "id": "7e16d743",
   "metadata": {},
   "outputs": [
    {
     "name": "stdout",
     "output_type": "stream",
     "text": [
      "89.0\n"
     ]
    },
    {
     "data": {
      "text/plain": [
       "float"
      ]
     },
     "execution_count": 12,
     "metadata": {},
     "output_type": "execute_result"
    }
   ],
   "source": [
    "print(A)\n",
    "type(A)"
   ]
  },
  {
   "cell_type": "code",
   "execution_count": 13,
   "id": "2d1e8f04",
   "metadata": {},
   "outputs": [
    {
     "data": {
      "text/plain": [
       "89"
      ]
     },
     "execution_count": 13,
     "metadata": {},
     "output_type": "execute_result"
    }
   ],
   "source": [
    "int(A)"
   ]
  },
  {
   "cell_type": "code",
   "execution_count": 14,
   "id": "b0924903",
   "metadata": {},
   "outputs": [
    {
     "data": {
      "text/plain": [
       "(89+0j)"
      ]
     },
     "execution_count": 14,
     "metadata": {},
     "output_type": "execute_result"
    }
   ],
   "source": [
    "complex(A)"
   ]
  },
  {
   "cell_type": "code",
   "execution_count": 15,
   "id": "f1daff99",
   "metadata": {},
   "outputs": [
    {
     "data": {
      "text/plain": [
       "True"
      ]
     },
     "execution_count": 15,
     "metadata": {},
     "output_type": "execute_result"
    }
   ],
   "source": [
    "bool(A)"
   ]
  },
  {
   "cell_type": "code",
   "execution_count": 16,
   "id": "2f84a19c",
   "metadata": {},
   "outputs": [
    {
     "data": {
      "text/plain": [
       "'89.0'"
      ]
     },
     "execution_count": 16,
     "metadata": {},
     "output_type": "execute_result"
    }
   ],
   "source": [
    "str(A)"
   ]
  },
  {
   "cell_type": "code",
   "execution_count": 21,
   "id": "3d8518ba",
   "metadata": {},
   "outputs": [],
   "source": [
    "b=bool(A)\n"
   ]
  },
  {
   "cell_type": "code",
   "execution_count": 22,
   "id": "bf245a37",
   "metadata": {},
   "outputs": [
    {
     "data": {
      "text/plain": [
       "bool"
      ]
     },
     "execution_count": 22,
     "metadata": {},
     "output_type": "execute_result"
    }
   ],
   "source": [
    "type(b)"
   ]
  },
  {
   "cell_type": "code",
   "execution_count": 32,
   "id": "cd4d3520",
   "metadata": {},
   "outputs": [
    {
     "name": "stdout",
     "output_type": "stream",
     "text": [
      "give me number:78\n"
     ]
    }
   ],
   "source": [
    "X= input(\"give me number:\")"
   ]
  },
  {
   "cell_type": "code",
   "execution_count": 33,
   "id": "0b145597",
   "metadata": {},
   "outputs": [
    {
     "data": {
      "text/plain": [
       "str"
      ]
     },
     "execution_count": 33,
     "metadata": {},
     "output_type": "execute_result"
    }
   ],
   "source": [
    "type(X)"
   ]
  },
  {
   "cell_type": "code",
   "execution_count": 34,
   "id": "37cd29f3",
   "metadata": {},
   "outputs": [
    {
     "data": {
      "text/plain": [
       "(78+0j)"
      ]
     },
     "execution_count": 34,
     "metadata": {},
     "output_type": "execute_result"
    }
   ],
   "source": [
    "complex(X)"
   ]
  },
  {
   "cell_type": "code",
   "execution_count": 35,
   "id": "cc19d44c",
   "metadata": {},
   "outputs": [
    {
     "data": {
      "text/plain": [
       "True"
      ]
     },
     "execution_count": 35,
     "metadata": {},
     "output_type": "execute_result"
    }
   ],
   "source": [
    "bool(X)"
   ]
  },
  {
   "cell_type": "code",
   "execution_count": 36,
   "id": "9c549724",
   "metadata": {},
   "outputs": [
    {
     "data": {
      "text/plain": [
       "78.0"
      ]
     },
     "execution_count": 36,
     "metadata": {},
     "output_type": "execute_result"
    }
   ],
   "source": [
    "float(X)"
   ]
  },
  {
   "cell_type": "code",
   "execution_count": 37,
   "id": "f12f4472",
   "metadata": {},
   "outputs": [
    {
     "data": {
      "text/plain": [
       "78"
      ]
     },
     "execution_count": 37,
     "metadata": {},
     "output_type": "execute_result"
    }
   ],
   "source": [
    "int(X)"
   ]
  },
  {
   "cell_type": "code",
   "execution_count": 1,
   "id": "edae35ea",
   "metadata": {},
   "outputs": [
    {
     "name": "stdout",
     "output_type": "stream",
     "text": [
      "enter no:678\n",
      "\n",
      "\n",
      "student marks 678.0\n",
      "tpye is : <class 'float'>\n"
     ]
    }
   ],
   "source": [
    "marks= float(input(\"enter no:\"))\n",
    "print(\"\\n\")\n",
    "print(\"student marks\", marks)\n",
    "print(\"tpye is :\", type (marks))\n"
   ]
  },
  {
   "cell_type": "code",
   "execution_count": 13,
   "id": "3c1e4187",
   "metadata": {},
   "outputs": [
    {
     "name": "stdout",
     "output_type": "stream",
     "text": [
      "enter no: 7\n",
      "\n",
      "\n",
      "select date (7+0j)\n",
      "tpye is :  <class 'complex'>\n"
     ]
    }
   ],
   "source": [
    "Date= complex(input(\"enter no: \"))\n",
    "print(\"\\n\")\n",
    "print(\"select date\", Date)\n",
    "print(\"tpye is : \", type (Date))"
   ]
  },
  {
   "cell_type": "code",
   "execution_count": 6,
   "id": "bfe66879",
   "metadata": {},
   "outputs": [
    {
     "name": "stdout",
     "output_type": "stream",
     "text": [
      "enter number6\n",
      "enter number7\n",
      "13\n"
     ]
    }
   ],
   "source": [
    "D= int(input(\"enter number\"))\n",
    "G= int(input (\"enter number\"))\n",
    "H= D+G\n",
    "print(H)\n"
   ]
  },
  {
   "cell_type": "code",
   "execution_count": 10,
   "id": "ad02aee8",
   "metadata": {},
   "outputs": [
    {
     "data": {
      "text/plain": [
       "12j"
      ]
     },
     "execution_count": 10,
     "metadata": {},
     "output_type": "execute_result"
    }
   ],
   "source": [
    "6j*2"
   ]
  },
  {
   "cell_type": "code",
   "execution_count": 8,
   "id": "562abe69",
   "metadata": {},
   "outputs": [
    {
     "data": {
      "text/plain": [
       "3j"
      ]
     },
     "execution_count": 8,
     "metadata": {},
     "output_type": "execute_result"
    }
   ],
   "source": [
    "6j/2"
   ]
  },
  {
   "cell_type": "code",
   "execution_count": 1,
   "id": "de8d39ba",
   "metadata": {},
   "outputs": [
    {
     "name": "stdout",
     "output_type": "stream",
     "text": [
      "enter number:56\n",
      "enter number:76\n",
      "\n",
      "\n",
      "True\n"
     ]
    },
    {
     "data": {
      "text/plain": [
       "int"
      ]
     },
     "execution_count": 1,
     "metadata": {},
     "output_type": "execute_result"
    }
   ],
   "source": [
    "J = bool(input(\"enter number:\"))\n",
    "y = bool(input(\"enter number:\"))\n",
    "U = J+y\n",
    "print(\"\\n\")\n",
    "print(bool(U))\n",
    "type(U)"
   ]
  },
  {
   "cell_type": "code",
   "execution_count": 22,
   "id": "4d685759",
   "metadata": {},
   "outputs": [
    {
     "name": "stdout",
     "output_type": "stream",
     "text": [
      "get to work89\n",
      "timeing78\n",
      "\n",
      "\n",
      "167.0\n"
     ]
    },
    {
     "data": {
      "text/plain": [
       "float"
      ]
     },
     "execution_count": 22,
     "metadata": {},
     "output_type": "execute_result"
    }
   ],
   "source": [
    "work = float(input(\"get to work\"))\n",
    "time = float(input(\"timeing\"))\n",
    "total = work+time\n",
    "print(\"\\n\")\n",
    "print(total)\n",
    "type(total)"
   ]
  },
  {
   "cell_type": "code",
   "execution_count": 6,
   "id": "0370a5dc",
   "metadata": {},
   "outputs": [
    {
     "name": "stdout",
     "output_type": "stream",
     "text": [
      "enter number89\n",
      "89 \n",
      " 89 89.0 89 True (89+0j)\n"
     ]
    }
   ],
   "source": [
    "F = input(\"enter number\")\n",
    "print((F),('\\n'),int(F),float(F),str(F),bool(F),complex(F))"
   ]
  },
  {
   "cell_type": "code",
   "execution_count": 1,
   "id": "d0f439ad",
   "metadata": {},
   "outputs": [
    {
     "name": "stdout",
     "output_type": "stream",
     "text": [
      "enter name: Gaurav\n",
      "enter age: 28\n",
      "enter location: 56\n",
      "Gaurav2856\n"
     ]
    }
   ],
   "source": [
    "X=input (\"enter name: \")#\n",
    "y=input(\"enter age: \")\n",
    "z=input(\"enter location: \")\n",
    "q = X+y+z\n"
   ]
  },
  {
   "cell_type": "code",
   "execution_count": 5,
   "id": "d21f2d8e",
   "metadata": {},
   "outputs": [
    {
     "name": "stdout",
     "output_type": "stream",
     "text": [
      "enter name: Gaurav\n",
      "enter age: 28\n",
      "enter location: haldwani\n",
      "Gaurav28haldwani\n"
     ]
    }
   ],
   "source": [
    "X=input (\"enter name: \")\n",
    "y=input(\"enter age: \")\n",
    "z=input(\"enter location: \")\n",
    "q = X+y+z\n",
    "print(q)"
   ]
  },
  {
   "cell_type": "code",
   "execution_count": 9,
   "id": "ceecbcba",
   "metadata": {},
   "outputs": [
    {
     "name": "stdout",
     "output_type": "stream",
     "text": [
      "enter name: Gaurav\n",
      "enter age: 28\n",
      "enter location: Haldwani\n"
     ]
    }
   ],
   "source": [
    "X=input (\"enter name: \") # (q) is a intring and only defind x+y+z than not print(q)\n",
    "y=input(\"enter age: \")\n",
    "z=input(\"enter location: \")\n",
    "q = X+y+z\n"
   ]
  },
  {
   "cell_type": "code",
   "execution_count": 1,
   "id": "494691e9",
   "metadata": {},
   "outputs": [
    {
     "name": "stdout",
     "output_type": "stream",
     "text": [
      "enter name : Gaurav Bisht\n",
      "enter age : 28\n",
      "enter hobby : Ridering, Travling\n",
      "enter work : Data scienes\n",
      "enter perents name : Ratan Singh Bisht\n",
      "\n",
      "\n",
      "Name\t-\t Gaurav Bisht\n",
      "Age\t-\t 28\n",
      "Hobby\t-\t Ridering, Travling\n",
      "Work\t-\t Data scienes\n",
      "Perents\t-\t Ratan Singh Bisht\n",
      "<class 'str'> Age Hoby Work Perents\n"
     ]
    }
   ],
   "source": [
    "Name = input(\"enter name : \")\n",
    "Age = input (\"enter age : \")\n",
    "Hobby = input(\"enter hobby : \")\n",
    "Work = input (\"enter work : \")\n",
    "Perents = input (\"enter perents name : \")\n",
    "print (\"\\n\")\n",
    "print(\"Name\\t-\\t\",Name)\n",
    "print(\"Age\\t-\\t\",Age)\n",
    "print(\"Hobby\\t-\\t\",Hobby)\n",
    "print(\"Work\\t-\\t\",Work)\n",
    "print(\"Perents\\t-\\t\",Perents)\n",
    "print(type(\"Name\"),(\"Age\"),(\"Hoby\"),(\"Work\"),(\"Perents\"))"
   ]
  },
  {
   "cell_type": "code",
   "execution_count": 4,
   "id": "94b16f52",
   "metadata": {},
   "outputs": [
    {
     "name": "stdout",
     "output_type": "stream",
     "text": [
      "enter bike name : Gaurav Bisht\n",
      "enter bike clur : Light Green\n",
      "enter bike name : Ninja H2R\n",
      "enter bike cost : 150000000\n",
      "enter bike speed : 400kmph\n",
      "enter insurece date : 45-5-34\n",
      "\n",
      "\n",
      "Bike\t-\t Gaurav Bisht\n",
      "\n",
      "\n",
      "Clur\t-\t, Light Green Name\t-\t Ninja H2R Cost\t-\t 150000000 Speed\t-\t 400kmph Insurece\t-\t 45-5-34\n",
      "<class 'str'> <class 'str'> <class 'str'> <class 'str'> <class 'str'> <class 'str'>\n"
     ]
    }
   ],
   "source": [
    "Bike = input (\"enter bike name : \")\n",
    "Clur = input (\"enter bike clur : \")\n",
    "Name = input (\"enter bike name : \")\n",
    "Cost = input (\"enter bike cost : \")\n",
    "Speed = input (\"enter bike speed : \")\n",
    "Insurece = input (\"enter insurece date : \")\n",
    "print(\"\\n\")\n",
    "print(\"Bike\\t-\\t\", Bike)\n",
    "print(\"\\n\")\n",
    "print(\"Clur\\t-\\t,\",Clur,\"Name\\t-\\t\",Name,\"Cost\\t-\\t\",Cost,\"Speed\\t-\\t\",Speed,\"Insurece\\t-\\t\",Insurece)\n",
    "print(type(Bike),type(Clur),type(Name),type(Cost),type(Speed),type(Insurece))\n"
   ]
  },
  {
   "cell_type": "code",
   "execution_count": 3,
   "id": "39008062",
   "metadata": {},
   "outputs": [
    {
     "name": "stdout",
     "output_type": "stream",
     "text": [
      "enter Folwers name : 78\n",
      "\n",
      "\n",
      "Flowers\n"
     ]
    },
    {
     "data": {
      "text/plain": [
       "complex"
      ]
     },
     "execution_count": 3,
     "metadata": {},
     "output_type": "execute_result"
    }
   ],
   "source": [
    "Flowers = complex(input(\"enter Folwers name : \"))\n",
    "print(\"\\n\")\n",
    "print(\"Flowers\")\n",
    "type(Flowers)\n"
   ]
  },
  {
   "cell_type": "code",
   "execution_count": 20,
   "id": "7058419f",
   "metadata": {},
   "outputs": [
    {
     "name": "stdout",
     "output_type": "stream",
     "text": [
      "Name \t\t\t Physics \t\t Chemistry \t\t Maths\n",
      "Arvid Sir :  \t\t 90  \t\t\t 90  \t\t\t 90\n"
     ]
    }
   ],
   "source": [
    "print (\"Name\",\"\\t\\t\\t\",\"Physics\",\"\\t\\t\",\"Chemistry\",\"\\t\\t\",\"Maths\")\n",
    "print (\"Arvid Sir :\",\" \\t\\t\",\"90\",\" \\t\\t\\t\",\"90\",\" \\t\\t\\t\",\"90\")\n"
   ]
  },
  {
   "cell_type": "code",
   "execution_count": 33,
   "id": "f88b8a36",
   "metadata": {},
   "outputs": [
    {
     "name": "stdout",
     "output_type": "stream",
     "text": [
      "Name | \t\t Math's \t Physics \t biology \t Chemistry\n",
      "Gaurav : | \t 99 \t\t  90 \t\t 90 \t\t 90\n",
      "Rishi :  | \t 90 \t\t 90 \t\t 90 \t\t 90\n"
     ]
    }
   ],
   "source": [
    "print(\"Name\",    \"|\",\"\\t\\t\",\"Math's\",\"\\t\",\"Physics\",\"\\t\",\"biology\",\"\\t\",\"Chemistry\"   )\n",
    "print(\"Gaurav :\", \"|\",\"\\t\", \"99\",\"\\t\\t\", \" 90\", \"\\t\\t\", \"90\",\"\\t\\t\",\"90\")\n",
    "print(\"Rishi : \", \"|\",\"\\t\", \"90\", \"\\t\\t\", \"90\", \"\\t\\t\",\"90\",\"\\t\\t\",\"90\")"
   ]
  },
  {
   "cell_type": "code",
   "execution_count": null,
   "id": "2224ee6a",
   "metadata": {},
   "outputs": [],
   "source": [
    "print(\"name\",\"|\",\"\\t\\t\\t\",\"Math's\",\"|\",\"\\t\\t\\t\",\"Biology\",\"|\",\"\\t\\t\\t\",\"Chemistry\",\"|\",\"\\t\\t\\t\",\"Physics\")"
   ]
  },
  {
   "cell_type": "markdown",
   "id": "bf980ba8",
   "metadata": {},
   "source": [
    "# take a two digit no in input from usee."
   ]
  },
  {
   "cell_type": "code",
   "execution_count": 35,
   "id": "0eb612e5",
   "metadata": {},
   "outputs": [
    {
     "name": "stdout",
     "output_type": "stream",
     "text": [
      "Two digit no is :78%5\n"
     ]
    },
    {
     "data": {
      "text/plain": [
       "'78%5'"
      ]
     },
     "execution_count": 35,
     "metadata": {},
     "output_type": "execute_result"
    }
   ],
   "source": [
    "input (\"Two digit no is :\")"
   ]
  },
  {
   "cell_type": "code",
   "execution_count": 36,
   "id": "3adb2979",
   "metadata": {},
   "outputs": [],
   "source": [
    "#take two number and input from the user n the two in this way(28+12=2812)\n",
    "# take only two number (two digit positive number and input from the user in this way)(25+35=5*3+2*5=25)"
   ]
  },
  {
   "cell_type": "markdown",
   "id": "1f21bb77",
   "metadata": {},
   "source": [
    "input (\"two digit no is :\")"
   ]
  },
  {
   "cell_type": "code",
   "execution_count": 2,
   "id": "beabb110",
   "metadata": {},
   "outputs": [
    {
     "name": "stdout",
     "output_type": "stream",
     "text": [
      "enter number:89%\n",
      "enter number%\n"
     ]
    }
   ],
   "source": [
    "input(\"enter number:\")\n",
    "print(\"enter number%\")"
   ]
  },
  {
   "cell_type": "code",
   "execution_count": 3,
   "id": "eb423504",
   "metadata": {},
   "outputs": [
    {
     "name": "stdout",
     "output_type": "stream",
     "text": [
      "enter number:78\n"
     ]
    },
    {
     "ename": "TypeError",
     "evalue": "'str' object is not callable",
     "output_type": "error",
     "traceback": [
      "\u001b[1;31m---------------------------------------------------------------------------\u001b[0m",
      "\u001b[1;31mTypeError\u001b[0m                                 Traceback (most recent call last)",
      "Cell \u001b[1;32mIn[3], line 1\u001b[0m\n\u001b[1;32m----> 1\u001b[0m \u001b[38;5;28;43minput\u001b[39;49m\u001b[43m(\u001b[49m\u001b[38;5;124;43m\"\u001b[39;49m\u001b[38;5;124;43menter number:\u001b[39;49m\u001b[38;5;124;43m\"\u001b[39;49m\u001b[43m)\u001b[49m\u001b[43m(\u001b[49m\u001b[38;5;124;43m\"\u001b[39;49m\u001b[38;5;124;43m%\u001b[39;49m\u001b[38;5;124;43m\"\u001b[39;49m\u001b[43m)\u001b[49m\n",
      "\u001b[1;31mTypeError\u001b[0m: 'str' object is not callable"
     ]
    }
   ],
   "source": [
    "input(\"enter number:\")(\"%\")"
   ]
  },
  {
   "cell_type": "code",
   "execution_count": 4,
   "id": "bdfd9f48",
   "metadata": {},
   "outputs": [
    {
     "ename": "TypeError",
     "evalue": "not all arguments converted during string formatting",
     "output_type": "error",
     "traceback": [
      "\u001b[1;31m---------------------------------------------------------------------------\u001b[0m",
      "\u001b[1;31mTypeError\u001b[0m                                 Traceback (most recent call last)",
      "Cell \u001b[1;32mIn[4], line 1\u001b[0m\n\u001b[1;32m----> 1\u001b[0m \u001b[38;5;28mprint\u001b[39m(\u001b[38;5;28minput\u001b[39m(\u001b[38;5;124;43m\"\u001b[39;49m\u001b[38;5;124;43m78\u001b[39;49m\u001b[38;5;124;43m\"\u001b[39;49m\u001b[38;5;241;43m%\u001b[39;49m\u001b[38;5;124;43m\"\u001b[39;49m\u001b[38;5;124;43m8\u001b[39;49m\u001b[38;5;124;43m\"\u001b[39;49m))\n",
      "\u001b[1;31mTypeError\u001b[0m: not all arguments converted during string formatting"
     ]
    }
   ],
   "source": [
    "print(input(\"78\"%\"8\"))"
   ]
  },
  {
   "cell_type": "code",
   "execution_count": 5,
   "id": "be3db358",
   "metadata": {},
   "outputs": [
    {
     "name": "stdout",
     "output_type": "stream",
     "text": [
      "even number :78\n",
      "odd number : 78\n",
      "even number\n"
     ]
    },
    {
     "ename": "TypeError",
     "evalue": "unsupported operand type(s) for +: 'NoneType' and 'str'",
     "output_type": "error",
     "traceback": [
      "\u001b[1;31m---------------------------------------------------------------------------\u001b[0m",
      "\u001b[1;31mTypeError\u001b[0m                                 Traceback (most recent call last)",
      "Cell \u001b[1;32mIn[5], line 3\u001b[0m\n\u001b[0;32m      1\u001b[0m _23\u001b[38;5;241m=\u001b[39m\u001b[38;5;28minput\u001b[39m(\u001b[38;5;124m\"\u001b[39m\u001b[38;5;124meven number :\u001b[39m\u001b[38;5;124m\"\u001b[39m)\n\u001b[0;32m      2\u001b[0m _45\u001b[38;5;241m=\u001b[39m\u001b[38;5;28minput\u001b[39m(\u001b[38;5;124m\"\u001b[39m\u001b[38;5;124modd number : \u001b[39m\u001b[38;5;124m\"\u001b[39m)\n\u001b[1;32m----> 3\u001b[0m \u001b[38;5;28;43mprint\u001b[39;49m\u001b[43m(\u001b[49m\u001b[38;5;124;43m\"\u001b[39;49m\u001b[38;5;124;43meven number\u001b[39;49m\u001b[38;5;124;43m\"\u001b[39;49m\u001b[43m)\u001b[49m\u001b[38;5;241;43m+\u001b[39;49m\u001b[43m(\u001b[49m\u001b[38;5;124;43m\"\u001b[39;49m\u001b[38;5;124;43modd number\u001b[39;49m\u001b[38;5;124;43m\"\u001b[39;49m\u001b[43m)\u001b[49m\n",
      "\u001b[1;31mTypeError\u001b[0m: unsupported operand type(s) for +: 'NoneType' and 'str'"
     ]
    }
   ],
   "source": [
    "_23=input(\"even number :\")\n",
    "_45=input(\"odd number : \")\n",
    "print(\"even number\")+(\"odd number\")\n"
   ]
  },
  {
   "cell_type": "code",
   "execution_count": 8,
   "id": "72304851",
   "metadata": {},
   "outputs": [
    {
     "name": "stdout",
     "output_type": "stream",
     "text": [
      "x\n"
     ]
    },
    {
     "ename": "TypeError",
     "evalue": "unsupported operand type(s) for +: 'NoneType' and 'str'",
     "output_type": "error",
     "traceback": [
      "\u001b[1;31m---------------------------------------------------------------------------\u001b[0m",
      "\u001b[1;31mTypeError\u001b[0m                                 Traceback (most recent call last)",
      "Cell \u001b[1;32mIn[8], line 4\u001b[0m\n\u001b[0;32m      1\u001b[0m x\u001b[38;5;241m=\u001b[39m \u001b[38;5;241m90\u001b[39m\n\u001b[0;32m      3\u001b[0m y\u001b[38;5;241m=\u001b[39m \u001b[38;5;241m90\u001b[39m\n\u001b[1;32m----> 4\u001b[0m \u001b[38;5;28;43mprint\u001b[39;49m\u001b[43m(\u001b[49m\u001b[38;5;124;43m\"\u001b[39;49m\u001b[38;5;124;43mx\u001b[39;49m\u001b[38;5;124;43m\"\u001b[39;49m\u001b[43m)\u001b[49m\u001b[38;5;241;43m+\u001b[39;49m\u001b[43m(\u001b[49m\u001b[38;5;124;43m\"\u001b[39;49m\u001b[38;5;124;43my\u001b[39;49m\u001b[38;5;124;43m\"\u001b[39;49m\u001b[43m)\u001b[49m\n",
      "\u001b[1;31mTypeError\u001b[0m: unsupported operand type(s) for +: 'NoneType' and 'str'"
     ]
    }
   ],
   "source": [
    "x= 90\n",
    "\n",
    "y= 90\n",
    "print(\"x\")+(\"y\")"
   ]
  },
  {
   "cell_type": "code",
   "execution_count": 9,
   "id": "61ef6a59",
   "metadata": {},
   "outputs": [
    {
     "name": "stdout",
     "output_type": "stream",
     "text": [
      "90+90=9090\n"
     ]
    }
   ],
   "source": [
    "print(\"90+90=9090\")"
   ]
  },
  {
   "cell_type": "code",
   "execution_count": 8,
   "id": "6523fa41",
   "metadata": {},
   "outputs": [
    {
     "name": "stdout",
     "output_type": "stream",
     "text": [
      "enter number:90\n",
      "enter number: 90\n",
      "90 + 90 = 180\n"
     ]
    }
   ],
   "source": [
    "number = int(input(\"enter number:\"))\n",
    "no= int(input(\"enter number: \"))\n",
    "print(number,\"+\",no,\"=\",number+\\\n",
    "      no)"
   ]
  },
  {
   "cell_type": "code",
   "execution_count": 33,
   "id": "ad2553ec",
   "metadata": {},
   "outputs": [
    {
     "ename": "SyntaxError",
     "evalue": "invalid syntax (2411087553.py, line 5)",
     "output_type": "error",
     "traceback": [
      "\u001b[1;36m  Cell \u001b[1;32mIn[33], line 5\u001b[1;36m\u001b[0m\n\u001b[1;33m    print(number,\"+\",no,\"=\",number,+,no)\u001b[0m\n\u001b[1;37m                                    ^\u001b[0m\n\u001b[1;31mSyntaxError\u001b[0m\u001b[1;31m:\u001b[0m invalid syntax\n"
     ]
    }
   ],
   "source": [
    "number = int(input(\"enter number : \"))\n",
    "no = int(input(\"enter number :\"))\n",
    "str(number)\n",
    "str(no)\n",
    "print(number,\"+\",no,\"=\",number+no\n",
    "     )\n"
   ]
  },
  {
   "cell_type": "code",
   "execution_count": 21,
   "id": "da1b9a86",
   "metadata": {},
   "outputs": [
    {
     "name": "stdout",
     "output_type": "stream",
     "text": [
      "enter number : 90\n",
      "enter number :90\n",
      "90 + 90 = 90 90\n"
     ]
    }
   ],
   "source": [
    "number = int(input(\"enter number : \"))\n",
    "no = int(input(\"enter number :\"))\n",
    "print(number,\"+\",no,\"=\",number,no)\n"
   ]
  },
  {
   "cell_type": "code",
   "execution_count": 17,
   "id": "b96a9aec",
   "metadata": {},
   "outputs": [
    {
     "name": "stdout",
     "output_type": "stream",
     "text": [
      "enter n :88\n",
      "enter no:%\n",
      "88 %\n"
     ]
    }
   ],
   "source": [
    "number = int(input(\"enter n :\"))\n",
    "var = input(\"enter no:\")\n",
    "print(number,var) "
   ]
  },
  {
   "cell_type": "code",
   "execution_count": 18,
   "id": "53da829a",
   "metadata": {},
   "outputs": [
    {
     "name": "stdout",
     "output_type": "stream",
     "text": [
      "enter n :78\n",
      "enter no:%\n",
      "78\n"
     ]
    }
   ],
   "source": [
    "number = int(input(\"enter n :\"))\n",
    "var = input(\"enter no:\")\n",
    "print(number)"
   ]
  },
  {
   "cell_type": "code",
   "execution_count": 3,
   "id": "abfc4b50",
   "metadata": {},
   "outputs": [
    {
     "name": "stdout",
     "output_type": "stream",
     "text": [
      "enter number : 90\n",
      "enter number : 90\n",
      "enter number : 90\n",
      "enter number : 90\n",
      "90 + 90 = 9090\n"
     ]
    }
   ],
   "source": [
    "number = int(input(\"enter number : \"))\n",
    "no = int(input(\"enter number : \"))\n",
    "nmber= str(input(\"enter number : \"))\n",
    "num = str(input(\"enter number : \"))\n",
    "print(number,\"+\",no,\"=\",nmber+num)\n",
    "\n",
    "\n"
   ]
  },
  {
   "cell_type": "code",
   "execution_count": 4,
   "id": "f075a7e3",
   "metadata": {},
   "outputs": [
    {
     "name": "stdout",
     "output_type": "stream",
     "text": [
      "enter number : 78\n",
      "enter number :65\n",
      "enter number : 78\n",
      "enter number: 65\n",
      "78 + 65 = 7865\n"
     ]
    }
   ],
   "source": [
    "number = int(input(\"enter number : \"))\n",
    "no = int(input(\"enter number :\"))\n",
    "nmber = str(input(\"enter number : \"))\n",
    "num = str(input(\"enter number: \"))\n",
    "print(number,\"+\",no,\"=\",nmber+num)\n"
   ]
  },
  {
   "cell_type": "code",
   "execution_count": 6,
   "id": "2f3200a1",
   "metadata": {},
   "outputs": [
    {
     "name": "stdout",
     "output_type": "stream",
     "text": [
      "enter number : 98\n",
      "enter number :78\n",
      "enter number : 98\n",
      "enter number: 78\n",
      "98 + 78 = 9878\n"
     ]
    }
   ],
   "source": [
    "number = int(input(\"enter number : \"))\n",
    "no = int(input(\"enter number :\"))\n",
    "nmber = str(input(\"enter number : \"))\n",
    "num = str(input(\"enter number: \"))\n",
    "print(number,\"+\",no,\"=\",nmber+num)"
   ]
  },
  {
   "cell_type": "code",
   "execution_count": 5,
   "id": "43db5124",
   "metadata": {},
   "outputs": [
    {
     "name": "stdout",
     "output_type": "stream",
     "text": [
      "enter number : 78\n",
      "enter number :67\n",
      "enter number : 78\n",
      "enter number: 67\n",
      "78 + 67 = 7867\n"
     ]
    }
   ],
   "source": [
    "number = int(input(\"enter number : \"))\n",
    "no = int(input(\"enter number :\"))\n",
    "nmber = str(input(\"enter number : \"))\n",
    "num = str(input(\"enter number: \"))\n",
    "print(nmber,\"+\",num,\"=\",nmber+num)\n"
   ]
  },
  {
   "cell_type": "code",
   "execution_count": 6,
   "id": "3d680877",
   "metadata": {},
   "outputs": [
    {
     "name": "stdout",
     "output_type": "stream",
     "text": [
      "enter number : 89\n",
      "enter number :89\n",
      "enter number : \n",
      "enter number: 89\n",
      "89 + 89 = 178\n"
     ]
    }
   ],
   "source": [
    "number = int(input(\"enter number : \"))\n",
    "no = int(input(\"enter number :\"))\n",
    "nmber = str(input(\"enter number : \"))\n",
    "num = str(input(\"enter number: \"))\n",
    "print(number,\"+\",no,\"=\",number+no)\n"
   ]
  },
  {
   "cell_type": "code",
   "execution_count": 7,
   "id": "e2b1988d",
   "metadata": {},
   "outputs": [
    {
     "name": "stdout",
     "output_type": "stream",
     "text": [
      "252*5\n"
     ]
    },
    {
     "ename": "ValueError",
     "evalue": "invalid literal for int() with base 10: '2*5'",
     "output_type": "error",
     "traceback": [
      "\u001b[1;31m---------------------------------------------------------------------------\u001b[0m",
      "\u001b[1;31mValueError\u001b[0m                                Traceback (most recent call last)",
      "Cell \u001b[1;32mIn[7], line 1\u001b[0m\n\u001b[1;32m----> 1\u001b[0m one \u001b[38;5;241m=\u001b[39m \u001b[38;5;28;43mint\u001b[39;49m\u001b[43m(\u001b[49m\u001b[38;5;28;43minput\u001b[39;49m\u001b[43m(\u001b[49m\u001b[38;5;124;43m\"\u001b[39;49m\u001b[38;5;124;43m25\u001b[39;49m\u001b[38;5;124;43m\"\u001b[39;49m\u001b[43m)\u001b[49m\u001b[43m)\u001b[49m\n\u001b[0;32m      2\u001b[0m two \u001b[38;5;241m=\u001b[39m \u001b[38;5;28mint\u001b[39m(\u001b[38;5;28minput\u001b[39m(\u001b[38;5;124m\"\u001b[39m\u001b[38;5;124m35\u001b[39m\u001b[38;5;124m\"\u001b[39m))\n\u001b[0;32m      3\u001b[0m \u001b[38;5;28mprint\u001b[39m(one,\u001b[38;5;124m\"\u001b[39m\u001b[38;5;124m*\u001b[39m\u001b[38;5;124m\"\u001b[39m,two,\u001b[38;5;124m\"\u001b[39m\u001b[38;5;124m*\u001b[39m\u001b[38;5;124m\"\u001b[39m)\n",
      "\u001b[1;31mValueError\u001b[0m: invalid literal for int() with base 10: '2*5'"
     ]
    }
   ],
   "source": [
    "one = int(input(\"25\"))\n",
    "two = int(input(\"35\"))\n",
    "print(one,\"*\",two,\"*\")"
   ]
  },
  {
   "cell_type": "code",
   "execution_count": 8,
   "id": "fa20b058",
   "metadata": {},
   "outputs": [
    {
     "name": "stdout",
     "output_type": "stream",
     "text": [
      "2525\n",
      "3535\n",
      "25 * 35 *\n"
     ]
    }
   ],
   "source": [
    "one = int(input(\"25\"))\n",
    "two = int(input(\"35\"))\n",
    "print(one,\"*\",two,\"*\")\n"
   ]
  },
  {
   "cell_type": "code",
   "execution_count": 1,
   "id": "75d1f513",
   "metadata": {},
   "outputs": [
    {
     "name": "stdout",
     "output_type": "stream",
     "text": [
      "2345\n",
      "2545\n",
      "2345\n",
      "2545\n"
     ]
    },
    {
     "ename": "TypeError",
     "evalue": "can't multiply sequence by non-int of type 'str'",
     "output_type": "error",
     "traceback": [
      "\u001b[1;31m---------------------------------------------------------------------------\u001b[0m",
      "\u001b[1;31mTypeError\u001b[0m                                 Traceback (most recent call last)",
      "Cell \u001b[1;32mIn[1], line 5\u001b[0m\n\u001b[0;32m      3\u001b[0m three\u001b[38;5;241m=\u001b[39m \u001b[38;5;28mstr\u001b[39m(\u001b[38;5;28minput\u001b[39m(\u001b[38;5;124m\"\u001b[39m\u001b[38;5;124m23\u001b[39m\u001b[38;5;124m\"\u001b[39m))\n\u001b[0;32m      4\u001b[0m four \u001b[38;5;241m=\u001b[39m \u001b[38;5;28mstr\u001b[39m(\u001b[38;5;28minput\u001b[39m(\u001b[38;5;124m\"\u001b[39m\u001b[38;5;124m25\u001b[39m\u001b[38;5;124m\"\u001b[39m))\n\u001b[1;32m----> 5\u001b[0m \u001b[38;5;28mprint\u001b[39m(\u001b[38;5;124;43m\"\u001b[39;49m\u001b[38;5;124;43mthree\u001b[39;49m\u001b[38;5;124;43m\"\u001b[39;49m\u001b[38;5;241;43m*\u001b[39;49m\u001b[38;5;124;43m\"\u001b[39;49m\u001b[38;5;124;43mfour\u001b[39;49m\u001b[38;5;124;43m\"\u001b[39;49m)\n",
      "\u001b[1;31mTypeError\u001b[0m: can't multiply sequence by non-int of type 'str'"
     ]
    }
   ],
   "source": [
    "one = int(input(\"23\"))\n",
    "two = int(input(\"25\"))\n",
    "three= str(input(\"23\"))\n",
    "four = str(input(\"25\"))\n",
    "print(\"three\"*\"four\")"
   ]
  },
  {
   "cell_type": "code",
   "execution_count": 12,
   "id": "f9e3b7b0",
   "metadata": {},
   "outputs": [
    {
     "name": "stdout",
     "output_type": "stream",
     "text": [
      "enter no: 23\n",
      "enter no : 24\n",
      "15\n"
     ]
    }
   ],
   "source": [
    "one = int(input(\"enter no: \")) # botmass throught\n",
    "two = int(input(\"enter no : \"))\n",
    "product = one//10 * two%10 + one%10 * two//10\n",
    "print(product)"
   ]
  },
  {
   "cell_type": "code",
   "execution_count": 14,
   "id": "bdbb6f24",
   "metadata": {
    "scrolled": true
   },
   "outputs": [
    {
     "name": "stdout",
     "output_type": "stream",
     "text": [
      "enter no: 23\n",
      "enter no : 24\n",
      "14\n"
     ]
    }
   ],
   "source": [
    "one = int(input(\"enter no: \")) # operater throught\n",
    "two = int(input(\"enter no : \"))\n",
    "product = (one//10) * (two%10) + (one%10) * (two//10)\n",
    "print(product)"
   ]
  },
  {
   "cell_type": "code",
   "execution_count": 20,
   "id": "4172fb0e",
   "metadata": {},
   "outputs": [
    {
     "data": {
      "text/plain": [
       "23"
      ]
     },
     "execution_count": 20,
     "metadata": {},
     "output_type": "execute_result"
    }
   ],
   "source": [
    "23%24"
   ]
  },
  {
   "cell_type": "code",
   "execution_count": null,
   "id": "b40819d0",
   "metadata": {},
   "outputs": [
    {
     "name": "stdout",
     "output_type": "stream",
     "text": [
      "35 35\n"
     ]
    }
   ],
   "source": [
    "one = int(input(\"35 \"))\n",
    "two = int(input(\"34\"))\n",
    "print(35*34)"
   ]
  },
  {
   "cell_type": "code",
   "execution_count": 3,
   "id": "ecf14a62",
   "metadata": {},
   "outputs": [
    {
     "name": "stdout",
     "output_type": "stream",
     "text": [
      "enter no45\n",
      "enter no10\n",
      "5\n"
     ]
    }
   ],
   "source": [
    "one = int(input(\"enter no\"))\n",
    "two = int(input(\"enter no\"))\n",
    "three = (one%two)\n",
    "print(three)\n",
    "\n"
   ]
  },
  {
   "cell_type": "code",
   "execution_count": 5,
   "id": "7e1070f6",
   "metadata": {},
   "outputs": [
    {
     "ename": "SyntaxError",
     "evalue": "invalid syntax (472999216.py, line 3)",
     "output_type": "error",
     "traceback": [
      "\u001b[1;36m  Cell \u001b[1;32mIn[5], line 3\u001b[1;36m\u001b[0m\n\u001b[1;33m    three = (one%)\u001b[0m\n\u001b[1;37m                 ^\u001b[0m\n\u001b[1;31mSyntaxError\u001b[0m\u001b[1;31m:\u001b[0m invalid syntax\n"
     ]
    }
   ],
   "source": [
    "one = int(input(\"enter no\"))\n",
    "two = \"%\"\n",
    "print(three)\n",
    "\n"
   ]
  },
  {
   "cell_type": "code",
   "execution_count": 10,
   "id": "a6cb1361",
   "metadata": {},
   "outputs": [
    {
     "name": "stdout",
     "output_type": "stream",
     "text": [
      "35 34\n",
      "34\n"
     ]
    },
    {
     "ename": "ValueError",
     "evalue": "invalid literal for int() with base 10: ''",
     "output_type": "error",
     "traceback": [
      "\u001b[1;31m---------------------------------------------------------------------------\u001b[0m",
      "\u001b[1;31mValueError\u001b[0m                                Traceback (most recent call last)",
      "Cell \u001b[1;32mIn[10], line 2\u001b[0m\n\u001b[0;32m      1\u001b[0m one \u001b[38;5;241m=\u001b[39m \u001b[38;5;28mint\u001b[39m(\u001b[38;5;28minput\u001b[39m(\u001b[38;5;124m\"\u001b[39m\u001b[38;5;124m35 \u001b[39m\u001b[38;5;124m\"\u001b[39m))\n\u001b[1;32m----> 2\u001b[0m two \u001b[38;5;241m=\u001b[39m \u001b[38;5;28;43mint\u001b[39;49m\u001b[43m(\u001b[49m\u001b[38;5;28;43minput\u001b[39;49m\u001b[43m(\u001b[49m\u001b[38;5;124;43m\"\u001b[39;49m\u001b[38;5;124;43m34\u001b[39;49m\u001b[38;5;124;43m\"\u001b[39;49m\u001b[43m)\u001b[49m\u001b[43m)\u001b[49m\n\u001b[0;32m      4\u001b[0m \u001b[38;5;28mprint\u001b[39m(one\u001b[38;5;241m*\u001b[39mtwo)\n",
      "\u001b[1;31mValueError\u001b[0m: invalid literal for int() with base 10: ''"
     ]
    }
   ],
   "source": [
    "one = int(input(\"35 \"))\n",
    "two = int(input(\"34\"))\n",
    "\n",
    "print(one*two)\n"
   ]
  },
  {
   "cell_type": "code",
   "execution_count": 21,
   "id": "5518b0b5",
   "metadata": {},
   "outputs": [
    {
     "name": "stdout",
     "output_type": "stream",
     "text": [
      "4545\n",
      "0\n"
     ]
    }
   ],
   "source": [
    "one = int(input(\"45\"))\n",
    "print(one%45)"
   ]
  },
  {
   "cell_type": "code",
   "execution_count": 4,
   "id": "9ffef6aa",
   "metadata": {},
   "outputs": [
    {
     "ename": "SyntaxError",
     "evalue": "invalid syntax (3582567533.py, line 2)",
     "output_type": "error",
     "traceback": [
      "\u001b[1;36m  Cell \u001b[1;32mIn[4], line 2\u001b[1;36m\u001b[0m\n\u001b[1;33m    print(one,%)\u001b[0m\n\u001b[1;37m              ^\u001b[0m\n\u001b[1;31mSyntaxError\u001b[0m\u001b[1;31m:\u001b[0m invalid syntax\n"
     ]
    }
   ],
   "source": [
    "one = int(input(\"45\"))\n",
    "print(one,%)"
   ]
  },
  {
   "cell_type": "code",
   "execution_count": 1,
   "id": "f579253e",
   "metadata": {},
   "outputs": [
    {
     "name": "stdout",
     "output_type": "stream",
     "text": [
      "4590\n",
      "49\n",
      "0\n"
     ]
    }
   ],
   "source": [
    "one = int(input(\"45\"))\n",
    "two = int(input(\"4\"))\n",
    "print(one%two)"
   ]
  },
  {
   "cell_type": "code",
   "execution_count": 5,
   "id": "34b631cf",
   "metadata": {},
   "outputs": [
    {
     "name": "stdout",
     "output_type": "stream",
     "text": [
      "4545\n"
     ]
    },
    {
     "ename": "TypeError",
     "evalue": "'int' object is not callable",
     "output_type": "error",
     "traceback": [
      "\u001b[1;31m---------------------------------------------------------------------------\u001b[0m",
      "\u001b[1;31mTypeError\u001b[0m                                 Traceback (most recent call last)",
      "Cell \u001b[1;32mIn[5], line 2\u001b[0m\n\u001b[0;32m      1\u001b[0m one \u001b[38;5;241m=\u001b[39m \u001b[38;5;28mint\u001b[39m(\u001b[38;5;28minput\u001b[39m(\u001b[38;5;124m\"\u001b[39m\u001b[38;5;124m45\u001b[39m\u001b[38;5;124m\"\u001b[39m))\n\u001b[1;32m----> 2\u001b[0m \u001b[38;5;28mprint\u001b[39m(\u001b[43mone\u001b[49m\u001b[43m(\u001b[49m\u001b[38;5;124;43m'\u001b[39;49m\u001b[38;5;124;43m%\u001b[39;49m\u001b[38;5;124;43m'\u001b[39;49m\u001b[43m)\u001b[49m)\n",
      "\u001b[1;31mTypeError\u001b[0m: 'int' object is not callable"
     ]
    }
   ],
   "source": [
    "one = int(input(\"45\"))\n",
    "print(one('%'))\n"
   ]
  },
  {
   "cell_type": "code",
   "execution_count": 16,
   "id": "de6f962a",
   "metadata": {},
   "outputs": [
    {
     "name": "stdout",
     "output_type": "stream",
     "text": [
      "4525\n",
      "25 0\n"
     ]
    }
   ],
   "source": [
    "one = int(input(\"45\"))\n",
    "two = (one%5)\n",
    "print(one,two)"
   ]
  },
  {
   "cell_type": "code",
   "execution_count": 17,
   "id": "caf0ce8c",
   "metadata": {},
   "outputs": [
    {
     "name": "stdout",
     "output_type": "stream",
     "text": [
      "number25\n",
      "25 0\n"
     ]
    }
   ],
   "source": [
    "one = int(input(\"number\"))\n",
    "two = (one%5)\n",
    "print(one,two)"
   ]
  },
  {
   "cell_type": "code",
   "execution_count": 18,
   "id": "85ec6ddb",
   "metadata": {},
   "outputs": [
    {
     "name": "stdout",
     "output_type": "stream",
     "text": [
      "number:50\n",
      "50 0\n"
     ]
    }
   ],
   "source": [
    "one = int(input(\"number:\"))\n",
    "two = (one%5)\n",
    "print(one,two)"
   ]
  },
  {
   "cell_type": "code",
   "execution_count": 19,
   "id": "568105d3",
   "metadata": {},
   "outputs": [
    {
     "name": "stdout",
     "output_type": "stream",
     "text": [
      "number:56\n",
      "1\n"
     ]
    }
   ],
   "source": [
    "one = int(input(\"number:\"))\n",
    "two = (one%5)\n",
    "print(two)"
   ]
  },
  {
   "cell_type": "code",
   "execution_count": 20,
   "id": "118be8d0",
   "metadata": {},
   "outputs": [
    {
     "name": "stdout",
     "output_type": "stream",
     "text": [
      "number:50\n",
      "0\n"
     ]
    }
   ],
   "source": [
    "one = int(input(\"number:\"))\n",
    "two = (one%5)\n",
    "print(two)"
   ]
  },
  {
   "cell_type": "code",
   "execution_count": 6,
   "id": "3370f2dc",
   "metadata": {},
   "outputs": [
    {
     "ename": "SyntaxError",
     "evalue": "invalid syntax (2557122450.py, line 2)",
     "output_type": "error",
     "traceback": [
      "\u001b[1;36m  Cell \u001b[1;32mIn[6], line 2\u001b[1;36m\u001b[0m\n\u001b[1;33m    two = (one%)\u001b[0m\n\u001b[1;37m               ^\u001b[0m\n\u001b[1;31mSyntaxError\u001b[0m\u001b[1;31m:\u001b[0m invalid syntax\n"
     ]
    }
   ],
   "source": [
    "one = int(input(\"number:\"))\n",
    "two = (one%)\n",
    "print(two)"
   ]
  },
  {
   "cell_type": "code",
   "execution_count": 22,
   "id": "44b81a82",
   "metadata": {},
   "outputs": [
    {
     "name": "stdout",
     "output_type": "stream",
     "text": [
      "number:100\n",
      "0\n"
     ]
    }
   ],
   "source": [
    "one = int(input(\"number:\"))#use modules\n",
    "two = (one%5)\n",
    "print(two)"
   ]
  },
  {
   "cell_type": "code",
   "execution_count": 3,
   "id": "9acabde6",
   "metadata": {},
   "outputs": [
    {
     "name": "stdout",
     "output_type": "stream",
     "text": [
      "enter integer number : 25\n",
      "enter integer number : 36\n",
      "25 * 0 + 36 * 0 = 61\n"
     ]
    }
   ],
   "source": [
    "one = int(input(\"enter integer number : \"))\n",
    "three = one%5\n",
    "two = int(input(\"enter integer number : \"))\n",
    "four = two%6\n",
    "print(one,\"*\",four,\"+\",two,\"*\",three,\"=\",one+two)\n"
   ]
  },
  {
   "cell_type": "code",
   "execution_count": 2,
   "id": "0ee9aa2a",
   "metadata": {},
   "outputs": [
    {
     "name": "stdout",
     "output_type": "stream",
     "text": [
      "number:34\n",
      "4\n"
     ]
    }
   ],
   "source": [
    "one = int(input(\"number:\"))\n",
    "two = (one%6)\n",
    "print(two)"
   ]
  },
  {
   "cell_type": "code",
   "execution_count": 4,
   "id": "ba62664a",
   "metadata": {},
   "outputs": [
    {
     "name": "stdout",
     "output_type": "stream",
     "text": [
      "enter integer number : 46\n",
      "enter integer number : 57\n",
      "46 * 3 + 57 * 1 = 103\n"
     ]
    }
   ],
   "source": [
    "one = int(input(\"enter integer number : \"))\n",
    "three = one%5\n",
    "two = int(input(\"enter integer number : \"))\n",
    "four = two%6\n",
    "print(one,\"*\",four,\"+\",two,\"*\",three,\"=\",one+two)\n"
   ]
  },
  {
   "cell_type": "code",
   "execution_count": 10,
   "id": "13fbefc3",
   "metadata": {},
   "outputs": [
    {
     "name": "stdout",
     "output_type": "stream",
     "text": [
      "number:78\n",
      "9.75\n"
     ]
    }
   ],
   "source": [
    "one = int(input(\"number:\"))\n",
    "two = (one/8)\n",
    "print(two)"
   ]
  },
  {
   "cell_type": "code",
   "execution_count": 11,
   "id": "bfa69622",
   "metadata": {},
   "outputs": [
    {
     "name": "stdout",
     "output_type": "stream",
     "text": [
      "number:67\n",
      "8\n"
     ]
    }
   ],
   "source": [
    "one = int(input(\"number:\"))\n",
    "two = (one//8)\n",
    "print(two)"
   ]
  },
  {
   "cell_type": "code",
   "execution_count": 12,
   "id": "4e426334",
   "metadata": {},
   "outputs": [
    {
     "name": "stdout",
     "output_type": "stream",
     "text": [
      "number:78\n",
      "6\n"
     ]
    }
   ],
   "source": [
    "one = int(input(\"number:\"))\n",
    "two = (one%8)\n",
    "print(two)"
   ]
  },
  {
   "cell_type": "code",
   "execution_count": 15,
   "id": "1a8f6463",
   "metadata": {},
   "outputs": [
    {
     "name": "stdout",
     "output_type": "stream",
     "text": [
      "number:45\n",
      "%5\n",
      "5\n"
     ]
    }
   ],
   "source": [
    "one = int(input(\"number:\"))\n",
    "two = input(\"%\")\n",
    "\n",
    "print(two)"
   ]
  },
  {
   "cell_type": "code",
   "execution_count": 7,
   "id": "f312a302",
   "metadata": {},
   "outputs": [
    {
     "name": "stdout",
     "output_type": "stream",
     "text": [
      "enter34\n",
      "3434343434343434343434\n"
     ]
    }
   ],
   "source": [
    "x = input(\"enter\")\n",
    "print(x*11)"
   ]
  },
  {
   "cell_type": "code",
   "execution_count": 16,
   "id": "052c9263",
   "metadata": {},
   "outputs": [
    {
     "name": "stdout",
     "output_type": "stream",
     "text": [
      "number:78\n",
      "%\n",
      "\n"
     ]
    }
   ],
   "source": [
    "one = int(input(\"number:\"))\n",
    "two = input(\"%\")\n",
    "\n",
    "print(two)"
   ]
  },
  {
   "cell_type": "code",
   "execution_count": 17,
   "id": "90487db7",
   "metadata": {},
   "outputs": [
    {
     "name": "stdout",
     "output_type": "stream",
     "text": [
      "number:56\n",
      "%7\n",
      "7\n"
     ]
    }
   ],
   "source": [
    "one = int(input(\"number:\"))\n",
    "two = input(\"%\")\n",
    "\n",
    "print(two)"
   ]
  },
  {
   "cell_type": "code",
   "execution_count": 24,
   "id": "f7b57f57",
   "metadata": {},
   "outputs": [
    {
     "name": "stdout",
     "output_type": "stream",
     "text": [
      "number:56\n"
     ]
    },
    {
     "ename": "TypeError",
     "evalue": "unsupported operand type(s) for %: 'int' and 'str'",
     "output_type": "error",
     "traceback": [
      "\u001b[1;31m---------------------------------------------------------------------------\u001b[0m",
      "\u001b[1;31mTypeError\u001b[0m                                 Traceback (most recent call last)",
      "Cell \u001b[1;32mIn[24], line 5\u001b[0m\n\u001b[0;32m      1\u001b[0m one \u001b[38;5;241m=\u001b[39m \u001b[38;5;28mint\u001b[39m(\u001b[38;5;28minput\u001b[39m(\u001b[38;5;124m\"\u001b[39m\u001b[38;5;124mnumber:\u001b[39m\u001b[38;5;124m\"\u001b[39m))\n\u001b[0;32m      2\u001b[0m two \u001b[38;5;241m=\u001b[39m \u001b[38;5;124m'\u001b[39m\u001b[38;5;124m%\u001b[39m\u001b[38;5;124m'\u001b[39m\n\u001b[1;32m----> 5\u001b[0m \u001b[38;5;28mprint\u001b[39m(\u001b[43mone\u001b[49m\u001b[38;5;241;43m%\u001b[39;49m\u001b[43mtwo\u001b[49m)\n",
      "\u001b[1;31mTypeError\u001b[0m: unsupported operand type(s) for %: 'int' and 'str'"
     ]
    }
   ],
   "source": [
    "one = int(input(\"number:\"))\n",
    "two = '%'\n",
    "\n",
    "\n",
    "print(one%two)"
   ]
  },
  {
   "cell_type": "code",
   "execution_count": 30,
   "id": "441084ab",
   "metadata": {},
   "outputs": [
    {
     "name": "stdout",
     "output_type": "stream",
     "text": [
      "number:67\n",
      "('one', '%')\n"
     ]
    }
   ],
   "source": [
    "one = int(input(\"number:\"))\n",
    "\n",
    "print(two)"
   ]
  },
  {
   "cell_type": "code",
   "execution_count": 47,
   "id": "df3c5bda",
   "metadata": {},
   "outputs": [
    {
     "name": "stdout",
     "output_type": "stream",
     "text": [
      "number:45\n",
      "5\n"
     ]
    }
   ],
   "source": [
    "one = int(input(\"number:\"))\n",
    "two = (one%10)\n",
    "\n",
    "\n",
    "\n",
    "print(two)"
   ]
  },
  {
   "cell_type": "code",
   "execution_count": 48,
   "id": "5a5e0a5f",
   "metadata": {},
   "outputs": [
    {
     "name": "stdout",
     "output_type": "stream",
     "text": [
      "number:67\n",
      "7\n"
     ]
    }
   ],
   "source": [
    "one = int(input(\"number:\"))\n",
    "two = (one%10)\n",
    "\n",
    "print(two)"
   ]
  },
  {
   "cell_type": "code",
   "execution_count": 49,
   "id": "558f0ad4",
   "metadata": {},
   "outputs": [
    {
     "name": "stdout",
     "output_type": "stream",
     "text": [
      "number:69\n",
      "9\n"
     ]
    }
   ],
   "source": [
    "one = int(input(\"number:\"))\n",
    "two = (one%10)\n",
    "\n",
    "print(two)"
   ]
  },
  {
   "cell_type": "code",
   "execution_count": 50,
   "id": "50901c89",
   "metadata": {},
   "outputs": [
    {
     "name": "stdout",
     "output_type": "stream",
     "text": [
      "number:45\n",
      "5\n"
     ]
    }
   ],
   "source": [
    "one = int(input(\"number:\"))\n",
    "two = (one%10)\n",
    "\n",
    "print(two)\n"
   ]
  },
  {
   "cell_type": "code",
   "execution_count": 51,
   "id": "385e4ecc",
   "metadata": {},
   "outputs": [
    {
     "name": "stdout",
     "output_type": "stream",
     "text": [
      "number:9009\n",
      "9\n"
     ]
    }
   ],
   "source": [
    "one = int(input(\"number:\"))\n",
    "two = (one%10)\n",
    "\n",
    "print(two)"
   ]
  },
  {
   "cell_type": "code",
   "execution_count": 52,
   "id": "6e96aada",
   "metadata": {},
   "outputs": [
    {
     "name": "stdout",
     "output_type": "stream",
     "text": [
      "number:78966547654356\n",
      "6\n"
     ]
    }
   ],
   "source": [
    "one = int(input(\"number:\"))\n",
    "two = (one%10)\n",
    "\n",
    "print(two)"
   ]
  },
  {
   "cell_type": "code",
   "execution_count": 60,
   "id": "62b0a381",
   "metadata": {},
   "outputs": [
    {
     "name": "stdout",
     "output_type": "stream",
     "text": [
      "enter integer number : 23\n",
      "enter integer number : 34\n",
      "0 * 0 + 4 * 3 = 0\n"
     ]
    }
   ],
   "source": [
    "one = int(input(\"enter integer number : \"))\n",
    "two = int(input(\"enter integer number : \"))\n",
    "G1 = (two%1)\n",
    "G2 = (one%10)\n",
    "G3 = (one%1)\n",
    "G4 = (two%10)\n",
    "print(G1,\"*\",G3,\"+\",G2,\"*\",G4,\"=\",G1*G2+G3*G4)"
   ]
  },
  {
   "cell_type": "code",
   "execution_count": 61,
   "id": "67098e65",
   "metadata": {},
   "outputs": [
    {
     "name": "stdout",
     "output_type": "stream",
     "text": [
      "enter integer number : 23\n",
      "enter integer number : 34\n",
      "23 * 4 + 34 * 3 = 57\n"
     ]
    }
   ],
   "source": [
    "one = int(input(\"enter integer number : \"))\n",
    "three = one%5\n",
    "two = int(input(\"enter integer number : \"))\n",
    "four = two%6\n",
    "print(one,\"*\",four,\"+\",two,\"*\",three,\"=\",one+two)"
   ]
  },
  {
   "cell_type": "code",
   "execution_count": 3,
   "id": "f055966c",
   "metadata": {},
   "outputs": [
    {
     "name": "stdout",
     "output_type": "stream",
     "text": [
      "enter integer number : 23\n",
      "enter integer number : 25\n",
      "2 * 3 + 5 * 2 = 16\n"
     ]
    }
   ],
   "source": [
    "one = int(input(\"enter integer number : \"))\n",
    "two = int(input(\"enter integer number : \"))\n",
    "G1 = (one//10)\n",
    "G2 = (two%10)\n",
    "G3 = (one%10)\n",
    "G4 = (two//10)\n",
    "print(G1,\"*\",G3,\"+\",G2,\"*\",G4,\"=\",G1*G2+G3*G4)"
   ]
  },
  {
   "cell_type": "code",
   "execution_count": 66,
   "id": "59e69c7b",
   "metadata": {},
   "outputs": [
    {
     "name": "stdout",
     "output_type": "stream",
     "text": [
      "enter integer number : 23\n",
      "enter integer number : 25\n",
      "0 * 5 + 3 * 3 = 15\n"
     ]
    }
   ],
   "source": [
    "one = int(input(\"enter integer number : \"))\n",
    "two = int(input(\"enter integer number : \"))\n",
    "G1 = (two%5)\n",
    "G2 = (one%10)\n",
    "G3 = (one%5)\n",
    "G4 = (two%10)\n",
    "print(G1,\"*\",G4,\"+\",G2,\"*\",G3,\"=\",G1*G2+G3*G4)"
   ]
  },
  {
   "cell_type": "code",
   "execution_count": 70,
   "id": "e658254d",
   "metadata": {},
   "outputs": [
    {
     "name": "stdout",
     "output_type": "stream",
     "text": [
      "enter integer number : 23\n",
      "enter integer number : 25\n",
      "3 * 5 + 5 * 3 = 34\n"
     ]
    }
   ],
   "source": [
    "one = int(input(\"enter integer number : \"))\n",
    "two = int(input(\"enter integer number : \"))\n",
    "G1 = (one%10%10)\n",
    "G2 = (one%10)\n",
    "G3 = (two%10%10)\n",
    "G4 = (two%10)\n",
    "print(G1,\"*\",G4,\"+\",G3,\"*\",G2,\"=\",G1*G2+G3*G4)"
   ]
  },
  {
   "cell_type": "code",
   "execution_count": 2,
   "id": "1ce4d9a1",
   "metadata": {},
   "outputs": [
    {
     "name": "stdout",
     "output_type": "stream",
     "text": [
      "enter integer number : 23\n",
      "enter integer number : 34\n",
      "3 * 4 + 0 * 0 = 0\n"
     ]
    }
   ],
   "source": [
    "one = int(input(\"enter integer number : \"))\n",
    "two = int(input(\"enter integer number : \"))\n",
    "G1 = (one%10)\n",
    "G2 = (one%10)\n",
    "G3 = (two%10)\n",
    "G4 = (two%10)\n",
    "print(G1,\"*\",G3,\"+\",G2,\"*\",G4,\"=\",G1*G2+G3*G4)\n"
   ]
  },
  {
   "cell_type": "code",
   "execution_count": 1,
   "id": "d7fa7e3d",
   "metadata": {},
   "outputs": [
    {
     "name": "stdout",
     "output_type": "stream",
     "text": [
      "enter number: 23\n",
      "enter number :25\n",
      "29.25\n"
     ]
    }
   ],
   "source": [
    "one = int(input(\"enter number: \"))\n",
    "two = int(input(\"enter number :\"))\n",
    "three = str(one)\n",
    "four = str(two)\n",
    "print(one+two/4)"
   ]
  },
  {
   "cell_type": "code",
   "execution_count": 2,
   "id": "90468a1a",
   "metadata": {},
   "outputs": [
    {
     "name": "stdout",
     "output_type": "stream",
     "text": [
      "enter number: 45\n",
      "enter number :56\n"
     ]
    }
   ],
   "source": [
    "one = int(input(\"enter number: \"))\n",
    "two = int(input(\"enter number :\"))"
   ]
  },
  {
   "cell_type": "code",
   "execution_count": 38,
   "id": "2a4b802d",
   "metadata": {},
   "outputs": [
    {
     "name": "stdout",
     "output_type": "stream",
     "text": [
      "enter friend name: Gaurav\n",
      "enter friend name:rishi\n",
      "enter friend name: ['rishi']\n",
      "enter friend name: ['Gaurav']\n"
     ]
    }
   ],
   "source": [
    "a = input('enter friend name: ')\n",
    "b= input(\"enter friend name:\")\n",
    "c= b.split()\n",
    "b= a.split()\n",
    "a = c\n",
    "print(\"enter friend name:\",a)\n",
    "print(\"enter friend name:\",b)"
   ]
  },
  {
   "cell_type": "code",
   "execution_count": null,
   "id": "39e83011",
   "metadata": {},
   "outputs": [],
   "source": []
  }
 ],
 "metadata": {
  "kernelspec": {
   "display_name": "Python 3 (ipykernel)",
   "language": "python",
   "name": "python3"
  },
  "language_info": {
   "codemirror_mode": {
    "name": "ipython",
    "version": 3
   },
   "file_extension": ".py",
   "mimetype": "text/x-python",
   "name": "python",
   "nbconvert_exporter": "python",
   "pygments_lexer": "ipython3",
   "version": "3.10.9"
  }
 },
 "nbformat": 4,
 "nbformat_minor": 5
}
