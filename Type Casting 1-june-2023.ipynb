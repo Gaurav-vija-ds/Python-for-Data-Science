{
 "cells": [
  {
   "cell_type": "markdown",
   "id": "983044ef",
   "metadata": {},
   "source": [
    "# Non Primitive Data Types (Also Call this is a Data Structure)\n",
    " - Non-primitive data type are also called data structures.\n",
    " - in data structrue primitive and non-primitive data type can both be stored is a sequence or structure"
   ]
  },
  {
   "cell_type": "markdown",
   "id": "d4b5d0e8",
   "metadata": {},
   "source": [
    "# List Data"
   ]
  },
  {
   "cell_type": "code",
   "execution_count": 3,
   "id": "a18a872b",
   "metadata": {},
   "outputs": [
    {
     "name": "stdout",
     "output_type": "stream",
     "text": [
      "Hello\n",
      "<built-in function id> Hello\n"
     ]
    }
   ],
   "source": [
    "x = [\"Hello\",\"gaurav\",1,2,3,[4,5,6,[\"Hello\"]]]\n",
    "print(x[5][3][0])\n",
    "print(id ,x[0])\n"
   ]
  },
  {
   "cell_type": "code",
   "execution_count": 7,
   "id": "76312d45",
   "metadata": {},
   "outputs": [
    {
     "data": {
      "text/plain": [
       "[10, '4', '5']"
      ]
     },
     "execution_count": 7,
     "metadata": {},
     "output_type": "execute_result"
    }
   ],
   "source": [
    "x = [10]\n",
    "\n",
    "x.extend(\"45\")\n",
    "x"
   ]
  },
  {
   "cell_type": "markdown",
   "id": "0266025a",
   "metadata": {},
   "source": [
    "# List Indexing\n"
   ]
  },
  {
   "cell_type": "code",
   "execution_count": 42,
   "id": "f79f099a",
   "metadata": {},
   "outputs": [
    {
     "data": {
      "text/plain": [
       "6"
      ]
     },
     "execution_count": 42,
     "metadata": {},
     "output_type": "execute_result"
    }
   ],
   "source": [
    "x[5][2]"
   ]
  },
  {
   "cell_type": "code",
   "execution_count": 4,
   "id": "e8c6ec9f",
   "metadata": {},
   "outputs": [
    {
     "data": {
      "text/plain": [
       "'hello'"
      ]
     },
     "execution_count": 4,
     "metadata": {},
     "output_type": "execute_result"
    }
   ],
   "source": [
    "x= [1,4,5,[6,7,\"hello\"]]\n",
    "x[3][2]"
   ]
  },
  {
   "cell_type": "code",
   "execution_count": 1,
   "id": "e0aa170c",
   "metadata": {},
   "outputs": [
    {
     "ename": "NameError",
     "evalue": "name 'x' is not defined",
     "output_type": "error",
     "traceback": [
      "\u001b[1;31m---------------------------------------------------------------------------\u001b[0m",
      "\u001b[1;31mNameError\u001b[0m                                 Traceback (most recent call last)",
      "Cell \u001b[1;32mIn[1], line 1\u001b[0m\n\u001b[1;32m----> 1\u001b[0m \u001b[43mx\u001b[49m[\u001b[38;5;241m5\u001b[39m]\n",
      "\u001b[1;31mNameError\u001b[0m: name 'x' is not defined"
     ]
    }
   ],
   "source": [
    "x[5]"
   ]
  },
  {
   "cell_type": "code",
   "execution_count": 31,
   "id": "78398650",
   "metadata": {},
   "outputs": [
    {
     "data": {
      "text/plain": [
       "'Hello'"
      ]
     },
     "execution_count": 31,
     "metadata": {},
     "output_type": "execute_result"
    }
   ],
   "source": [
    "x[5][3][0]"
   ]
  },
  {
   "cell_type": "code",
   "execution_count": 33,
   "id": "e5d38638",
   "metadata": {},
   "outputs": [
    {
     "data": {
      "text/plain": [
       "4"
      ]
     },
     "execution_count": 33,
     "metadata": {},
     "output_type": "execute_result"
    }
   ],
   "source": [
    "x = [1,2,5,6,7,[6,8,[9,6,4]]]\n",
    "x[5][2][2]"
   ]
  },
  {
   "cell_type": "code",
   "execution_count": 34,
   "id": "40cefaa8",
   "metadata": {},
   "outputs": [
    {
     "data": {
      "text/plain": [
       "[1, 2, 5, 6, 7, [6, 8, [9, 6, 4]]]"
      ]
     },
     "execution_count": 34,
     "metadata": {},
     "output_type": "execute_result"
    }
   ],
   "source": [
    "x "
   ]
  },
  {
   "cell_type": "code",
   "execution_count": 46,
   "id": "0210764a",
   "metadata": {},
   "outputs": [
    {
     "name": "stdout",
     "output_type": "stream",
     "text": [
      "5\n"
     ]
    },
    {
     "data": {
      "text/plain": [
       "['gaurav']"
      ]
     },
     "execution_count": 46,
     "metadata": {},
     "output_type": "execute_result"
    }
   ],
   "source": [
    "x = [\"gaurav\",\"rishi\",\"rohit\",\"mohit\",[\"best\",\"friend\",[\"each\",\"one\",[\"gaurav\"]]]]\n",
    "print(len(x))\n",
    "\n",
    "x[2]\n",
    "x[4][2][2]\n"
   ]
  },
  {
   "cell_type": "code",
   "execution_count": 6,
   "id": "f50ae984",
   "metadata": {},
   "outputs": [
    {
     "data": {
      "text/plain": [
       "'nonprimitiv'"
      ]
     },
     "execution_count": 6,
     "metadata": {},
     "output_type": "execute_result"
    }
   ],
   "source": [
    "x = ['hello',\"sir\",[\"my\",\"name\",[\"is\",\"gaurav\",\"operater\",[\"string \",\"boolean\",[\"structure\",\"nonprimitiv\"]]]]]\n",
    "x[2][2][3][2][1]\n"
   ]
  },
  {
   "cell_type": "code",
   "execution_count": 7,
   "id": "a34cb869",
   "metadata": {},
   "outputs": [
    {
     "data": {
      "text/plain": [
       "[1, 2, 3, 'pyhton']"
      ]
     },
     "execution_count": 7,
     "metadata": {},
     "output_type": "execute_result"
    }
   ],
   "source": [
    "# lend .append(item) - Add a single item at the end of the list\n",
    "x = [1,2,3]\n",
    "x.append(\"pyhton\")\n",
    "x"
   ]
  },
  {
   "cell_type": "code",
   "execution_count": 8,
   "id": "4743e6f5",
   "metadata": {},
   "outputs": [
    {
     "data": {
      "text/plain": [
       "[1, 2, 3, 'pyhton', 'python is easy']"
      ]
     },
     "execution_count": 8,
     "metadata": {},
     "output_type": "execute_result"
    }
   ],
   "source": [
    "x.append(\"python is easy\")\n",
    "x"
   ]
  },
  {
   "cell_type": "code",
   "execution_count": 43,
   "id": "af29f1a1",
   "metadata": {},
   "outputs": [
    {
     "data": {
      "text/plain": [
       "[1, 2, 3, ['python is easy']]"
      ]
     },
     "execution_count": 43,
     "metadata": {},
     "output_type": "execute_result"
    }
   ],
   "source": [
    "x =[1,2,3]\n",
    "x.append([\"python is easy\"])\n",
    "x"
   ]
  },
  {
   "cell_type": "code",
   "execution_count": 9,
   "id": "63eb6bcf",
   "metadata": {},
   "outputs": [
    {
     "data": {
      "text/plain": [
       "['gaurav', 1, 3, 4, 'd', 'a', 't', 'a', ' ', 'h', 'e', 'l', 'l', 'o']"
      ]
     },
     "execution_count": 9,
     "metadata": {},
     "output_type": "execute_result"
    }
   ],
   "source": [
    "# Extend (iterable)\n",
    "# iterable - String ,Tuple,sets,List,Dictionary\n",
    "x= [\"gaurav\",1,3,4]\n",
    "x.extend(\"data hello\")\n",
    "x"
   ]
  },
  {
   "cell_type": "code",
   "execution_count": 50,
   "id": "bfa55286",
   "metadata": {},
   "outputs": [
    {
     "data": {
      "text/plain": [
       "['gaurav', 1, 3, 4, 'data', 'hello']"
      ]
     },
     "execution_count": 50,
     "metadata": {},
     "output_type": "execute_result"
    }
   ],
   "source": [
    "x= [\"gaurav\",1,3,4]\n",
    "x.extend([\"data\",\"hello\"])\n",
    "x"
   ]
  },
  {
   "cell_type": "code",
   "execution_count": 46,
   "id": "49a4856c",
   "metadata": {},
   "outputs": [
    {
     "data": {
      "text/plain": [
       "['gaurav', 1, 3, 4, 'd', 'a', 't', 'a']"
      ]
     },
     "execution_count": 46,
     "metadata": {},
     "output_type": "execute_result"
    }
   ],
   "source": [
    "x.extend(\"data\")\n",
    "x"
   ]
  },
  {
   "cell_type": "code",
   "execution_count": 48,
   "id": "35246870",
   "metadata": {},
   "outputs": [
    {
     "data": {
      "text/plain": [
       "['gaurav', 1, 3, 4, 'd', 'a', 't', 'a', 'data', 123, 56, 'data', 123, 56]"
      ]
     },
     "execution_count": 48,
     "metadata": {},
     "output_type": "execute_result"
    }
   ],
   "source": [
    "x.extend([\"data\",123,56])\n",
    "x"
   ]
  },
  {
   "cell_type": "code",
   "execution_count": 54,
   "id": "0a0fd5f0",
   "metadata": {},
   "outputs": [
    {
     "name": "stdout",
     "output_type": "stream",
     "text": [
      "hello\n"
     ]
    },
    {
     "data": {
      "text/plain": [
       "['gaurav', 1, 2, 2, 3, 5, 6, ['hello', 9, 3, 4]]"
      ]
     },
     "execution_count": 54,
     "metadata": {},
     "output_type": "execute_result"
    }
   ],
   "source": [
    "x = [\"gaurav\",1,2,2,3,5,6,[\"hello\",9,3,4]]\n",
    "print(x[7][0])\n",
    "x\n"
   ]
  },
  {
   "cell_type": "code",
   "execution_count": 62,
   "id": "29052c80",
   "metadata": {},
   "outputs": [
    {
     "name": "stderr",
     "output_type": "stream",
     "text": [
      "<>:2: SyntaxWarning: list indices must be integers or slices, not str; perhaps you missed a comma?\n",
      "<>:2: SyntaxWarning: list indices must be integers or slices, not str; perhaps you missed a comma?\n",
      "C:\\Users\\gaura\\AppData\\Local\\Temp\\ipykernel_8180\\2137191223.py:2: SyntaxWarning: list indices must be integers or slices, not str; perhaps you missed a comma?\n",
      "  x.remove([7][\"hello\"])\n",
      "C:\\Users\\gaura\\AppData\\Local\\Temp\\ipykernel_8180\\2137191223.py:2: SyntaxWarning: list indices must be integers or slices, not str; perhaps you missed a comma?\n",
      "  x.remove([7][\"hello\"])\n",
      "C:\\Users\\gaura\\AppData\\Local\\Temp\\ipykernel_8180\\2137191223.py:2: SyntaxWarning: list indices must be integers or slices, not str; perhaps you missed a comma?\n",
      "  x.remove([7][\"hello\"])\n"
     ]
    },
    {
     "ename": "TypeError",
     "evalue": "list indices must be integers or slices, not str",
     "output_type": "error",
     "traceback": [
      "\u001b[1;31m---------------------------------------------------------------------------\u001b[0m",
      "\u001b[1;31mTypeError\u001b[0m                                 Traceback (most recent call last)",
      "Cell \u001b[1;32mIn[62], line 2\u001b[0m\n\u001b[0;32m      1\u001b[0m x \u001b[38;5;241m=\u001b[39m [\u001b[38;5;124m\"\u001b[39m\u001b[38;5;124mgaurav\u001b[39m\u001b[38;5;124m\"\u001b[39m,\u001b[38;5;241m1\u001b[39m,\u001b[38;5;241m2\u001b[39m,\u001b[38;5;241m2\u001b[39m,\u001b[38;5;241m3\u001b[39m,\u001b[38;5;241m5\u001b[39m,\u001b[38;5;241m6\u001b[39m,[\u001b[38;5;124m\"\u001b[39m\u001b[38;5;124mhello\u001b[39m\u001b[38;5;124m\"\u001b[39m,\u001b[38;5;241m9\u001b[39m,\u001b[38;5;241m3\u001b[39m,\u001b[38;5;241m4\u001b[39m]]\n\u001b[1;32m----> 2\u001b[0m x\u001b[38;5;241m.\u001b[39mremove(\u001b[43m[\u001b[49m\u001b[38;5;241;43m7\u001b[39;49m\u001b[43m]\u001b[49m\u001b[43m[\u001b[49m\u001b[38;5;124;43m\"\u001b[39;49m\u001b[38;5;124;43mhello\u001b[39;49m\u001b[38;5;124;43m\"\u001b[39;49m\u001b[43m]\u001b[49m)\n\u001b[0;32m      3\u001b[0m x\n",
      "\u001b[1;31mTypeError\u001b[0m: list indices must be integers or slices, not str"
     ]
    }
   ],
   "source": [
    "x = [\"gaurav\",1,2,2,3,5,6,[\"hello\",9,3,4]]\n",
    "x.remove([7][\"hello\"])\n",
    "x"
   ]
  },
  {
   "cell_type": "code",
   "execution_count": 67,
   "id": "dc1949d0",
   "metadata": {},
   "outputs": [
    {
     "name": "stderr",
     "output_type": "stream",
     "text": [
      "<>:2: SyntaxWarning: list indices must be integers or slices, not str; perhaps you missed a comma?\n",
      "<>:2: SyntaxWarning: list indices must be integers or slices, not str; perhaps you missed a comma?\n",
      "C:\\Users\\gaura\\AppData\\Local\\Temp\\ipykernel_8180\\2137191223.py:2: SyntaxWarning: list indices must be integers or slices, not str; perhaps you missed a comma?\n",
      "  x.remove([7][\"hello\"])\n",
      "C:\\Users\\gaura\\AppData\\Local\\Temp\\ipykernel_8180\\2137191223.py:2: SyntaxWarning: list indices must be integers or slices, not str; perhaps you missed a comma?\n",
      "  x.remove([7][\"hello\"])\n",
      "C:\\Users\\gaura\\AppData\\Local\\Temp\\ipykernel_8180\\2137191223.py:2: SyntaxWarning: list indices must be integers or slices, not str; perhaps you missed a comma?\n",
      "  x.remove([7][\"hello\"])\n"
     ]
    },
    {
     "ename": "TypeError",
     "evalue": "list indices must be integers or slices, not str",
     "output_type": "error",
     "traceback": [
      "\u001b[1;31m---------------------------------------------------------------------------\u001b[0m",
      "\u001b[1;31mTypeError\u001b[0m                                 Traceback (most recent call last)",
      "Cell \u001b[1;32mIn[67], line 2\u001b[0m\n\u001b[0;32m      1\u001b[0m x \u001b[38;5;241m=\u001b[39m [\u001b[38;5;124m\"\u001b[39m\u001b[38;5;124mgaurav\u001b[39m\u001b[38;5;124m\"\u001b[39m,\u001b[38;5;241m1\u001b[39m,\u001b[38;5;241m2\u001b[39m,\u001b[38;5;241m2\u001b[39m,\u001b[38;5;241m3\u001b[39m,\u001b[38;5;241m5\u001b[39m,\u001b[38;5;241m6\u001b[39m,[\u001b[38;5;124m\"\u001b[39m\u001b[38;5;124mhello\u001b[39m\u001b[38;5;124m\"\u001b[39m,\u001b[38;5;241m9\u001b[39m,\u001b[38;5;241m3\u001b[39m,\u001b[38;5;241m4\u001b[39m]]\n\u001b[1;32m----> 2\u001b[0m x\u001b[38;5;241m.\u001b[39mremove(\u001b[43m[\u001b[49m\u001b[38;5;241;43m7\u001b[39;49m\u001b[43m]\u001b[49m\u001b[43m[\u001b[49m\u001b[38;5;124;43m\"\u001b[39;49m\u001b[38;5;124;43mhello\u001b[39;49m\u001b[38;5;124;43m\"\u001b[39;49m\u001b[43m]\u001b[49m)\n\u001b[0;32m      3\u001b[0m x\n",
      "\u001b[1;31mTypeError\u001b[0m: list indices must be integers or slices, not str"
     ]
    }
   ],
   "source": [
    "x = [\"gaurav\",1,2,2,3,5,6,[\"hello\",9,3,4]]\n",
    "x.remove([7][\"hello\"])\n",
    "x"
   ]
  },
  {
   "cell_type": "code",
   "execution_count": 12,
   "id": "f23b44f8",
   "metadata": {},
   "outputs": [
    {
     "name": "stdout",
     "output_type": "stream",
     "text": [
      "4\n"
     ]
    },
    {
     "data": {
      "text/plain": [
       "['gaurav', 1, 2, 2, 3, 5, 6, ['hello', 9, 3, 4]]"
      ]
     },
     "execution_count": 12,
     "metadata": {},
     "output_type": "execute_result"
    }
   ],
   "source": [
    "x = [\"gaurav\",1,2,2,3,5,6,[\"hello\",9,3,4]]\n",
    "print(x[7][3])\n",
    "x"
   ]
  },
  {
   "cell_type": "code",
   "execution_count": 70,
   "id": "e64892ca",
   "metadata": {},
   "outputs": [
    {
     "data": {
      "text/plain": [
       "['gaurav', 1, 2, 2, 3, 5, 6, ['hello', 9, 3, 4], 'data']"
      ]
     },
     "execution_count": 70,
     "metadata": {},
     "output_type": "execute_result"
    }
   ],
   "source": [
    "x.append(\"data\")\n",
    "x"
   ]
  },
  {
   "cell_type": "code",
   "execution_count": 13,
   "id": "37f92bd9",
   "metadata": {},
   "outputs": [
    {
     "data": {
      "text/plain": [
       "['gaurav', 1, 2, 2, 3, 5, 6, ['hello', 9, 3, 4], ['data']]"
      ]
     },
     "execution_count": 13,
     "metadata": {},
     "output_type": "execute_result"
    }
   ],
   "source": [
    "x.append([\"data\"])\n",
    "x"
   ]
  },
  {
   "cell_type": "code",
   "execution_count": 15,
   "id": "884a9546",
   "metadata": {},
   "outputs": [
    {
     "data": {
      "text/plain": [
       "['gaurav', 1, 2, 2, 3, 5, 6, ['hello', 9, 3, 4], ['data'], 'data', 'data']"
      ]
     },
     "execution_count": 15,
     "metadata": {},
     "output_type": "execute_result"
    }
   ],
   "source": [
    "x.extend([\"data\"])\n",
    "x"
   ]
  },
  {
   "cell_type": "code",
   "execution_count": 16,
   "id": "b3051fa1",
   "metadata": {},
   "outputs": [
    {
     "data": {
      "text/plain": [
       "['gaurav', 1, 2, 2, 3, 5, 6, ['hello', 9, 3, 4], 'data']"
      ]
     },
     "execution_count": 16,
     "metadata": {},
     "output_type": "execute_result"
    }
   ],
   "source": [
    "x = [\"gaurav\",1,2,2,3,5,6,[\"hello\",9,3,4]]\n",
    "x.extend([\"data\"])\n",
    "x"
   ]
  },
  {
   "cell_type": "code",
   "execution_count": 10,
   "id": "e595f6b0",
   "metadata": {},
   "outputs": [
    {
     "data": {
      "text/plain": [
       "['gaurav', 1, 2, 2, 3, 5, 6, ['hello', 9, 3, 4], 'd', 'a', 't', 'a']"
      ]
     },
     "execution_count": 10,
     "metadata": {},
     "output_type": "execute_result"
    }
   ],
   "source": [
    "x = [\"gaurav\",1,2,2,3,5,6,[\"hello\",9,3,4]]\n",
    "x.extend(\"data\")\n",
    "x"
   ]
  },
  {
   "cell_type": "code",
   "execution_count": 9,
   "id": "b27a215b",
   "metadata": {
    "scrolled": true
   },
   "outputs": [
    {
     "data": {
      "text/plain": [
       "0"
      ]
     },
     "execution_count": 9,
     "metadata": {},
     "output_type": "execute_result"
    }
   ],
   "source": [
    "x = [\"gaurav\",1,1,2,3,4,5,5,6,4,3,6,6,6,6,4,[5,6,8,6,4,7,4]]\n",
    "x.count([4])"
   ]
  },
  {
   "cell_type": "code",
   "execution_count": 1,
   "id": "261768cd",
   "metadata": {},
   "outputs": [
    {
     "data": {
      "text/plain": [
       "[1, 2, 3, 4, 56, 5, 6]"
      ]
     },
     "execution_count": 1,
     "metadata": {},
     "output_type": "execute_result"
    }
   ],
   "source": [
    "x = [1,2,3,4,5,6]    # \n",
    "x.insert(4,56)\n",
    "x"
   ]
  },
  {
   "cell_type": "code",
   "execution_count": 89,
   "id": "aab8f4db",
   "metadata": {},
   "outputs": [
    {
     "data": {
      "text/plain": [
       "2"
      ]
     },
     "execution_count": 89,
     "metadata": {},
     "output_type": "execute_result"
    }
   ],
   "source": [
    "x.count(5)"
   ]
  },
  {
   "cell_type": "code",
   "execution_count": 92,
   "id": "dd0b88a5",
   "metadata": {},
   "outputs": [
    {
     "name": "stdout",
     "output_type": "stream",
     "text": [
      "[9]\n"
     ]
    }
   ],
   "source": [
    "x = [\"gaurav\",1,2,2,3,5,6,[\"hello\",9,3,4]]\n",
    "print(x[7][1:2])\n"
   ]
  },
  {
   "cell_type": "code",
   "execution_count": 14,
   "id": "2d101a4f",
   "metadata": {},
   "outputs": [
    {
     "name": "stdout",
     "output_type": "stream",
     "text": [
      "arv\n"
     ]
    },
    {
     "data": {
      "text/plain": [
       "['gaurav', 1, 2, 2, 3, 5, 6, ['hello', 9, 3, 4]]"
      ]
     },
     "execution_count": 14,
     "metadata": {},
     "output_type": "execute_result"
    }
   ],
   "source": [
    "x = [\"gaurav\",1,2,2,3,5,6,[\"hello\",9,3,4]]\n",
    "print(x[0][1::2])\n",
    "x"
   ]
  },
  {
   "cell_type": "code",
   "execution_count": 17,
   "id": "0273e673",
   "metadata": {},
   "outputs": [
    {
     "name": "stdout",
     "output_type": "stream",
     "text": [
      "hello\n"
     ]
    },
    {
     "data": {
      "text/plain": [
       "['gaurav', 1, 2, 2, 3, 5, 6, ['hello', 9, 3, 4]]"
      ]
     },
     "execution_count": 17,
     "metadata": {},
     "output_type": "execute_result"
    }
   ],
   "source": [
    "x = [\"gaurav\",1,2,2,3,5,6,[\"hello\",9,3,4]]\n",
    "print(x[-1][-4])\n",
    "x"
   ]
  },
  {
   "cell_type": "code",
   "execution_count": 15,
   "id": "00935d79",
   "metadata": {},
   "outputs": [
    {
     "name": "stdout",
     "output_type": "stream",
     "text": [
      "[['hello', 9, 3, 4], 5]\n"
     ]
    },
    {
     "data": {
      "text/plain": [
       "['gaurav', 1, 2, 2, 3, 5, 6, ['hello', 9, 3, 4]]"
      ]
     },
     "execution_count": 15,
     "metadata": {},
     "output_type": "execute_result"
    }
   ],
   "source": [
    "x = [\"gaurav\",1,2,2,3,5,6,[\"hello\",9,3,4]]\n",
    "print(x[-1:-4:-2])\n",
    "x"
   ]
  },
  {
   "cell_type": "code",
   "execution_count": 102,
   "id": "91816c39",
   "metadata": {},
   "outputs": [
    {
     "data": {
      "text/plain": [
       "(2, 2)"
      ]
     },
     "execution_count": 102,
     "metadata": {},
     "output_type": "execute_result"
    }
   ],
   "source": [
    "x = (1,2,2,4,6)\n",
    "x[-4:-2]"
   ]
  },
  {
   "cell_type": "code",
   "execution_count": 20,
   "id": "ee91e38e",
   "metadata": {},
   "outputs": [
    {
     "name": "stdout",
     "output_type": "stream",
     "text": [
      "[9, 3, 4, ['gaurav', 1, 2, 2, 3, 5, 6]]\n"
     ]
    }
   ],
   "source": [
    "x = [\"gaurav\",1,2,2,3,5,6,[\"hello\",9,3,4]]\n",
    "y = x[0:7]\n",
    "z = x[7][0:4]\n",
    "\n",
    "    \n",
    "    \n",
    "\n",
    "z.remove(\"hello\")\n",
    "z.append(y)\n",
    "\n",
    "print(z)\n",
    "\n",
    "\n"
   ]
  },
  {
   "cell_type": "code",
   "execution_count": 24,
   "id": "5cdd76bf",
   "metadata": {},
   "outputs": [
    {
     "name": "stdout",
     "output_type": "stream",
     "text": [
      "['gaurav', 1, 2, 2, 3, 5, 6, [1, 2, 3, 4, 5, 6, [9, 3, 4]]]\n"
     ]
    }
   ],
   "source": [
    "\n",
    "\n",
    "\n",
    "x = [\"gaurav\",1,2,2,3,5,6,[1,2,3,4,5,6,[\"hello\",9,3,4]]]\n",
    "a = x[0:6]\n",
    "b = x[7][0:6]\n",
    "c = x[7][6]\n",
    "c.remove(\"hello\")\n",
    "a.append(b)\n",
    "b.append(c)\n",
    "print(x)\n",
    "\n",
    "\n",
    "\n",
    "\n",
    "\n",
    "\n"
   ]
  },
  {
   "cell_type": "code",
   "execution_count": 54,
   "id": "e16991b8",
   "metadata": {},
   "outputs": [
    {
     "name": "stdout",
     "output_type": "stream",
     "text": [
      "[0.8, 1, 2, 4, 5, 5.6, 6, 6, 7, 8, 8.8, 9.0, 789]\n"
     ]
    }
   ],
   "source": [
    "# sort() only use for integer and float data tpye (sbko cquel usme likhna)\n",
    "x =[1,2,789,4,5,6,7,6,8,9.0,0.8,8.8,5.6]\n",
    "x.sort()\n",
    "print(x)"
   ]
  },
  {
   "cell_type": "code",
   "execution_count": 77,
   "id": "f50551c0",
   "metadata": {},
   "outputs": [
    {
     "name": "stdout",
     "output_type": "stream",
     "text": [
      "['myself', 'str', 'structure']\n"
     ]
    }
   ],
   "source": [
    "x = [\"str\",\"myself\",\"structure\"]\n",
    "x.sort()\n",
    "print(x)"
   ]
  },
  {
   "cell_type": "code",
   "execution_count": 60,
   "id": "df98d6b4",
   "metadata": {},
   "outputs": [
    {
     "data": {
      "text/plain": [
       "[789, 9.0, 8.8, 8, 7, 6, 6, 5.6, 5, 4, 2, 1, 0.8]"
      ]
     },
     "execution_count": 60,
     "metadata": {},
     "output_type": "execute_result"
    }
   ],
   "source": [
    "# reverse any (usi ko reverse krna)\n",
    "x.sort(reverse=True)\n",
    "x"
   ]
  },
  {
   "cell_type": "code",
   "execution_count": 63,
   "id": "765ad071",
   "metadata": {},
   "outputs": [
    {
     "name": "stdout",
     "output_type": "stream",
     "text": [
      "[1, 2, 3, 4, 5, 6, 6, 6, 6.6, 7, 54, 65.5, 808]\n"
     ]
    }
   ],
   "source": [
    "x = [3,6,7,808,6,1,4,6,2,5,6.6,65.5,54]\n",
    "x.sort()\n",
    "print(x)"
   ]
  },
  {
   "cell_type": "code",
   "execution_count": 65,
   "id": "5585a2a8",
   "metadata": {},
   "outputs": [
    {
     "name": "stdout",
     "output_type": "stream",
     "text": [
      "[1, 2, 3, 4, 5, 6, 6, 6, 6.6, 7, 54, 65.5, 808]\n"
     ]
    }
   ],
   "source": [
    "x.sort(reverse=False)\n",
    "print(x)"
   ]
  },
  {
   "cell_type": "code",
   "execution_count": 66,
   "id": "cf677f55",
   "metadata": {},
   "outputs": [
    {
     "name": "stdout",
     "output_type": "stream",
     "text": [
      "[808, 65.5, 54, 7, 6.6, 6, 6, 6, 5, 4, 3, 2, 1]\n"
     ]
    }
   ],
   "source": [
    "x.sort(reverse=True)\n",
    "print(x)"
   ]
  },
  {
   "cell_type": "code",
   "execution_count": 67,
   "id": "5f39d404",
   "metadata": {},
   "outputs": [
    {
     "name": "stdout",
     "output_type": "stream",
     "text": [
      "['data', 'primitiv', 'non', 'structure', 89, 78]\n"
     ]
    }
   ],
   "source": [
    "x =[78,89,\"structure\",\"non\",\"primitiv\",\"data\"]\n",
    "x.reverse()\n",
    "print(x)"
   ]
  },
  {
   "cell_type": "code",
   "execution_count": 22,
   "id": "a03dbb88",
   "metadata": {},
   "outputs": [
    {
     "ename": "TypeError",
     "evalue": "'<' not supported between instances of 'str' and 'float'",
     "output_type": "error",
     "traceback": [
      "\u001b[1;31m---------------------------------------------------------------------------\u001b[0m",
      "\u001b[1;31mTypeError\u001b[0m                                 Traceback (most recent call last)",
      "Cell \u001b[1;32mIn[22], line 2\u001b[0m\n\u001b[0;32m      1\u001b[0m x \u001b[38;5;241m=\u001b[39m [\u001b[38;5;241m789.78\u001b[39m,\u001b[38;5;241m09.9\u001b[39m,\u001b[38;5;241m0.0\u001b[39m,\u001b[38;5;124m\"\u001b[39m\u001b[38;5;124mdaata\u001b[39m\u001b[38;5;124m\"\u001b[39m,\u001b[38;5;124m\"\u001b[39m\u001b[38;5;124mtuple\u001b[39m\u001b[38;5;124m\"\u001b[39m,\u001b[38;5;124m\"\u001b[39m\u001b[38;5;124msets\u001b[39m\u001b[38;5;124m\"\u001b[39m,\u001b[38;5;124m\"\u001b[39m\u001b[38;5;124mdictonary\u001b[39m\u001b[38;5;124m\"\u001b[39m]\n\u001b[1;32m----> 2\u001b[0m \u001b[43mx\u001b[49m\u001b[38;5;241;43m.\u001b[39;49m\u001b[43msort\u001b[49m\u001b[43m(\u001b[49m\u001b[43m)\u001b[49m\n\u001b[0;32m      3\u001b[0m \u001b[38;5;28mprint\u001b[39m(x)\n",
      "\u001b[1;31mTypeError\u001b[0m: '<' not supported between instances of 'str' and 'float'"
     ]
    }
   ],
   "source": [
    "x = [789.78,09.9,0.0,\"daata\",\"tuple\",\"sets\",\"dictonary\"]\n",
    "x.sort()\n",
    "print(x) "
   ]
  },
  {
   "cell_type": "code",
   "execution_count": 27,
   "id": "42cd8d8d",
   "metadata": {},
   "outputs": [
    {
     "name": "stdout",
     "output_type": "stream",
     "text": [
      "[0, 5, 6, 7, 9]\n"
     ]
    },
    {
     "data": {
      "text/plain": [
       "[9, 7, 6, 5, 0]"
      ]
     },
     "execution_count": 27,
     "metadata": {},
     "output_type": "execute_result"
    }
   ],
   "source": [
    "x = [4,5,6,7,8,9,0,5,6,7]\n",
    "y = x[5:]\n",
    "y.sort()\n",
    "print(y)\n",
    "y.sort(reverse=True)\n",
    "y\n"
   ]
  },
  {
   "cell_type": "code",
   "execution_count": 82,
   "id": "7c015c4a",
   "metadata": {},
   "outputs": [
    {
     "data": {
      "text/plain": [
       "[1, 2, 3, 34, 34, 3, 2, 1]"
      ]
     },
     "execution_count": 82,
     "metadata": {},
     "output_type": "execute_result"
    }
   ],
   "source": [
    "x= [1,2,3,34,4,6,7,8]\n",
    "z = x[0:4]\n",
    "y = z[5::-1]\n",
    "u = y[0:4]\n",
    "\n",
    "z.extend(u)\n",
    "z\n"
   ]
  },
  {
   "cell_type": "code",
   "execution_count": 23,
   "id": "0c1ccb4c",
   "metadata": {},
   "outputs": [
    {
     "data": {
      "text/plain": [
       "[7]"
      ]
     },
     "execution_count": 23,
     "metadata": {},
     "output_type": "execute_result"
    }
   ],
   "source": [
    "x= [1,2,3,34,4,6,7,8]\n",
    "z = x[0:7]\n",
    "y = z[6::1]\n",
    "u = y[0:7]\n",
    "\n",
    "z.extend(y)\n",
    "u"
   ]
  },
  {
   "cell_type": "code",
   "execution_count": 78,
   "id": "2154c0ec",
   "metadata": {},
   "outputs": [
    {
     "name": "stdout",
     "output_type": "stream",
     "text": [
      "[4, 5, 6, 7, 9, 0, 5, 6, 7]\n",
      "8\n"
     ]
    }
   ],
   "source": [
    "x = [4,5,6,7,8,9,0,5,6,7]\n",
    "y = x[4]\n",
    "del(x[4])\n",
    "\n",
    "print(x)\n",
    "print(y)"
   ]
  },
  {
   "cell_type": "code",
   "execution_count": 44,
   "id": "09a7f082",
   "metadata": {},
   "outputs": [
    {
     "ename": "TypeError",
     "evalue": "'tuple' object doesn't support item deletion",
     "output_type": "error",
     "traceback": [
      "\u001b[1;31m---------------------------------------------------------------------------\u001b[0m",
      "\u001b[1;31mTypeError\u001b[0m                                 Traceback (most recent call last)",
      "Cell \u001b[1;32mIn[44], line 3\u001b[0m\n\u001b[0;32m      1\u001b[0m x \u001b[38;5;241m=\u001b[39m (\u001b[38;5;124m\"\u001b[39m\u001b[38;5;124mrishi\u001b[39m\u001b[38;5;124m\"\u001b[39m,\u001b[38;5;124m'\u001b[39m\u001b[38;5;124mgaurav\u001b[39m\u001b[38;5;124m'\u001b[39m)\n\u001b[0;32m      2\u001b[0m x[\u001b[38;5;241m1\u001b[39m]\n\u001b[1;32m----> 3\u001b[0m \u001b[38;5;28;01mdel\u001b[39;00m(x[\u001b[38;5;241m1\u001b[39m])\n\u001b[0;32m      4\u001b[0m x\n",
      "\u001b[1;31mTypeError\u001b[0m: 'tuple' object doesn't support item deletion"
     ]
    }
   ],
   "source": [
    "x = (\"rishi\",'gaurav')\n",
    "x[1]\n",
    "del(x[1])\n",
    "x"
   ]
  },
  {
   "cell_type": "code",
   "execution_count": 43,
   "id": "d3231edf",
   "metadata": {},
   "outputs": [
    {
     "data": {
      "text/plain": [
       "['rishi', 'gaurav']"
      ]
     },
     "execution_count": 43,
     "metadata": {},
     "output_type": "execute_result"
    }
   ],
   "source": [
    "y = [\"rishi\",\"gaurav\",\"rohit\"]\n",
    "del (y[2])\n",
    "y "
   ]
  },
  {
   "cell_type": "code",
   "execution_count": 20,
   "id": "c2ed6c9f",
   "metadata": {},
   "outputs": [
    {
     "name": "stdout",
     "output_type": "stream",
     "text": [
      "[34, 567, 45]\n"
     ]
    }
   ],
   "source": [
    "x = [6788,567,57]\n",
    "x[0]=34\n",
    "x[2]=45\n",
    "print(x)"
   ]
  },
  {
   "cell_type": "code",
   "execution_count": 5,
   "id": "a0deb50b",
   "metadata": {
    "scrolled": true
   },
   "outputs": [
    {
     "name": "stdout",
     "output_type": "stream",
     "text": [
      "[123, 'gaurAV', 78, 45, 5, 5]\n"
     ]
    }
   ],
   "source": [
    "x =  [123,\"gaurAV\",45,5,5,]    # given a argument is indexing number\n",
    "x.insert(2,78)\n",
    "print(x)"
   ]
  },
  {
   "cell_type": "code",
   "execution_count": 6,
   "id": "fb1ce154",
   "metadata": {},
   "outputs": [
    {
     "name": "stdout",
     "output_type": "stream",
     "text": [
      "[]\n"
     ]
    }
   ],
   "source": [
    "x = [ 78,45,56,67,56,6]   # delete all object in give empty list in input\n",
    "x.clear()\n",
    "print(x)"
   ]
  },
  {
   "cell_type": "code",
   "execution_count": 23,
   "id": "7de561b2",
   "metadata": {},
   "outputs": [
    {
     "data": {
      "text/plain": [
       "[988988, 88047504, 4975439574, 7849590754]"
      ]
     },
     "execution_count": 23,
     "metadata": {},
     "output_type": "execute_result"
    }
   ],
   "source": [
    "x = [56656,88047504,209347459345,7849590754]\n",
    "y = [988988,88047504,4975439574,7849590754]\n",
    "x,y = y,x\n",
    "x"
   ]
  },
  {
   "cell_type": "markdown",
   "id": "02081b2c",
   "metadata": {},
   "source": [
    "# Mutable and Immutable difference\n",
    "  -  All data in python program is represented by objects\n",
    "  - Every object has an idenitity , a type and a value\n",
    "  - An object's type determines the operations that the object supports and also defines possible values for objects of that type.\n",
    "  - The value of some objects can change. Objects whose value can change without changing the idenitity are said to bee mutable;objects whose value is unchangeable once they are created are called immutable.\n",
    "  - An object that allow you to change its value without changing its idenitity is amutable object."
   ]
  },
  {
   "cell_type": "markdown",
   "id": "57dd69e1",
   "metadata": {},
   "source": [
    "# Imp: A varriable is a not a container but it point to an object."
   ]
  },
  {
   "cell_type": "markdown",
   "id": "f13e277d",
   "metadata": {},
   "source": [
    "# Improtant  : An object's type determines the operations that the object supports and also defines possible values for objects of that type\n",
    "# Answer : \n",
    "- objects ka data type hme yeah smjhata hai ki hme operation(operater) kis data tpye ko support krta hai after vo hme define krta hai ki object ki value me concation ho rha hai ya adding.\n"
   ]
  },
  {
   "cell_type": "code",
   "execution_count": 1,
   "id": "469b00b7",
   "metadata": {},
   "outputs": [
    {
     "name": "stdout",
     "output_type": "stream",
     "text": [
      "2164919996720\n",
      "2164997428400\n",
      "2164997428400\n"
     ]
    }
   ],
   "source": [
    "x = \"data\" # hmne jb value di x to uski last id defined uski memory location change hogi\n",
    "print(id(x))\n",
    "x = \"science\"\n",
    "print(id(x))\n",
    "print(id(x))"
   ]
  },
  {
   "cell_type": "code",
   "execution_count": 28,
   "id": "a736e87a",
   "metadata": {},
   "outputs": [
    {
     "name": "stdout",
     "output_type": "stream",
     "text": [
      "2513077018800\n",
      "2513078025536\n"
     ]
    }
   ],
   "source": [
    "y = [12,45]\n",
    "print(id(x))\n",
    "y = [67,56]\n",
    "print(id(y))"
   ]
  },
  {
   "cell_type": "code",
   "execution_count": 8,
   "id": "c3bda28d",
   "metadata": {},
   "outputs": [
    {
     "name": "stdout",
     "output_type": "stream",
     "text": [
      "2691263218752\n",
      "2691266196576\n",
      "2691263218752\n",
      "2691263218752\n"
     ]
    }
   ],
   "source": [
    "p = \"Myself data scientist\" # immutable\n",
    "print(id(p.replace(' ',\";\")))\n",
    "print(id(p))\n",
    "print(id(p.replace(' ',\";\")))\n",
    "print(id(p.replace(' ',\";\")))"
   ]
  },
  {
   "cell_type": "code",
   "execution_count": 31,
   "id": "f1b8c5f2",
   "metadata": {},
   "outputs": [
    {
     "data": {
      "text/plain": [
       "'Myself data scientist'"
      ]
     },
     "execution_count": 31,
     "metadata": {},
     "output_type": "execute_result"
    }
   ],
   "source": [
    "p"
   ]
  },
  {
   "cell_type": "code",
   "execution_count": 10,
   "id": "c54fb44c",
   "metadata": {},
   "outputs": [
    {
     "name": "stdout",
     "output_type": "stream",
     "text": [
      "2310154713088\n",
      "140716526497472\n"
     ]
    }
   ],
   "source": [
    "z = [1,2,3,4,5,6]\n",
    "print(id(z))\n",
    "print(id (z.reverse()))"
   ]
  },
  {
   "cell_type": "code",
   "execution_count": 11,
   "id": "48b9c8db",
   "metadata": {},
   "outputs": [
    {
     "data": {
      "text/plain": [
       "2310154713088"
      ]
     },
     "execution_count": 11,
     "metadata": {},
     "output_type": "execute_result"
    }
   ],
   "source": [
    "id (z)"
   ]
  },
  {
   "cell_type": "code",
   "execution_count": 12,
   "id": "eafd397b",
   "metadata": {},
   "outputs": [
    {
     "name": "stdout",
     "output_type": "stream",
     "text": [
      "2310126126192\n"
     ]
    }
   ],
   "source": [
    "y = \"gaurav\"\n",
    "\n",
    "y = \"rishi\"\n",
    "print(id(y))"
   ]
  },
  {
   "cell_type": "code",
   "execution_count": 4,
   "id": "b776cfbd",
   "metadata": {},
   "outputs": [
    {
     "name": "stdout",
     "output_type": "stream",
     "text": [
      "140716498972352\n",
      "2155474478912\n",
      "[3, 5, 6, 'data', 'scientist']\n"
     ]
    }
   ],
   "source": [
    "# Mutable---The id or location or address of a list never changes even if the said lists elements edited.\n",
    "x = [3,5,6,\"data\"]\n",
    "print(id(x.append(\"scientist\")))\n",
    "print(id(x))\n",
    "print(x)\n"
   ]
  },
  {
   "cell_type": "code",
   "execution_count": 13,
   "id": "9133b027",
   "metadata": {},
   "outputs": [
    {
     "name": "stdout",
     "output_type": "stream",
     "text": [
      "2310154700160\n",
      "2310154740928\n",
      "[1, 2, 3, 6, 5]\n",
      "2310154740928\n"
     ]
    }
   ],
   "source": [
    "x = [1,2,3,4,5]\n",
    "print(id(x))\n",
    "x = [1,2,3,4,5]\n",
    "print(id(x))\n",
    "x[3]=6\n",
    "print (x)\n",
    "print(id(x))"
   ]
  },
  {
   "cell_type": "code",
   "execution_count": 8,
   "id": "e1595011",
   "metadata": {},
   "outputs": [
    {
     "name": "stdout",
     "output_type": "stream",
     "text": [
      "[3, 5, 6, 'data']\n",
      "2155474665216\n",
      "2155474665216\n",
      "140716498972352\n",
      "[3, 5, 6, 'data', 'scientist']\n"
     ]
    }
   ],
   "source": [
    "x = [3,5,6,\"data\"]\n",
    "print(x)\n",
    "print(id(x))\n",
    "y = x.append(\"scientist\")\n",
    "print(id(x))\n",
    "print(id(y))\n",
    "print(x)"
   ]
  },
  {
   "cell_type": "markdown",
   "id": "f83b1319",
   "metadata": {},
   "source": [
    "# Sets\n",
    "1. Unordered : The item in the set are unordered, i.e., it will not maintain the order in which the items are inserted.\n",
    "2. Unidexed : set items are unindexed.\n",
    "3. Unique : There cannot be two items with the same value in the set\n",
    "4. Set item must be immutable : we cannot change the seet item\n",
    "5. Sets are  mutable"
   ]
  },
  {
   "cell_type": "code",
   "execution_count": 15,
   "id": "b972ad38",
   "metadata": {},
   "outputs": [
    {
     "name": "stdout",
     "output_type": "stream",
     "text": [
      "<class 'set'>\n"
     ]
    }
   ],
   "source": [
    "c = set()\n",
    "print(type(c))"
   ]
  },
  {
   "cell_type": "code",
   "execution_count": 19,
   "id": "5ba85e9e",
   "metadata": {},
   "outputs": [
    {
     "name": "stdout",
     "output_type": "stream",
     "text": [
      "140716526497472\n",
      "{56, 1, 2, 3}\n"
     ]
    }
   ],
   "source": [
    "# sets \n",
    "W = {1,2,3} # currly brakets\n",
    "\n",
    "z = print(id(W.add(56)))\n",
    "print(W)"
   ]
  },
  {
   "cell_type": "code",
   "execution_count": 9,
   "id": "2cb74946",
   "metadata": {},
   "outputs": [
    {
     "name": "stdout",
     "output_type": "stream",
     "text": [
      "{'easy', 1, 2, 'python'}\n",
      "{1, ',', '5', 'python', '4', 'easy'}\n"
     ]
    }
   ],
   "source": [
    "# set methods\n",
    "set = {1,2,\"python\"}\n",
    "#.add (item) (append)\n",
    "set.add(\"easy\")\n",
    "print(set)\n",
    "#.update(iterable)(extend)  ## (iterable- list sets tuples string dicestnoary in iterable)\n",
    "set.update(\"4,5\")\n",
    "#.remove\n",
    "set.remove(2)\n",
    "print(set)"
   ]
  },
  {
   "cell_type": "code",
   "execution_count": 8,
   "id": "791f1a0a",
   "metadata": {},
   "outputs": [
    {
     "name": "stdout",
     "output_type": "stream",
     "text": [
      "{3, 5, 7, 'bisht', '5', 'gaurav', '4'}\n"
     ]
    }
   ],
   "source": [
    "set = {3,5,7,\"gaurav\"}\n",
    "set.add(\"bisht\")\n",
    "set.update(\"45\")\n",
    "print(set)"
   ]
  },
  {
   "cell_type": "code",
   "execution_count": 23,
   "id": "c38ede35",
   "metadata": {},
   "outputs": [
    {
     "name": "stdout",
     "output_type": "stream",
     "text": [
      "Union method has been used {1, 2, 3, 4, 5}\n",
      "udate method is used {1, 2, 3}\n"
     ]
    }
   ],
   "source": [
    "# Union\n",
    "a = {1,2,3}\n",
    "b = {1,2,3,4,5}\n",
    "print(\"Union method has been used\",a.union(b))\n",
    "print(\"udate method is used\",a)\n"
   ]
  },
  {
   "cell_type": "code",
   "execution_count": 18,
   "id": "465907f4",
   "metadata": {},
   "outputs": [
    {
     "name": "stdout",
     "output_type": "stream",
     "text": [
      "{1, 2, 3}\n",
      "None\n",
      "{1, 2, 3}\n"
     ]
    }
   ],
   "source": [
    "# Intersection\n",
    "a = {1,2,3}\n",
    "b = {1,2,3,4,5}\n",
    "print(a.intersection(b)) # this will not apply the change to a\n",
    "print(a.intersection_update(b))#this will apply the change to a\n",
    "print(a)"
   ]
  },
  {
   "cell_type": "code",
   "execution_count": 11,
   "id": "e37b60c2",
   "metadata": {},
   "outputs": [
    {
     "name": "stdout",
     "output_type": "stream",
     "text": [
      "2608953026688\n"
     ]
    }
   ],
   "source": [
    "a ={1,2,3,46,7}\n",
    "b = {56,78}\n",
    "\n",
    "\n",
    "\n",
    "print(id(a.intersection(b)))\n"
   ]
  },
  {
   "cell_type": "code",
   "execution_count": 16,
   "id": "0ab90b1c",
   "metadata": {},
   "outputs": [
    {
     "name": "stdout",
     "output_type": "stream",
     "text": [
      "{'hello'}\n",
      "None\n",
      "{'hello'}\n"
     ]
    }
   ],
   "source": [
    "# Difference\n",
    "x = {\"str\",\"hello\",True,1}\n",
    "y = {1,2,3,\"Hello\",\"str\"}\n",
    "print(x.difference(y))\n",
    "print(x.difference_update(y))\n",
    "print(x)"
   ]
  },
  {
   "cell_type": "code",
   "execution_count": 17,
   "id": "5cadf80d",
   "metadata": {},
   "outputs": [
    {
     "name": "stdout",
     "output_type": "stream",
     "text": [
      "{2, 3, 'hello', 'Hello'}\n",
      "None\n",
      "{2, 3, 'Hello', 'hello'}\n"
     ]
    }
   ],
   "source": [
    "# Symmetric Difference\n",
    "x = {\"str\",\"hello\",True,1}\n",
    "y = {1,2,3,\"Hello\",\"str\"}\n",
    "print(x.symmetric_difference(y))\n",
    "print(x.symmetric_difference_update(y))\n",
    "print(x)"
   ]
  },
  {
   "cell_type": "code",
   "execution_count": 25,
   "id": "a6a90d8c",
   "metadata": {},
   "outputs": [
    {
     "name": "stdout",
     "output_type": "stream",
     "text": [
      "140716526497472\n",
      "{1, 2, 3, 4, 5}\n",
      "2310154784096\n",
      "{1, 2, 3, 4, 5}\n",
      "140716526497472\n",
      "140716526497472\n",
      "2310154782976\n"
     ]
    }
   ],
   "source": [
    "a = {1,2,3}\n",
    "b = {1,2,3,4,5}\n",
    "print(id(a.update(b)))\n",
    "\n",
    "print(a.intersection(b)) \n",
    "print(id(a.intersection(b)))\n",
    "print(a)\n",
    "print(id(a.intersection_update(b)))\n",
    "print(id(a.intersection_update(b)))\n",
    "print(id(a))"
   ]
  },
  {
   "cell_type": "code",
   "execution_count": 6,
   "id": "92911bcb",
   "metadata": {},
   "outputs": [
    {
     "name": "stdout",
     "output_type": "stream",
     "text": [
      "{1, 2, 3}\n",
      "None\n"
     ]
    }
   ],
   "source": [
    "\n",
    "z = a.intersection(b)\n",
    "\n",
    "print(z)\n",
    "z=a.intersection_update(b)\n",
    "print(z)"
   ]
  },
  {
   "cell_type": "code",
   "execution_count": 15,
   "id": "64092de3",
   "metadata": {},
   "outputs": [],
   "source": [
    "# Function for sets"
   ]
  },
  {
   "cell_type": "code",
   "execution_count": 16,
   "id": "aa233089",
   "metadata": {},
   "outputs": [
    {
     "data": {
      "text/plain": [
       "5"
      ]
     },
     "execution_count": 16,
     "metadata": {},
     "output_type": "execute_result"
    }
   ],
   "source": [
    "# finding length of the set\n",
    "a = {1,2,4,5,6,}\n",
    "len (a)"
   ]
  },
  {
   "cell_type": "code",
   "execution_count": 18,
   "id": "e33847a8",
   "metadata": {},
   "outputs": [
    {
     "name": "stdout",
     "output_type": "stream",
     "text": [
      "2\n",
      "444\n"
     ]
    }
   ],
   "source": [
    "# Minimum  and maximum values\n",
    "a = {2,5,7,89,45,67,444}\n",
    "print(min(a))\n",
    "print(max(a))"
   ]
  },
  {
   "cell_type": "code",
   "execution_count": 19,
   "id": "caa9436d",
   "metadata": {},
   "outputs": [
    {
     "name": "stdout",
     "output_type": "stream",
     "text": [
      "211\n"
     ]
    }
   ],
   "source": [
    "# Adding all the value inside a set\n",
    "a = {34,56,89,23,4,5}\n",
    "print(sum(a))"
   ]
  },
  {
   "cell_type": "code",
   "execution_count": 20,
   "id": "1440c8ca",
   "metadata": {},
   "outputs": [
    {
     "name": "stdout",
     "output_type": "stream",
     "text": [
      "ab\n",
      "yx\n"
     ]
    }
   ],
   "source": [
    "a = {\"ba\",\"ab\",\"yx\",\"xy\"}\n",
    "print(min(a))\n",
    "print(max(a))"
   ]
  },
  {
   "cell_type": "code",
   "execution_count": 10,
   "id": "54a98f66",
   "metadata": {},
   "outputs": [
    {
     "name": "stdout",
     "output_type": "stream",
     "text": [
      "a\n",
      "A\n"
     ]
    }
   ],
   "source": [
    "x = {\"A\",\"a\"}\n",
    "print(max(x))\n",
    "print(min(x))"
   ]
  },
  {
   "cell_type": "code",
   "execution_count": 16,
   "id": "1b1ec868",
   "metadata": {},
   "outputs": [
    {
     "name": "stdout",
     "output_type": "stream",
     "text": [
      "46\n"
     ]
    }
   ],
   "source": [
    "x = {True,False,45}\n",
    "print(sum(x))"
   ]
  },
  {
   "cell_type": "code",
   "execution_count": 21,
   "id": "8de965b2",
   "metadata": {},
   "outputs": [
    {
     "name": "stdout",
     "output_type": "stream",
     "text": [
      "134\n"
     ]
    }
   ],
   "source": [
    "a = {56,78,56}\n",
    "print(sum(a))"
   ]
  },
  {
   "cell_type": "code",
   "execution_count": 2,
   "id": "33dcd90f",
   "metadata": {},
   "outputs": [
    {
     "name": "stdout",
     "output_type": "stream",
     "text": [
      "8\n",
      "{1, 3, 4, 5, 6, 7, 8, 9}\n",
      "1\n",
      "9\n",
      "43\n"
     ]
    }
   ],
   "source": [
    "a = {1,3,4,5,6,7,8,9,8}\n",
    "print(len (a))\n",
    "print(a)\n",
    "print(min(a))\n",
    "print(max(a))\n",
    "print(sum(a))"
   ]
  },
  {
   "cell_type": "code",
   "execution_count": 21,
   "id": "63829f06",
   "metadata": {},
   "outputs": [
    {
     "name": "stdout",
     "output_type": "stream",
     "text": [
      "{56, 78, 23}\n"
     ]
    }
   ],
   "source": [
    "x = {23,44,56,78}\n",
    "x.remove(44)\n",
    "print(x)"
   ]
  },
  {
   "cell_type": "code",
   "execution_count": 22,
   "id": "82f915f5",
   "metadata": {},
   "outputs": [
    {
     "data": {
      "text/plain": [
       "{23, 56, 78}"
      ]
     },
     "execution_count": 22,
     "metadata": {},
     "output_type": "execute_result"
    }
   ],
   "source": [
    "x = {23,44,56,78}\n",
    "x.discard(44)\n",
    "x"
   ]
  },
  {
   "cell_type": "code",
   "execution_count": null,
   "id": "ba4489bf",
   "metadata": {},
   "outputs": [],
   "source": [
    "\n"
   ]
  },
  {
   "cell_type": "markdown",
   "id": "15c0b200",
   "metadata": {},
   "source": [
    "# Subset and Superset"
   ]
  },
  {
   "cell_type": "code",
   "execution_count": 24,
   "id": "b28d2a82",
   "metadata": {},
   "outputs": [
    {
     "name": "stdout",
     "output_type": "stream",
     "text": [
      "False\n",
      "True\n",
      "True\n",
      "True\n"
     ]
    }
   ],
   "source": [
    "# Subset\n",
    "p = {1,2,3,4,5,6}\n",
    "q = {1,2,4}\n",
    "print(p.issubset(q))\n",
    "print(q.issubset(q))\n",
    "print(q.issubset(p))\n",
    "print(p.issubset(p))"
   ]
  },
  {
   "cell_type": "code",
   "execution_count": 25,
   "id": "be36d43c",
   "metadata": {},
   "outputs": [
    {
     "name": "stdout",
     "output_type": "stream",
     "text": [
      "True\n",
      "True\n",
      "False\n",
      "True\n"
     ]
    }
   ],
   "source": [
    "# Superset\n",
    "p = {1,2,3,4,5,6}\n",
    "q = {1,2,4}\n",
    "print(p.issuperset(q))\n",
    "print(q.issuperset(q))\n",
    "print(q.issuperset(p))\n",
    "print(p.issuperset(p))"
   ]
  },
  {
   "cell_type": "markdown",
   "id": "a03c5656",
   "metadata": {},
   "source": [
    "# Disjoint"
   ]
  },
  {
   "cell_type": "code",
   "execution_count": 8,
   "id": "03b512da",
   "metadata": {},
   "outputs": [
    {
     "name": "stdout",
     "output_type": "stream",
     "text": [
      "True\n",
      "True\n"
     ]
    }
   ],
   "source": [
    "p = {1,2,3,4,5}\n",
    "q = {6,7,8}\n",
    "print(p.isdisjoint(q))\n",
    "print(q.isdisjoint(p))"
   ]
  },
  {
   "cell_type": "code",
   "execution_count": 28,
   "id": "72405b42",
   "metadata": {},
   "outputs": [
    {
     "data": {
      "text/plain": [
       "False"
      ]
     },
     "execution_count": 28,
     "metadata": {},
     "output_type": "execute_result"
    }
   ],
   "source": [
    "p.isdisjoint(p)"
   ]
  },
  {
   "cell_type": "code",
   "execution_count": 3,
   "id": "d2c59f92",
   "metadata": {},
   "outputs": [
    {
     "data": {
      "text/plain": [
       "False"
      ]
     },
     "execution_count": 3,
     "metadata": {},
     "output_type": "execute_result"
    }
   ],
   "source": [
    "a = {1,2,3,4,5}\n",
    "b = {1,2,3,7,8,9} \n",
    "a.isdisjoint(b)        \n"
   ]
  },
  {
   "cell_type": "code",
   "execution_count": null,
   "id": "bb73aeb9",
   "metadata": {},
   "outputs": [],
   "source": []
  },
  {
   "cell_type": "markdown",
   "id": "fc1fa23e",
   "metadata": {},
   "source": [
    "# Dictionaries\n",
    "  Dictionaries are ordered collection of unique items stored in  (Key-Value) pairs.(pairs is  itmes in a dictionaries)\n",
    " 1. Ordered :- Dictionaries are ordered, which means that the items have a defined order,and that order will not change.\n",
    " 2. Unique :- The keys in Dictionaries should be unique . If we store any value with a key that already exists,then the most recent vlaue will replace the old value.\n",
    " 3. Keys must be of immutable data type.\n",
    " 4. thats Dictionaries has a mutable.\n",
    "   "
   ]
  },
  {
   "cell_type": "code",
   "execution_count": null,
   "id": "60aad903",
   "metadata": {},
   "outputs": [],
   "source": []
  },
  {
   "cell_type": "code",
   "execution_count": 3,
   "id": "474e0e29",
   "metadata": {},
   "outputs": [
    {
     "name": "stdout",
     "output_type": "stream",
     "text": [
      "{'apple': 200, 'banna': 90}\n"
     ]
    }
   ],
   "source": [
    "x = {\"apple\":200,\"banna\":90}\n",
    "print(x)"
   ]
  },
  {
   "cell_type": "code",
   "execution_count": 25,
   "id": "55bd0787",
   "metadata": {},
   "outputs": [
    {
     "ename": "TypeError",
     "evalue": "unhashable type: 'list'",
     "output_type": "error",
     "traceback": [
      "\u001b[1;31m---------------------------------------------------------------------------\u001b[0m",
      "\u001b[1;31mTypeError\u001b[0m                                 Traceback (most recent call last)",
      "Cell \u001b[1;32mIn[25], line 1\u001b[0m\n\u001b[1;32m----> 1\u001b[0m x \u001b[38;5;241m=\u001b[39m {[\u001b[38;5;124m\"\u001b[39m\u001b[38;5;124mapple\u001b[39m\u001b[38;5;124m\"\u001b[39m]:\u001b[38;5;241m200\u001b[39m,\u001b[38;5;241m78\u001b[39m:\u001b[38;5;28;01mTrue\u001b[39;00m,\u001b[38;5;124m\"\u001b[39m\u001b[38;5;124mtuple\u001b[39m\u001b[38;5;124m\"\u001b[39m:(\u001b[38;5;241m1\u001b[39m,\u001b[38;5;241m2\u001b[39m,\u001b[38;5;241m3\u001b[39m)}\n\u001b[0;32m      2\u001b[0m \u001b[38;5;28mprint\u001b[39m(x)\n",
      "\u001b[1;31mTypeError\u001b[0m: unhashable type: 'list'"
     ]
    }
   ],
   "source": [
    "x = {[\"apple\"]:200,78:True,\"tuple\":(1,2,3)} # [apple] is a list , mutable type which cannot be used as key \n",
    "               # unhasable type means mutable type\n",
    "    print(x)"
   ]
  },
  {
   "cell_type": "code",
   "execution_count": 26,
   "id": "eedb4eac",
   "metadata": {},
   "outputs": [
    {
     "name": "stdout",
     "output_type": "stream",
     "text": [
      "{'a': True}\n"
     ]
    }
   ],
   "source": [
    "x = {\"a\":45,\"a\":89,\"a\":True}\n",
    "print(x)"
   ]
  },
  {
   "cell_type": "code",
   "execution_count": 7,
   "id": "97488b81",
   "metadata": {
    "scrolled": true
   },
   "outputs": [
    {
     "name": "stdout",
     "output_type": "stream",
     "text": [
      "{'hello': 78, 'name': 51, 'age': 28}\n"
     ]
    },
    {
     "data": {
      "text/plain": [
       "51"
      ]
     },
     "execution_count": 7,
     "metadata": {},
     "output_type": "execute_result"
    }
   ],
   "source": [
    "dic={\"hello\":78,\"name\":51,\"age\":28,}\n",
    "print(dic)\n",
    "dic[\"name\"]\n"
   ]
  },
  {
   "cell_type": "markdown",
   "id": "051c5aac",
   "metadata": {},
   "source": [
    "# Accesing items in dictionary"
   ]
  },
  {
   "cell_type": "code",
   "execution_count": 27,
   "id": "fda221b6",
   "metadata": {},
   "outputs": [
    {
     "name": "stdout",
     "output_type": "stream",
     "text": [
      "{'india': 'delhi', 'US': 'Washington'}\n",
      "Washington\n"
     ]
    }
   ],
   "source": [
    "a = {\"india\":\"delhi\",\"US\":\"Washington\"}\n",
    "print(a)\n",
    "print(a[\"US\"])"
   ]
  },
  {
   "cell_type": "code",
   "execution_count": 34,
   "id": "14b84e8a",
   "metadata": {},
   "outputs": [
    {
     "name": "stdout",
     "output_type": "stream",
     "text": [
      "dict_keys(['india', 'US'])\n",
      "<class 'dict_keys'>\n"
     ]
    }
   ],
   "source": [
    "# Keys\n",
    "print(a.keys())\n",
    "print(type(a.keys()))"
   ]
  },
  {
   "cell_type": "code",
   "execution_count": 35,
   "id": "39dcb86d",
   "metadata": {},
   "outputs": [
    {
     "name": "stdout",
     "output_type": "stream",
     "text": [
      "dict_values(['delhi', 'Washington'])\n",
      "<class 'dict_values'>\n"
     ]
    }
   ],
   "source": [
    "# values\n",
    "print(a.values())\n",
    "print(type(a.values()))"
   ]
  },
  {
   "cell_type": "code",
   "execution_count": 28,
   "id": "0d877238",
   "metadata": {},
   "outputs": [
    {
     "name": "stdout",
     "output_type": "stream",
     "text": [
      "dict_items([('india', 'delhi'), ('US', 'Washington')])\n",
      "<class 'dict_items'>\n"
     ]
    }
   ],
   "source": [
    "#items\n",
    "\n",
    "print(a.items())\n",
    "print(type(a.items()))"
   ]
  },
  {
   "cell_type": "markdown",
   "id": "8e790358",
   "metadata": {},
   "source": [
    "# Adding items from a dictionary"
   ]
  },
  {
   "cell_type": "code",
   "execution_count": 37,
   "id": "5367ce5b",
   "metadata": {},
   "outputs": [
    {
     "name": "stdout",
     "output_type": "stream",
     "text": [
      "{'india': 'delhi', 'US': 'Washington'}\n"
     ]
    }
   ],
   "source": [
    "# Key -values assignment []=value\n",
    "print(a)"
   ]
  },
  {
   "cell_type": "code",
   "execution_count": 40,
   "id": "91e28b39",
   "metadata": {},
   "outputs": [
    {
     "name": "stdout",
     "output_type": "stream",
     "text": [
      "{'india': 'delhi', 'US': 'Washington', 'pakistan': 'islamabad'}\n"
     ]
    }
   ],
   "source": [
    "a[\"pakistan\"]=\"islamabad\"\n",
    "print(a)"
   ]
  },
  {
   "cell_type": "code",
   "execution_count": 41,
   "id": "e7b6d4f7",
   "metadata": {},
   "outputs": [
    {
     "name": "stdout",
     "output_type": "stream",
     "text": [
      "{'india': 'delhi', 'US': 'Washington', 'pakistan': 'islamabad', 'England': 'london'}\n"
     ]
    }
   ],
   "source": [
    "# .update ()\n",
    "a.update({\"England\":\"london\"})\n",
    "print(a)"
   ]
  },
  {
   "cell_type": "markdown",
   "id": "996e8335",
   "metadata": {},
   "source": [
    "# Removing items from a dictionary"
   ]
  },
  {
   "cell_type": "code",
   "execution_count": 23,
   "id": "28ddf4b3",
   "metadata": {},
   "outputs": [
    {
     "name": "stdout",
     "output_type": "stream",
     "text": [
      "{'india': 'delhi', 'US': 'Washington', 'pakistan': 'islamabad'}\n",
      "('England', 'london')\n"
     ]
    }
   ],
   "source": [
    "# .popitems() - Retrun and removes the last inserted item from the dictionary\n",
    "a ={'india': 'delhi', 'US': 'Washington', 'pakistan': 'islamabad', 'England': 'london'}\n",
    "b = a.popitem()\n",
    "print(a)\n",
    "print(b)"
   ]
  },
  {
   "cell_type": "code",
   "execution_count": 43,
   "id": "767740a0",
   "metadata": {},
   "outputs": [
    {
     "name": "stdout",
     "output_type": "stream",
     "text": [
      "{'india': 'delhi', 'pakistan': 'islamabad'}\n"
     ]
    }
   ],
   "source": [
    "#.pop - Removes the item with the key and reteun its value. \n",
    "a.pop(\"US\")\n",
    "print(a)"
   ]
  },
  {
   "cell_type": "code",
   "execution_count": 44,
   "id": "2acb4cf4",
   "metadata": {},
   "outputs": [
    {
     "name": "stdout",
     "output_type": "stream",
     "text": [
      "{'india': 'delhi'}\n"
     ]
    }
   ],
   "source": [
    "# del \n",
    "del(a[\"pakistan\"])\n",
    "print(a)"
   ]
  },
  {
   "cell_type": "code",
   "execution_count": 63,
   "id": "e4fa7a16",
   "metadata": {},
   "outputs": [
    {
     "name": "stdout",
     "output_type": "stream",
     "text": [
      "({'gaurav': ['bisht'], 'english': 90}, {'hello': 78, 'sir': 90})\n"
     ]
    }
   ],
   "source": [
    "r = {\"gaurav\":[\"bisht\"],\"english\":90},{\"hello\":78,\"sir\":90}\n",
    "print(r)"
   ]
  },
  {
   "cell_type": "markdown",
   "id": "697e9c2c",
   "metadata": {},
   "source": [
    "# Tuples\n",
    "- Group of any data type\n",
    "\n"
   ]
  },
  {
   "cell_type": "code",
   "execution_count": 72,
   "id": "bcc13e16",
   "metadata": {},
   "outputs": [
    {
     "data": {
      "text/plain": [
       "(1, 2, True)"
      ]
     },
     "execution_count": 72,
     "metadata": {},
     "output_type": "execute_result"
    }
   ],
   "source": [
    "X = (1,2,True)\n",
    "X"
   ]
  },
  {
   "cell_type": "code",
   "execution_count": 73,
   "id": "e6d463bf",
   "metadata": {},
   "outputs": [
    {
     "data": {
      "text/plain": [
       "tuple"
      ]
     },
     "execution_count": 73,
     "metadata": {},
     "output_type": "execute_result"
    }
   ],
   "source": [
    "X = (1,\"structure\")\n",
    "type(X)"
   ]
  },
  {
   "cell_type": "code",
   "execution_count": 74,
   "id": "3f0324c8",
   "metadata": {},
   "outputs": [
    {
     "data": {
      "text/plain": [
       "tuple"
      ]
     },
     "execution_count": 74,
     "metadata": {},
     "output_type": "execute_result"
    }
   ],
   "source": [
    "y = (1,)\n",
    "type(y)"
   ]
  },
  {
   "cell_type": "code",
   "execution_count": 75,
   "id": "3b1d0b7a",
   "metadata": {},
   "outputs": [
    {
     "data": {
      "text/plain": [
       "(1, 2)"
      ]
     },
     "execution_count": 75,
     "metadata": {},
     "output_type": "execute_result"
    }
   ],
   "source": [
    "y = 1,2\n",
    "y"
   ]
  },
  {
   "cell_type": "code",
   "execution_count": 76,
   "id": "0d33fe48",
   "metadata": {},
   "outputs": [
    {
     "data": {
      "text/plain": [
       "(1, 2, 3, 6, 7, 8)"
      ]
     },
     "execution_count": 76,
     "metadata": {},
     "output_type": "execute_result"
    }
   ],
   "source": [
    "x = 1,2,3,6,7,8,\n",
    "x"
   ]
  },
  {
   "cell_type": "code",
   "execution_count": 79,
   "id": "3a755ff9",
   "metadata": {},
   "outputs": [
    {
     "name": "stdout",
     "output_type": "stream",
     "text": [
      "<class 'tuple'>\n"
     ]
    }
   ],
   "source": [
    "x = 1,2,7,6,4,90.0\n",
    "type(x)\n",
    "print(type(x))"
   ]
  },
  {
   "cell_type": "code",
   "execution_count": 26,
   "id": "8765d7aa",
   "metadata": {},
   "outputs": [
    {
     "name": "stdout",
     "output_type": "stream",
     "text": [
      "2691295170944\n",
      "2691265713520\n",
      "2691266556784\n"
     ]
    }
   ],
   "source": [
    "x = 'rishi','rohit'\n",
    "print(id(x))\n",
    "x = 'rohit'\n",
    "print(id(x))\n",
    "x='golu'\n",
    "print(id(x))"
   ]
  },
  {
   "cell_type": "code",
   "execution_count": 31,
   "id": "380bbde8",
   "metadata": {},
   "outputs": [
    {
     "name": "stdout",
     "output_type": "stream",
     "text": [
      "2310155399360\n",
      "2310155390784\n",
      "2310155390784\n"
     ]
    },
    {
     "data": {
      "text/plain": [
       "['rahul', 'rishi']"
      ]
     },
     "execution_count": 31,
     "metadata": {},
     "output_type": "execute_result"
    }
   ],
   "source": [
    "x = ['rihi','rohit']\n",
    "print(id(x))\n",
    "x = ['rahul','rohit']\n",
    "print(id(x))\n",
    "x[1]=\"rishi\"\n",
    "print(id(x))\n",
    "x"
   ]
  },
  {
   "cell_type": "code",
   "execution_count": 7,
   "id": "148e1b32",
   "metadata": {},
   "outputs": [
    {
     "name": "stdout",
     "output_type": "stream",
     "text": [
      "4\n"
     ]
    }
   ],
   "source": [
    "#.count (how many time is any number ya name etc.)\n",
    "x = (1,2,3,4,6,4,43,6,7,4,56,3,4)\n",
    "print(x.count(4))\n"
   ]
  },
  {
   "cell_type": "code",
   "execution_count": null,
   "id": "8dfb3b0a",
   "metadata": {},
   "outputs": [],
   "source": []
  },
  {
   "cell_type": "code",
   "execution_count": 83,
   "id": "93cf57aa",
   "metadata": {},
   "outputs": [
    {
     "data": {
      "text/plain": [
       "10"
      ]
     },
     "execution_count": 83,
     "metadata": {},
     "output_type": "execute_result"
    }
   ],
   "source": [
    "#.index (given opp+ indexing number in a output)\n",
    "x.index(56)"
   ]
  },
  {
   "cell_type": "code",
   "execution_count": 89,
   "id": "df4fc131",
   "metadata": {},
   "outputs": [
    {
     "name": "stdout",
     "output_type": "stream",
     "text": [
      "1655674066496\n"
     ]
    },
    {
     "data": {
      "text/plain": [
       "(1655703024832, 1655703024832)"
      ]
     },
     "execution_count": 89,
     "metadata": {},
     "output_type": "execute_result"
    }
   ],
   "source": [
    "x = [12]\n",
    "print(id(x))\n",
    "x = [13]\n",
    "id(x),id(x)"
   ]
  },
  {
   "cell_type": "code",
   "execution_count": 88,
   "id": "020d4f13",
   "metadata": {},
   "outputs": [
    {
     "data": {
      "text/plain": [
       "1655702068800"
      ]
     },
     "execution_count": 88,
     "metadata": {},
     "output_type": "execute_result"
    }
   ],
   "source": [
    "x = [13]\n",
    "id(x)"
   ]
  },
  {
   "cell_type": "markdown",
   "id": "f5ea8e53",
   "metadata": {},
   "source": [
    "# Mutable Data Types\n",
    "  - An object that allow you to change its values without changing its identity is a mutable object.\n",
    "  - List \n",
    "  - Sets\n",
    "  - Dectionaries"
   ]
  },
  {
   "cell_type": "code",
   "execution_count": 106,
   "id": "38d10c48",
   "metadata": {},
   "outputs": [
    {
     "data": {
      "text/plain": [
       "1655702675904"
      ]
     },
     "execution_count": 106,
     "metadata": {},
     "output_type": "execute_result"
    }
   ],
   "source": [
    "x = [\"hello\",1,2]\n",
    "id(x)\n"
   ]
  },
  {
   "cell_type": "code",
   "execution_count": 109,
   "id": "f00732c7",
   "metadata": {},
   "outputs": [
    {
     "ename": "AttributeError",
     "evalue": "'tuple' object has no attribute 'remove'",
     "output_type": "error",
     "traceback": [
      "\u001b[1;31m---------------------------------------------------------------------------\u001b[0m",
      "\u001b[1;31mAttributeError\u001b[0m                            Traceback (most recent call last)",
      "Cell \u001b[1;32mIn[109], line 1\u001b[0m\n\u001b[1;32m----> 1\u001b[0m \u001b[43mx\u001b[49m\u001b[38;5;241;43m.\u001b[39;49m\u001b[43mremove\u001b[49m(\u001b[38;5;124m\"\u001b[39m\u001b[38;5;124mhello\u001b[39m\u001b[38;5;124m\"\u001b[39m)\n\u001b[0;32m      2\u001b[0m x\n",
      "\u001b[1;31mAttributeError\u001b[0m: 'tuple' object has no attribute 'remove'"
     ]
    }
   ],
   "source": []
  },
  {
   "cell_type": "code",
   "execution_count": null,
   "id": "cfc56247",
   "metadata": {},
   "outputs": [],
   "source": []
  },
  {
   "cell_type": "markdown",
   "id": "1a54ecc5",
   "metadata": {},
   "source": [
    "# Type Casting\n"
   ]
  },
  {
   "cell_type": "markdown",
   "id": "c2085261",
   "metadata": {},
   "source": [
    "- int()\n",
    "- float()\n",
    "- bool()\n",
    "- complex()\n",
    "- str()\n",
    "- list()\n",
    "- tuple()\n",
    "- dict()\n",
    "- set()"
   ]
  },
  {
   "cell_type": "code",
   "execution_count": 2,
   "id": "a23f235c",
   "metadata": {},
   "outputs": [
    {
     "data": {
      "text/plain": [
       "20.0"
      ]
     },
     "execution_count": 2,
     "metadata": {},
     "output_type": "execute_result"
    }
   ],
   "source": [
    "20\n",
    "float(20)"
   ]
  },
  {
   "cell_type": "code",
   "execution_count": 2,
   "id": "ec34a30c",
   "metadata": {},
   "outputs": [
    {
     "name": "stdout",
     "output_type": "stream",
     "text": [
      "<class 'float'>\n"
     ]
    }
   ],
   "source": [
    "print(type(20.0))"
   ]
  },
  {
   "cell_type": "code",
   "execution_count": 6,
   "id": "bf0d3084",
   "metadata": {},
   "outputs": [
    {
     "data": {
      "text/plain": [
       "int"
      ]
     },
     "execution_count": 6,
     "metadata": {},
     "output_type": "execute_result"
    }
   ],
   "source": [
    "type (int('78'))"
   ]
  },
  {
   "cell_type": "code",
   "execution_count": 2,
   "id": "5a9c18bf",
   "metadata": {},
   "outputs": [
    {
     "data": {
      "text/plain": [
       "(59+0j)"
      ]
     },
     "execution_count": 2,
     "metadata": {},
     "output_type": "execute_result"
    }
   ],
   "source": [
    "complex(54+5)"
   ]
  },
  {
   "cell_type": "code",
   "execution_count": 3,
   "id": "90c9a8e8",
   "metadata": {},
   "outputs": [
    {
     "data": {
      "text/plain": [
       "(59+0j)"
      ]
     },
     "execution_count": 3,
     "metadata": {},
     "output_type": "execute_result"
    }
   ],
   "source": [
    "complex(59+0)"
   ]
  },
  {
   "cell_type": "code",
   "execution_count": 7,
   "id": "59671b49",
   "metadata": {},
   "outputs": [
    {
     "data": {
      "text/plain": [
       "44"
      ]
     },
     "execution_count": 7,
     "metadata": {},
     "output_type": "execute_result"
    }
   ],
   "source": [
    "int(44.5)"
   ]
  },
  {
   "cell_type": "code",
   "execution_count": 17,
   "id": "60d127d2",
   "metadata": {},
   "outputs": [
    {
     "data": {
      "text/plain": [
       "True"
      ]
     },
     "execution_count": 17,
     "metadata": {},
     "output_type": "execute_result"
    }
   ],
   "source": [
    "bool(52)"
   ]
  },
  {
   "cell_type": "code",
   "execution_count": 18,
   "id": "5626a81c",
   "metadata": {},
   "outputs": [
    {
     "data": {
      "text/plain": [
       "(60+0j)"
      ]
     },
     "execution_count": 18,
     "metadata": {},
     "output_type": "execute_result"
    }
   ],
   "source": [
    "complex(4+56)"
   ]
  },
  {
   "cell_type": "code",
   "execution_count": 5,
   "id": "89b286ca",
   "metadata": {},
   "outputs": [
    {
     "ename": "TypeError",
     "evalue": "int() argument must be a string, a bytes-like object or a real number, not 'complex'",
     "output_type": "error",
     "traceback": [
      "\u001b[1;31m---------------------------------------------------------------------------\u001b[0m",
      "\u001b[1;31mTypeError\u001b[0m                                 Traceback (most recent call last)",
      "Cell \u001b[1;32mIn[5], line 1\u001b[0m\n\u001b[1;32m----> 1\u001b[0m \u001b[38;5;28;43mint\u001b[39;49m\u001b[43m(\u001b[49m\u001b[38;5;241;43m78\u001b[39;49m\u001b[38;5;241;43m+\u001b[39;49m\u001b[38;5;241;43m6\u001b[39;49m\u001b[43mj\u001b[49m\u001b[43m)\u001b[49m\n",
      "\u001b[1;31mTypeError\u001b[0m: int() argument must be a string, a bytes-like object or a real number, not 'complex'"
     ]
    }
   ],
   "source": [
    "int(78+6j)"
   ]
  },
  {
   "cell_type": "code",
   "execution_count": 22,
   "id": "4e3f33e3",
   "metadata": {},
   "outputs": [
    {
     "data": {
      "text/plain": [
       "34"
      ]
     },
     "execution_count": 22,
     "metadata": {},
     "output_type": "execute_result"
    }
   ],
   "source": [
    "int('34')"
   ]
  },
  {
   "cell_type": "code",
   "execution_count": 23,
   "id": "fe206f84",
   "metadata": {},
   "outputs": [
    {
     "ename": "ValueError",
     "evalue": "invalid literal for int() with base 10: 'gunja'",
     "output_type": "error",
     "traceback": [
      "\u001b[1;31m---------------------------------------------------------------------------\u001b[0m",
      "\u001b[1;31mValueError\u001b[0m                                Traceback (most recent call last)",
      "Cell \u001b[1;32mIn[23], line 1\u001b[0m\n\u001b[1;32m----> 1\u001b[0m \u001b[38;5;28;43mint\u001b[39;49m\u001b[43m(\u001b[49m\u001b[38;5;124;43m'\u001b[39;49m\u001b[38;5;124;43mgunja\u001b[39;49m\u001b[38;5;124;43m'\u001b[39;49m\u001b[43m)\u001b[49m\n",
      "\u001b[1;31mValueError\u001b[0m: invalid literal for int() with base 10: 'gunja'"
     ]
    }
   ],
   "source": [
    "int('gunja')"
   ]
  },
  {
   "cell_type": "markdown",
   "id": "fc3728c8",
   "metadata": {},
   "source": [
    "# Escape Sequences"
   ]
  },
  {
   "cell_type": "markdown",
   "id": "2d7e2516",
   "metadata": {},
   "source": [
    "CODE RESULT\n",
    "-      \\' - Single quote\n",
    "- \\ - Back slash (line continuation character)\n",
    "- \\n - New Line \n",
    "- \\b - Backspace\n",
    "- \\t - Tab\n",
    "- \\r - carriage return"
   ]
  },
  {
   "cell_type": "code",
   "execution_count": 39,
   "id": "1d970102",
   "metadata": {},
   "outputs": [
    {
     "name": "stdout",
     "output_type": "stream",
     "text": [
      "'python'\n"
     ]
    }
   ],
   "source": [
    "print('\\'python\\'')"
   ]
  },
  {
   "cell_type": "code",
   "execution_count": 32,
   "id": "f83a9450",
   "metadata": {},
   "outputs": [
    {
     "data": {
      "text/plain": [
       "'python'"
      ]
     },
     "execution_count": 32,
     "metadata": {},
     "output_type": "execute_result"
    }
   ],
   "source": [
    "'''python'''"
   ]
  },
  {
   "cell_type": "code",
   "execution_count": 42,
   "id": "06d00094",
   "metadata": {},
   "outputs": [
    {
     "name": "stdout",
     "output_type": "stream",
     "text": [
      "\\n\n"
     ]
    }
   ],
   "source": [
    "print ('\\\\n')"
   ]
  },
  {
   "cell_type": "code",
   "execution_count": 46,
   "id": "0d295a52",
   "metadata": {},
   "outputs": [
    {
     "name": "stdout",
     "output_type": "stream",
     "text": [
      "\\n\n"
     ]
    }
   ],
   "source": [
    "print('\\\\n')"
   ]
  },
  {
   "cell_type": "code",
   "execution_count": 4,
   "id": "fa7ea774",
   "metadata": {},
   "outputs": [
    {
     "name": "stdout",
     "output_type": "stream",
     "text": [
      "python\n"
     ]
    }
   ],
   "source": [
    "print ('python')"
   ]
  },
  {
   "cell_type": "code",
   "execution_count": 9,
   "id": "33621f7f",
   "metadata": {},
   "outputs": [
    {
     "name": "stdout",
     "output_type": "stream",
     "text": [
      "hello,my name is\n",
      "gaurav\n"
     ]
    }
   ],
   "source": [
    "print('hello,my name is\\ngaurav')"
   ]
  },
  {
   "cell_type": "code",
   "execution_count": 14,
   "id": "ffe0dac4",
   "metadata": {},
   "outputs": [
    {
     "name": "stdout",
     "output_type": "stream",
     "text": [
      "gau \brav\n"
     ]
    }
   ],
   "source": [
    "print ('gau \\brav')"
   ]
  },
  {
   "cell_type": "code",
   "execution_count": 15,
   "id": "12c71527",
   "metadata": {},
   "outputs": [
    {
     "name": "stdout",
     "output_type": "stream",
     "text": [
      "im goning to m \barket\n"
     ]
    }
   ],
   "source": [
    "print('im goning to m \\barket')"
   ]
  },
  {
   "cell_type": "code",
   "execution_count": 16,
   "id": "54c08334",
   "metadata": {},
   "outputs": [
    {
     "name": "stdout",
     "output_type": "stream",
     "text": [
      "this is a ch \bair\n"
     ]
    }
   ],
   "source": [
    "print('this is a ch \\bair')"
   ]
  },
  {
   "cell_type": "code",
   "execution_count": 17,
   "id": "b9d057d8",
   "metadata": {},
   "outputs": [
    {
     "name": "stdout",
     "output_type": "stream",
     "text": [
      "yes this my chair\n"
     ]
    }
   ],
   "source": [
    "print('yes this my \\\n",
    "chair')"
   ]
  },
  {
   "cell_type": "code",
   "execution_count": 18,
   "id": "d257021d",
   "metadata": {},
   "outputs": [
    {
     "ename": "SyntaxError",
     "evalue": "invalid syntax. Perhaps you forgot a comma? (860405477.py, line 1)",
     "output_type": "error",
     "traceback": [
      "\u001b[1;36m  Cell \u001b[1;32mIn[18], line 1\u001b[1;36m\u001b[0m\n\u001b[1;33m    print (''hello rishi, im gaurav'')\u001b[0m\n\u001b[1;37m           ^\u001b[0m\n\u001b[1;31mSyntaxError\u001b[0m\u001b[1;31m:\u001b[0m invalid syntax. Perhaps you forgot a comma?\n"
     ]
    }
   ],
   "source": [
    "print (''hello rishi, im gaurav'')"
   ]
  },
  {
   "cell_type": "code",
   "execution_count": 23,
   "id": "0552ae36",
   "metadata": {},
   "outputs": [
    {
     "name": "stdout",
     "output_type": "stream",
     "text": [
      "'hello rishi, my name is gaurav'\n"
     ]
    }
   ],
   "source": [
    "print('\\'hello rishi, my name is gaurav\\'')"
   ]
  },
  {
   "cell_type": "code",
   "execution_count": 25,
   "id": "e31a366f",
   "metadata": {},
   "outputs": [
    {
     "name": "stdout",
     "output_type": "stream",
     "text": [
      "hello gau \brav your cabin \n",
      "is vrey \tintresting\n"
     ]
    }
   ],
   "source": [
    "print ('hello gau \\brav your cabin \\nis vrey \\tintresting')"
   ]
  },
  {
   "cell_type": "code",
   "execution_count": 26,
   "id": "eed6e96e",
   "metadata": {},
   "outputs": [
    {
     "data": {
      "text/plain": [
       "True"
      ]
     },
     "execution_count": 26,
     "metadata": {},
     "output_type": "execute_result"
    }
   ],
   "source": [
    "bool(70.2)"
   ]
  },
  {
   "cell_type": "code",
   "execution_count": 27,
   "id": "d4aba3c6",
   "metadata": {},
   "outputs": [
    {
     "data": {
      "text/plain": [
       "78.0"
      ]
     },
     "execution_count": 27,
     "metadata": {},
     "output_type": "execute_result"
    }
   ],
   "source": [
    "float(78)"
   ]
  },
  {
   "cell_type": "code",
   "execution_count": 28,
   "id": "1487e743",
   "metadata": {},
   "outputs": [
    {
     "data": {
      "text/plain": [
       "True"
      ]
     },
     "execution_count": 28,
     "metadata": {},
     "output_type": "execute_result"
    }
   ],
   "source": [
    "bool('gaurav')"
   ]
  },
  {
   "cell_type": "code",
   "execution_count": 29,
   "id": "05c2966d",
   "metadata": {},
   "outputs": [
    {
     "data": {
      "text/plain": [
       "90"
      ]
     },
     "execution_count": 29,
     "metadata": {},
     "output_type": "execute_result"
    }
   ],
   "source": [
    "int (90)"
   ]
  },
  {
   "cell_type": "code",
   "execution_count": 30,
   "id": "a7f3269d",
   "metadata": {},
   "outputs": [
    {
     "name": "stdout",
     "output_type": "stream",
     "text": [
      "(78+8j)\n"
     ]
    }
   ],
   "source": [
    "print (78+8j)"
   ]
  },
  {
   "cell_type": "code",
   "execution_count": 32,
   "id": "1ce0fbc7",
   "metadata": {},
   "outputs": [
    {
     "name": "stdout",
     "output_type": "stream",
     "text": [
      "<class 'complex'>\n"
     ]
    }
   ],
   "source": [
    "print(type(89+6j))"
   ]
  },
  {
   "cell_type": "code",
   "execution_count": 33,
   "id": "0797f482",
   "metadata": {},
   "outputs": [
    {
     "data": {
      "text/plain": [
       "(93+0j)"
      ]
     },
     "execution_count": 33,
     "metadata": {},
     "output_type": "execute_result"
    }
   ],
   "source": [
    "complex(87+6)"
   ]
  },
  {
   "cell_type": "code",
   "execution_count": 34,
   "id": "a9db3c66",
   "metadata": {},
   "outputs": [
    {
     "name": "stdout",
     "output_type": "stream",
     "text": [
      "im going \n",
      "market\n"
     ]
    }
   ],
   "source": [
    "print('im going \\nmarket')"
   ]
  },
  {
   "cell_type": "code",
   "execution_count": 35,
   "id": "67be8067",
   "metadata": {},
   "outputs": [
    {
     "name": "stdout",
     "output_type": "stream",
     "text": [
      "im going\n",
      " to market\n"
     ]
    }
   ],
   "source": [
    "print('im going\\n to market')"
   ]
  },
  {
   "cell_type": "code",
   "execution_count": 36,
   "id": "b15496c1",
   "metadata": {},
   "outputs": [
    {
     "name": "stdout",
     "output_type": "stream",
     "text": [
      "\\nim going to market\n"
     ]
    }
   ],
   "source": [
    "print ('\\\\nim going to market')"
   ]
  },
  {
   "cell_type": "code",
   "execution_count": 37,
   "id": "b9924e57",
   "metadata": {},
   "outputs": [
    {
     "name": "stdout",
     "output_type": "stream",
     "text": [
      "python\b\b\n"
     ]
    }
   ],
   "source": [
    "print('python\\b\\b')"
   ]
  },
  {
   "cell_type": "code",
   "execution_count": 38,
   "id": "aedae19a",
   "metadata": {},
   "outputs": [
    {
     "name": "stdout",
     "output_type": "stream",
     "text": [
      "python\b\b\b\n"
     ]
    }
   ],
   "source": [
    "print('python\\b\\b\\b')# only removed one charater "
   ]
  },
  {
   "cell_type": "code",
   "execution_count": 39,
   "id": "accfbdc3",
   "metadata": {},
   "outputs": [
    {
     "name": "stdout",
     "output_type": "stream",
     "text": [
      "python\b\n"
     ]
    }
   ],
   "source": [
    "print('python\\b')"
   ]
  },
  {
   "cell_type": "code",
   "execution_count": 43,
   "id": "87b7ce28",
   "metadata": {},
   "outputs": [
    {
     "name": "stdout",
     "output_type": "stream",
     "text": [
      "py\bth\n",
      "on\n"
     ]
    }
   ],
   "source": [
    "print(\"py\\bth\\non\")"
   ]
  },
  {
   "cell_type": "code",
   "execution_count": 46,
   "id": "3ca819bd",
   "metadata": {},
   "outputs": [
    {
     "name": "stdout",
     "output_type": "stream",
     "text": [
      "pyth\bo\n",
      "n\b\n"
     ]
    }
   ],
   "source": [
    "print ('pyth\\bo\\nn\\b')"
   ]
  },
  {
   "cell_type": "code",
   "execution_count": 48,
   "id": "ac8081bb",
   "metadata": {},
   "outputs": [
    {
     "name": "stdout",
     "output_type": "stream",
     "text": [
      "i \tlearning python\n"
     ]
    }
   ],
   "source": [
    "print ('i \\tlearning python')"
   ]
  },
  {
   "cell_type": "code",
   "execution_count": 47,
   "id": "13a6bb4f",
   "metadata": {},
   "outputs": [
    {
     "name": "stdout",
     "output_type": "stream",
     "text": [
      "im      going to market\n"
     ]
    }
   ],
   "source": [
    "print('im      going to market')"
   ]
  },
  {
   "cell_type": "code",
   "execution_count": 49,
   "id": "b658aa4e",
   "metadata": {},
   "outputs": [
    {
     "name": "stdout",
     "output_type": "stream",
     "text": [
      "python\r",
      "data\n"
     ]
    }
   ],
   "source": [
    "print ('python\\rdata')"
   ]
  },
  {
   "cell_type": "code",
   "execution_count": 50,
   "id": "c5033099",
   "metadata": {},
   "outputs": [
    {
     "name": "stdout",
     "output_type": "stream",
     "text": [
      "gaurav\r",
      "singhbisht\n"
     ]
    }
   ],
   "source": [
    "print('gaurav\\rsinghbisht')"
   ]
  },
  {
   "cell_type": "code",
   "execution_count": 51,
   "id": "975374ae",
   "metadata": {},
   "outputs": [
    {
     "name": "stdout",
     "output_type": "stream",
     "text": [
      "my name is \r",
      " gaurav\n"
     ]
    }
   ],
   "source": [
    "print('my name is \\r gaurav')"
   ]
  },
  {
   "cell_type": "code",
   "execution_count": 52,
   "id": "e3577dd9",
   "metadata": {},
   "outputs": [
    {
     "name": "stdout",
     "output_type": "stream",
     "text": [
      "ram is a good/r boy\n"
     ]
    }
   ],
   "source": [
    "print('ram is a good/r boy')"
   ]
  },
  {
   "cell_type": "code",
   "execution_count": 53,
   "id": "da316163",
   "metadata": {
    "collapsed": true
   },
   "outputs": [
    {
     "name": "stdout",
     "output_type": "stream",
     "text": [
      "ramis a good\r",
      " boy\n"
     ]
    }
   ],
   "source": [
    "print('ramis a good\\r boy')"
   ]
  },
  {
   "cell_type": "code",
   "execution_count": 54,
   "id": "4e19cbe5",
   "metadata": {
    "collapsed": true
   },
   "outputs": [
    {
     "name": "stdout",
     "output_type": "stream",
     "text": [
      "CHTYON\r",
      "Data\r",
      "HE\n"
     ]
    }
   ],
   "source": [
    "print ('CHTYON\\rData\\rHE')"
   ]
  },
  {
   "cell_type": "code",
   "execution_count": 55,
   "id": "5477d4c7",
   "metadata": {
    "collapsed": true
   },
   "outputs": [
    {
     "name": "stdout",
     "output_type": "stream",
     "text": [
      "CHTYON\r",
      "DATA\r",
      "GOOD\n"
     ]
    }
   ],
   "source": [
    "print('CHTYON\\rDATA\\rGOOD')"
   ]
  },
  {
   "cell_type": "code",
   "execution_count": 17,
   "id": "9653d6dd",
   "metadata": {
    "collapsed": true
   },
   "outputs": [
    {
     "name": "stdout",
     "output_type": "stream",
     "text": [
      "['rishi', 'gaurav', 67, True, 'hello', 'python', 3, 5, True]\n"
     ]
    }
   ],
   "source": [
    "c = ['rishi','gaurav',67,True]\n",
    "c.extend(['hello','python',3,5,True])\n",
    "print(c)"
   ]
  },
  {
   "cell_type": "code",
   "execution_count": 19,
   "id": "8fdaab78",
   "metadata": {},
   "outputs": [
    {
     "name": "stdout",
     "output_type": "stream",
     "text": [
      "['rishi', 'gaurav', 67, True, ['hello', 'python', 3, 5, True]]\n"
     ]
    }
   ],
   "source": [
    "c = ['rishi','gaurav',67,True]\n",
    "c.append(['hello','python',3,5,True])\n",
    "print(c)"
   ]
  },
  {
   "cell_type": "code",
   "execution_count": 20,
   "id": "94d6bb42",
   "metadata": {},
   "outputs": [
    {
     "data": {
      "text/plain": [
       "0"
      ]
     },
     "execution_count": 20,
     "metadata": {},
     "output_type": "execute_result"
    }
   ],
   "source": [
    "0 and False"
   ]
  },
  {
   "cell_type": "code",
   "execution_count": 16,
   "id": "eace4b28",
   "metadata": {},
   "outputs": [
    {
     "data": {
      "text/plain": [
       "False"
      ]
     },
     "execution_count": 16,
     "metadata": {},
     "output_type": "execute_result"
    }
   ],
   "source": [
    "False and 0"
   ]
  },
  {
   "cell_type": "code",
   "execution_count": 17,
   "id": "fbb96606",
   "metadata": {},
   "outputs": [
    {
     "data": {
      "text/plain": [
       "True"
      ]
     },
     "execution_count": 17,
     "metadata": {},
     "output_type": "execute_result"
    }
   ],
   "source": [
    "True or 0"
   ]
  },
  {
   "cell_type": "code",
   "execution_count": 18,
   "id": "4539a80d",
   "metadata": {},
   "outputs": [
    {
     "data": {
      "text/plain": [
       "True"
      ]
     },
     "execution_count": 18,
     "metadata": {},
     "output_type": "execute_result"
    }
   ],
   "source": [
    "0 or True"
   ]
  },
  {
   "cell_type": "code",
   "execution_count": 21,
   "id": "f95165cb",
   "metadata": {},
   "outputs": [
    {
     "data": {
      "text/plain": [
       "True"
      ]
     },
     "execution_count": 21,
     "metadata": {},
     "output_type": "execute_result"
    }
   ],
   "source": [
    "5 and True"
   ]
  },
  {
   "cell_type": "code",
   "execution_count": 22,
   "id": "b6410c00",
   "metadata": {},
   "outputs": [
    {
     "data": {
      "text/plain": [
       "5"
      ]
     },
     "execution_count": 22,
     "metadata": {},
     "output_type": "execute_result"
    }
   ],
   "source": [
    "True and 5"
   ]
  },
  {
   "cell_type": "code",
   "execution_count": 23,
   "id": "cd3a5e6a",
   "metadata": {},
   "outputs": [
    {
     "data": {
      "text/plain": [
       "6"
      ]
     },
     "execution_count": 23,
     "metadata": {},
     "output_type": "execute_result"
    }
   ],
   "source": [
    "5 and 6"
   ]
  },
  {
   "cell_type": "code",
   "execution_count": 24,
   "id": "90f65e27",
   "metadata": {},
   "outputs": [
    {
     "data": {
      "text/plain": [
       "5"
      ]
     },
     "execution_count": 24,
     "metadata": {},
     "output_type": "execute_result"
    }
   ],
   "source": [
    "6 and 5"
   ]
  },
  {
   "cell_type": "code",
   "execution_count": null,
   "id": "3e259575",
   "metadata": {},
   "outputs": [],
   "source": []
  }
 ],
 "metadata": {
  "kernelspec": {
   "display_name": "Python 3 (ipykernel)",
   "language": "python",
   "name": "python3"
  },
  "language_info": {
   "codemirror_mode": {
    "name": "ipython",
    "version": 3
   },
   "file_extension": ".py",
   "mimetype": "text/x-python",
   "name": "python",
   "nbconvert_exporter": "python",
   "pygments_lexer": "ipython3",
   "version": "3.10.9"
  }
 },
 "nbformat": 4,
 "nbformat_minor": 5
}
