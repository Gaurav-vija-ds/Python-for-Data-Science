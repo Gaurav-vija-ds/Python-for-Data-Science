{
 "cells": [
  {
   "cell_type": "markdown",
   "id": "f6a34ac7",
   "metadata": {},
   "source": [
    "# Range object (or range data type) is an immutable sequence of integers starting from the given start intefer tothe stop range"
   ]
  },
  {
   "cell_type": "code",
   "execution_count": 3,
   "id": "41f7bb7b",
   "metadata": {},
   "outputs": [
    {
     "name": "stdout",
     "output_type": "stream",
     "text": [
      "range(1, 15, 2)\n"
     ]
    }
   ],
   "source": [
    "# range(start,stop,step)\n",
    "x = range(1,15,2)\n",
    "print(x)"
   ]
  },
  {
   "cell_type": "code",
   "execution_count": null,
   "id": "f55f756e",
   "metadata": {},
   "outputs": [],
   "source": [
    "x = range(1,15)\n",
    "x\n"
   ]
  },
  {
   "cell_type": "code",
   "execution_count": 4,
   "id": "b9a0ba4f",
   "metadata": {},
   "outputs": [
    {
     "data": {
      "text/plain": [
       "range"
      ]
     },
     "execution_count": 4,
     "metadata": {},
     "output_type": "execute_result"
    }
   ],
   "source": [
    "# Let us check the data type of range object \n",
    "type(range(1,15))"
   ]
  },
  {
   "cell_type": "code",
   "execution_count": null,
   "id": "fa1fd550",
   "metadata": {},
   "outputs": [],
   "source": [
    "x = int(input(\"enter number p\n",
    "              \"))"
   ]
  },
  {
   "cell_type": "code",
   "execution_count": null,
   "id": "a465a983",
   "metadata": {},
   "outputs": [],
   "source": []
  },
  {
   "cell_type": "code",
   "execution_count": null,
   "id": "a799d2c6",
   "metadata": {},
   "outputs": [],
   "source": [
    "# range indexing\n",
    "range_x = range(1,15)\n",
    "range_x[6]"
   ]
  },
  {
   "cell_type": "code",
   "execution_count": 5,
   "id": "67bda2ea",
   "metadata": {},
   "outputs": [
    {
     "data": {
      "text/plain": [
       "[1, 2, 3, 4, 5, 6, 7, 8, 9, 10, 11, 12, 13, 14]"
      ]
     },
     "execution_count": 5,
     "metadata": {},
     "output_type": "execute_result"
    }
   ],
   "source": [
    "# type casting \n",
    "list(range(1,15))"
   ]
  },
  {
   "cell_type": "code",
   "execution_count": 6,
   "id": "c9768698",
   "metadata": {},
   "outputs": [
    {
     "data": {
      "text/plain": [
       "(1, 2, 3, 4, 5, 6, 7, 8, 9, 10, 11, 12, 13, 14)"
      ]
     },
     "execution_count": 6,
     "metadata": {},
     "output_type": "execute_result"
    }
   ],
   "source": [
    "tuple(range(1,15))"
   ]
  },
  {
   "cell_type": "code",
   "execution_count": 7,
   "id": "483e67ba",
   "metadata": {},
   "outputs": [
    {
     "ename": "TypeError",
     "evalue": "cannot convert dictionary update sequence element #0 to a sequence",
     "output_type": "error",
     "traceback": [
      "\u001b[1;31m---------------------------------------------------------------------------\u001b[0m",
      "\u001b[1;31mTypeError\u001b[0m                                 Traceback (most recent call last)",
      "Cell \u001b[1;32mIn[7], line 2\u001b[0m\n\u001b[0;32m      1\u001b[0m \u001b[38;5;66;03m# What heppend when I pass only i=one argument in range ()\u001b[39;00m\n\u001b[1;32m----> 2\u001b[0m \u001b[38;5;28;43mdict\u001b[39;49m\u001b[43m(\u001b[49m\u001b[38;5;28;43mrange\u001b[39;49m\u001b[43m(\u001b[49m\u001b[38;5;241;43m15\u001b[39;49m\u001b[43m)\u001b[49m\u001b[43m)\u001b[49m\n",
      "\u001b[1;31mTypeError\u001b[0m: cannot convert dictionary update sequence element #0 to a sequence"
     ]
    }
   ],
   "source": [
    "# What heppend when I pass only i=one argument in range ()\n",
    "dict(range(15))"
   ]
  },
  {
   "cell_type": "code",
   "execution_count": 8,
   "id": "4e0a29bc",
   "metadata": {},
   "outputs": [
    {
     "data": {
      "text/plain": [
       "(0, 1, 2, 3, 4, 5, 6, 7, 8, 9, 10, 11, 12, 13, 14)"
      ]
     },
     "execution_count": 8,
     "metadata": {},
     "output_type": "execute_result"
    }
   ],
   "source": [
    "tuple(range(15))"
   ]
  },
  {
   "cell_type": "code",
   "execution_count": 9,
   "id": "bbfd3cf6",
   "metadata": {},
   "outputs": [
    {
     "data": {
      "text/plain": [
       "'range(0, 15)'"
      ]
     },
     "execution_count": 9,
     "metadata": {},
     "output_type": "execute_result"
    }
   ],
   "source": [
    "str(range(15))"
   ]
  },
  {
   "cell_type": "code",
   "execution_count": 12,
   "id": "66079dd5",
   "metadata": {},
   "outputs": [
    {
     "data": {
      "text/plain": [
       "True"
      ]
     },
     "execution_count": 12,
     "metadata": {},
     "output_type": "execute_result"
    }
   ],
   "source": [
    "bool(range(15))"
   ]
  },
  {
   "cell_type": "code",
   "execution_count": 13,
   "id": "6b4a99b6",
   "metadata": {},
   "outputs": [
    {
     "data": {
      "text/plain": [
       "{0, 1, 2, 3, 4, 5, 6, 7, 8, 9, 10, 11, 12, 13, 14}"
      ]
     },
     "execution_count": 13,
     "metadata": {},
     "output_type": "execute_result"
    }
   ],
   "source": [
    "set(range(15))"
   ]
  },
  {
   "cell_type": "code",
   "execution_count": null,
   "id": "7d92042e",
   "metadata": {},
   "outputs": [],
   "source": [
    "x = int(input(\"enter number :\"))\n",
    "r = \"rishi\",\n",
    "rk = \"rohit\",\n",
    "b = \"bhumika\",\n",
    "p =\"pushpendra\",\n",
    "pp = \"priyashu\" ,\n",
    "a =\"arjun\",\n",
    "m = \"maam\",\n",
    "d = \"dr uncle\",\n",
    "{1}\n"
   ]
  },
  {
   "cell_type": "code",
   "execution_count": null,
   "id": "633ca9a6",
   "metadata": {},
   "outputs": [],
   "source": [
    "\n",
    "\n",
    "y ={1:\"rishi\",2:\"rohit\",3:\"bhumika\",4:\"pushpendra\",5:\"priyashu\",6:\"gaurav\",7:\"maam\",8:\"nitin\",9:\"raj\",10:\"himashu\"}\n",
    "x = int(input(\"enter number\"))\n",
    "\n",
    "print(y[x])\n",
    "\n",
    "\n"
   ]
  },
  {
   "cell_type": "code",
   "execution_count": null,
   "id": "f0231303",
   "metadata": {},
   "outputs": [],
   "source": [
    "a = range(int(input(\"enter number:\")))\n",
    "y = sum(max(a))\n",
    "print(y)\n",
    "\n",
    "\n",
    "\n",
    "\n",
    "\n"
   ]
  },
  {
   "cell_type": "code",
   "execution_count": null,
   "id": "90b6c6a8",
   "metadata": {},
   "outputs": [],
   "source": [
    "x = \"rishi\"\n",
    "x.replace(\"r\",\"R\")\n"
   ]
  },
  {
   "cell_type": "code",
   "execution_count": null,
   "id": "88ac935b",
   "metadata": {},
   "outputs": [],
   "source": [
    "x = \"gaurav\"\n",
    "y = x[0]\n",
    "z = x[1:]\n",
    "a = y.upper()\n",
    "g = a+z\n",
    "print(g)"
   ]
  },
  {
   "cell_type": "code",
   "execution_count": null,
   "id": "825174ec",
   "metadata": {},
   "outputs": [],
   "source": [
    "complex(range(30))"
   ]
  },
  {
   "cell_type": "markdown",
   "id": "9728f362",
   "metadata": {},
   "source": [
    "# Python Programming Fundamentals "
   ]
  },
  {
   "cell_type": "markdown",
   "id": "7c51388e",
   "metadata": {},
   "source": [
    "1. **Control flow statements**\n",
    "2. **Functions**"
   ]
  },
  {
   "cell_type": "markdown",
   "id": "73d691d3",
   "metadata": {},
   "source": [
    "# CONTROL FLOW STATEMENT\n",
    " - In python programming, control flow is the order in which statements or blocks of code are executed at runtime.\n",
    " \n",
    " **FLOW CONTROL**\n",
    " \n",
    " **1.** **Conditional Statements**\n",
    "   - if\n",
    "   - if-esle\n",
    "   - if-elif-else\n",
    "   - nestedif-else\n",
    "    \n",
    "**2.** **Transfer Statements**\n",
    "   - break\n",
    "   - continue\n",
    "   - pass\n",
    "    \n",
    "**3.** **Iterative Statements**\n",
    "   - for\n",
    "   - while\n",
    "       "
   ]
  },
  {
   "cell_type": "code",
   "execution_count": 4,
   "id": "1ad93456",
   "metadata": {},
   "outputs": [
    {
     "ename": "SyntaxError",
     "evalue": "invalid syntax. Maybe you meant '==' or ':=' instead of '='? (1041607162.py, line 3)",
     "output_type": "error",
     "traceback": [
      "\u001b[1;36m  Cell \u001b[1;32mIn[4], line 3\u001b[1;36m\u001b[0m\n\u001b[1;33m    if x=8:\u001b[0m\n\u001b[1;37m       ^\u001b[0m\n\u001b[1;31mSyntaxError\u001b[0m\u001b[1;31m:\u001b[0m invalid syntax. Maybe you meant '==' or ':=' instead of '='?\n"
     ]
    }
   ],
   "source": [
    "# Conditional Statement\n",
    "x = 8\n",
    "if x=8:\n",
    "    print(\"x ix \",x)\n"
   ]
  },
  {
   "cell_type": "code",
   "execution_count": null,
   "id": "a02e1aa7",
   "metadata": {},
   "outputs": [],
   "source": [
    "x = 8\n",
    "if x==8:\n",
    "print(\"x is \",x)"
   ]
  },
  {
   "cell_type": "code",
   "execution_count": null,
   "id": "68a03389",
   "metadata": {},
   "outputs": [],
   "source": [
    "x = 10     # there is exclued to else\n",
    "if x==8:\n",
    "    print(\"x is\",x)\n",
    "    y =  9\n",
    "    print(y)\n",
    "else:\n",
    "    print((\"x is not 8\"))\n",
    "elif x ==10:\n",
    "    print(\"x id\",x)"
   ]
  },
  {
   "cell_type": "code",
   "execution_count": null,
   "id": "ca257cc7",
   "metadata": {},
   "outputs": [],
   "source": [
    "x = 89    # there is exclued to else\n",
    "if x==8:\n",
    "    print(\"x is\",x)\n",
    "    \n",
    "    \n",
    "\n",
    "elif x ==10:\n",
    "    print(\"x id\",x)\n",
    "else:\n",
    "    print((\"x is not 8\"))"
   ]
  },
  {
   "cell_type": "code",
   "execution_count": null,
   "id": "60d0bfbb",
   "metadata": {},
   "outputs": [],
   "source": [
    "x = 89    # there is exclued to else\n",
    "if x==8:\n",
    "    print(\"x is\",x)\n",
    "elif x ==10:\n",
    "    print(\"x id\",x)\n"
   ]
  },
  {
   "cell_type": "code",
   "execution_count": null,
   "id": "98fb831a",
   "metadata": {},
   "outputs": [],
   "source": [
    "x = 45    # there is exclued to else\n",
    "if x==8:\n",
    "    print(\"x is\",x)\n",
    "    y =  9\n",
    "    print(y)\n",
    "\n",
    "elif x ==10:\n",
    "    print(\"x id\",x)\n",
    "else:\n",
    "    print((\"x is not 8\"))"
   ]
  },
  {
   "cell_type": "code",
   "execution_count": null,
   "id": "3985d13c",
   "metadata": {},
   "outputs": [],
   "source": [
    "x = 89    # there is exclued to else\n",
    "if x==8:\n",
    "    print(\"x is\",x)\n",
    "elif x ==20:\n",
    "    print(\"x is\",x)\n",
    "elif x ==40:\n",
    "    print(\"x is\",x)\n",
    "elif x == 56:\n",
    "    print(\"x is \",x)\n",
    "elif x ==10:\n",
    "    print(\"x id\",x)\n",
    "elif x ==89:\n",
    "    print(\"x is\",x)\n",
    "else:\n",
    "    print((\"x is not 8\"))"
   ]
  },
  {
   "cell_type": "code",
   "execution_count": null,
   "id": "43ac9540",
   "metadata": {},
   "outputs": [],
   "source": [
    "# Check whether a number is a palindrome number:\n",
    "x = input(\"enter number:\")\n",
    "\n",
    "if x[::]==x[-1::-1]:\n",
    "    \n",
    "    print(\"this is a polindrome\",x)\n",
    "    \n",
    "    \n",
    "\n",
    "\n",
    "else : \n",
    "    print(\"this is a not palindrome\",x)\n"
   ]
  },
  {
   "cell_type": "code",
   "execution_count": null,
   "id": "03e2e431",
   "metadata": {},
   "outputs": [],
   "source": [
    "# progrom to check wheteher a number is odd or even:\n",
    "# Check whether a number is a palindrome number: \n",
    "121,11,31,454"
   ]
  },
  {
   "cell_type": "code",
   "execution_count": null,
   "id": "9e09f1a1",
   "metadata": {},
   "outputs": [],
   "source": [
    "# progrom to check wheteher a number is odd or even:\n",
    "x = int(input(\"enter number:\"))\n",
    "\n",
    "if x%2==0:\n",
    "\n",
    "    print(\"this is a even number:\",x)\n",
    "\n",
    "else : \n",
    "    print(\"this is a odd number:\",x)"
   ]
  },
  {
   "cell_type": "markdown",
   "id": "8380fd7b",
   "metadata": {},
   "source": [
    "### "
   ]
  },
  {
   "cell_type": "code",
   "execution_count": null,
   "id": "4cfbe417",
   "metadata": {},
   "outputs": [],
   "source": [
    "# write a python program to retrun a new set with unique items from two sets by removing duplicates.\n",
    "set1={10,20,30,40,50}\n",
    "set2={30,40,50,60}\n",
    "set1.union(set2)"
   ]
  },
  {
   "cell_type": "code",
   "execution_count": null,
   "id": "877eb3ae",
   "metadata": {},
   "outputs": [],
   "source": [
    "set1.update(\"78\")\n",
    "set1"
   ]
  },
  {
   "cell_type": "code",
   "execution_count": null,
   "id": "46609c30",
   "metadata": {},
   "outputs": [],
   "source": [
    "set1.remove(10),set1.remove(20),set1.remove(30)\n",
    "set1"
   ]
  },
  {
   "cell_type": "code",
   "execution_count": null,
   "id": "a1bc8c21",
   "metadata": {},
   "outputs": [],
   "source": [
    "x = input(\"enter number:\")\n",
    "\n",
    "if \n",
    "    print(\"table:\",x)\n",
    "\n"
   ]
  },
  {
   "cell_type": "code",
   "execution_count": null,
   "id": "87922d61",
   "metadata": {},
   "outputs": [],
   "source": [
    "x = 10*1,10*2,10*3,\n",
    "x"
   ]
  },
  {
   "cell_type": "code",
   "execution_count": null,
   "id": "f89ecd24",
   "metadata": {},
   "outputs": [],
   "source": [
    "x = input(\"enter number :\")\n",
    "if x==x:\n",
    "  \n",
    "    print(\"x*1\",x*1)\n",
    "    print(\"x*2\",x*2)\n",
    "    print(\"x*3\",x*3)\n",
    "    print(\"x*4\",x*4)\n",
    "    print(\"x*5\",x*5)\n",
    "    print(\"x*6\",x*6)\n",
    "    print(\"x*7\",x*7)\n",
    "    print(\"x*8\",x*8)\n",
    "    print(\"x*9\",x*9)\n",
    "    print(\"x*10\",x*10)\n",
    "    \n",
    "    \n",
    "    "
   ]
  },
  {
   "cell_type": "code",
   "execution_count": null,
   "id": "81bc8ee0",
   "metadata": {},
   "outputs": [],
   "source": [
    "x = input(\"enter number :\")\n",
    "y = input(\"enter number:\")\n",
    "z= input(\"enter number:\")\n",
    "\n",
    "if x==x:\n",
    "    print(x*1)\n",
    "elif y==y:\n",
    "    print(y*2)\n",
    "elif z==z:\n",
    "    print(z*3)"
   ]
  },
  {
   "cell_type": "code",
   "execution_count": null,
   "id": "0e9d6fdc",
   "metadata": {},
   "outputs": [],
   "source": [
    "x = int(input(\"enter number :\"))\n",
    "if x * x:\n",
    "  \n",
    "    print(\"x*1\",x*1)\n",
    "    print(\"x*2\",x*2)\n",
    "    print(\"x*3\",x*3)\n",
    "    print(\"x*4\",x*4)\n",
    "    print(\"x*5\",x*5)\n",
    "    print(\"x*6\",x*6)\n",
    "    print(\"x*7\",x*7)\n",
    "    print(\"x*8\",x*8)\n",
    "    print(\"x*9\",x*9)\n",
    "    print(\"x*10\",x*10)\n",
    "    \n",
    "    "
   ]
  },
  {
   "cell_type": "code",
   "execution_count": null,
   "id": "bbd8a432",
   "metadata": {},
   "outputs": [],
   "source": [
    "x = int(input(\"enter number :\"))\n",
    "if x * x:\n",
    "  \n",
    "    print(\"x*1\",x*1,\"x*2\",x*2,\"x*3\",x*3,\"x*4\",x*4,\"x*5\",x*5,\"x*6\",x*6,\"x*7\",x*7,\"x*8\",x*8,\"x*9\",x*9,\"x*10\",x*10)\n",
    "    "
   ]
  },
  {
   "cell_type": "code",
   "execution_count": null,
   "id": "c8d04b63",
   "metadata": {},
   "outputs": [],
   "source": [
    "x= int(input(\"enter number:\"))\n",
    "y= int(input(\"enter number:\"))\n",
    "z= input(\"enter operater:\")\n",
    "\n",
    "if  z==\"+\":\n",
    "    print(\"x+y\",x+y)\n",
    "elif z==\"-\":\n",
    "    print(\"x-y\",x-y)\n",
    "elif z==\"*\": \n",
    "    print(\"x*y\",x*y)\n",
    "elif z== \"/\" :\n",
    "    print(\"x/y\",x/y)\n",
    "elif z== \"%\":\n",
    "    print(\"x%y\",x%y)\n",
    "elif z == \"//\":\n",
    "    print(\"x//y\",x//y)\n",
    "\n"
   ]
  },
  {
   "cell_type": "code",
   "execution_count": null,
   "id": "022aa288",
   "metadata": {},
   "outputs": [],
   "source": [
    "# Nested if-esle\n",
    "x = input(\"value for x\")\n",
    "y = input(\"value for y\")\n",
    "z = input(\"value for z\")\n",
    "if x>y:\n",
    "    if x>z:\n",
    "        print(\"x>y>z\")\n",
    "    else:\n",
    "        print(\"y<x<z\")\n",
    "elif x==y:\n",
    "    if x>z:\n",
    "        print(\"x==y>z\")\n",
    "    else:\n",
    "        print(\"y==x<z\")\n",
    "elif x<y:\n",
    "    if x>z:\n",
    "        print(\"x>y>z\")\n",
    "    else:\n",
    "        print(\"x<y<z\")\n",
    "        \n",
    "    "
   ]
  },
  {
   "cell_type": "code",
   "execution_count": null,
   "id": "5cafa8d1",
   "metadata": {},
   "outputs": [],
   "source": [
    "# Nested if-esle\n",
    "x = input(\"value for x\")\n",
    "y = input(\"value for y\")\n",
    "z = input(\"value for z\")\n",
    "if x>y:\n",
    "    if x>z:\n",
    "        print(\"x>y>z\")\n",
    "    else:\n",
    "        print(\"y<x<z\")\n",
    "elif x==y:\n",
    "    if x>z:\n",
    "        print(\"x==y>z\")\n",
    "    else:\n",
    "        print(\"y==x<z\")\n",
    "elif x<y:\n",
    "    if x>z:\n",
    "        print(\"x>y>z\")\n",
    "    else:\n",
    "        print(\"x<y<z\")\n",
    "        \n",
    "    "
   ]
  },
  {
   "cell_type": "code",
   "execution_count": null,
   "id": "3039b094",
   "metadata": {},
   "outputs": [],
   "source": [
    "# Nested if-esle\n",
    "x = input(\"value for x\")\n",
    "y = input(\"value for y\")\n",
    "z = input(\"value for z\")\n",
    "if x>y:\n",
    "    if x>z:\n",
    "        print(\"x>y>z\")\n",
    "    else:\n",
    "        print(\"y<x<z\")\n",
    "elif x==y:\n",
    "    if x>z:\n",
    "        print(\"x==y>z\")\n",
    "    else:\n",
    "        print(\"y==x<z\")\n",
    "elif x<y:\n",
    "    if x>z:\n",
    "        print(\"x>y>z\")\n",
    "    else:\n",
    "        print(\"x<y<z\")"
   ]
  },
  {
   "cell_type": "code",
   "execution_count": null,
   "id": "6d3bc0cd",
   "metadata": {},
   "outputs": [],
   "source": [
    "# Single line if statement\n",
    "x = input(\"enter value\")\n",
    "y = input(\"enter value\")\n",
    "if x>y:  print(\"x>y\")\n",
    "elif x==y: print(\"x==y\")\n",
    "else : print(\"x<y\")"
   ]
  },
  {
   "cell_type": "code",
   "execution_count": null,
   "id": "648b9a63",
   "metadata": {},
   "outputs": [],
   "source": [
    "if ((8+4)/2==6):\n",
    "    print(\"6\")\n",
    "else:\n",
    "        print()\n"
   ]
  },
  {
   "cell_type": "code",
   "execution_count": null,
   "id": "ce1d85c5",
   "metadata": {},
   "outputs": [],
   "source": [
    "if 8+4/2==10:\n",
    "    print(\"10\")\n",
    "else:\n",
    "    print()"
   ]
  },
  {
   "cell_type": "code",
   "execution_count": null,
   "id": "525f33fd",
   "metadata": {},
   "outputs": [],
   "source": [
    "if 16/4+12==16:\n",
    "    print(\"16\")\n",
    "else :\n",
    "    print()"
   ]
  },
  {
   "cell_type": "code",
   "execution_count": null,
   "id": "eafda564",
   "metadata": {},
   "outputs": [],
   "source": [
    "x = input(\"value for x:\")\n",
    "y = input(\"value for y:\")\n",
    "z = input(\"value for z:\")\n",
    "if(x>y):\n",
    "    if x>z:\n",
    "        print(\"x>y>z\")\n",
    "    else:\n",
    "        print(\"y<x<z\")\n",
    "elif(x==y):\n",
    "    if x>z:\n",
    "        print(\"x==y>z\")\n",
    "    else:\n",
    "        print(\"y==x<z\")\n",
    "elif(x<y):\n",
    "    if x>z:\n",
    "        print(\"x>y>z\")\n",
    "    else:\n",
    "        print(\"x<y<z\")"
   ]
  },
  {
   "cell_type": "code",
   "execution_count": null,
   "id": "5f7af47a",
   "metadata": {},
   "outputs": [],
   "source": [
    "x = input(\"value for x\")\n",
    "y = input(\"value for y\")\n",
    "z = input(\"value for z\")\n",
    "if x>y:\n",
    "    if x>z:\n",
    "        print(\"x>y>z\")\n",
    "    else:\n",
    "        \n",
    "        print(\"y<x<z\")\n",
    "if x>y:\n",
    "    if x>z:\n",
    "        print(\"x==y>z\")\n",
    "    else:\n",
    "        print(\"y==x<z\")\n",
    "if x>y:\n",
    "    if x>z:\n",
    "        print(\"x>y>z\")\n",
    "    else:\n",
    "        print(\"x<y<z\")"
   ]
  },
  {
   "cell_type": "markdown",
   "id": "803f295c",
   "metadata": {},
   "source": [
    "# **Loops**\n",
    "<font size=4 >Loops are used to execute a block of code repatedly.\n",
    "# **for loop**\n",
    "The for loop iterates over an iterable object.\n",
    "1. for loops are used when you have  block of code which you want to repat a fixed number of times.\n",
    "2. for loops are also used to perfrom the same set of operations for each item in an iterable (string, list,tuple,set,dictionary ,range)\n",
    "3. Thus, for loops reduce the code complexity and saves time."
   ]
  },
  {
   "cell_type": "code",
   "execution_count": null,
   "id": "9127f2c3",
   "metadata": {},
   "outputs": [],
   "source": [
    "x= [1,2,3,4,5]\n",
    "for a in x:\n",
    "    print(a)\n",
    "print(\"value of a\",a)"
   ]
  },
  {
   "cell_type": "code",
   "execution_count": 2,
   "id": "d413464a",
   "metadata": {},
   "outputs": [
    {
     "name": "stdout",
     "output_type": "stream",
     "text": [
      "67\n",
      "23\n",
      "90\n",
      "45\n",
      "78\n",
      "value of c 78\n"
     ]
    }
   ],
   "source": [
    "y = {23,45,67,78,90}\n",
    "for c in y:\n",
    "    print(c)\n",
    "print(\"value of c\",c)"
   ]
  },
  {
   "cell_type": "code",
   "execution_count": null,
   "id": "2295f6ba",
   "metadata": {},
   "outputs": [],
   "source": [
    "c = range(1,20)\n",
    "for b in c:\n",
    "    print(b)\n",
    " "
   ]
  },
  {
   "cell_type": "code",
   "execution_count": null,
   "id": "c26b4593",
   "metadata": {},
   "outputs": [],
   "source": [
    "x = (1,2,3,4,5)\n",
    "for a in x:\n",
    "    print(x)\n",
    "    for c in x:\n",
    "        print(c)\n",
    "        "
   ]
  },
  {
   "cell_type": "code",
   "execution_count": null,
   "id": "163dee64",
   "metadata": {},
   "outputs": [],
   "source": [
    "x = range(1,15)\n",
    "for c in  x:\n",
    "    print(c)\n",
    "    for d in x:\n",
    "        print(x)\n",
    "        for "
   ]
  },
  {
   "cell_type": "code",
   "execution_count": null,
   "id": "38ed58b0",
   "metadata": {},
   "outputs": [],
   "source": [
    "x = list(range(0,31))\n",
    "for v in x:\n",
    "    if v%2==0:\n",
    "        print(\"this is a even no:\",v)\n",
    "    else:\n",
    "        print(\"enter is a odd no:\",v)"
   ]
  },
  {
   "cell_type": "code",
   "execution_count": null,
   "id": "61cb9112",
   "metadata": {},
   "outputs": [],
   "source": [
    "x = {\"12\":\"er\",\"15\":\"huy\",\"5\":\"ghf\"}\n",
    "for y in x:\n",
    "    print(y)\n",
    "    print(type(y))"
   ]
  },
  {
   "cell_type": "code",
   "execution_count": null,
   "id": "1a22ceef",
   "metadata": {},
   "outputs": [],
   "source": [
    "sum = 0\n",
    "for a in range(1,11):\n",
    "    if a%2==0:\n",
    "        \n",
    "        sum+=a\n",
    "print(\"enter even number of sum\",sum)\n",
    "        "
   ]
  },
  {
   "cell_type": "code",
   "execution_count": null,
   "id": "6fa899fc",
   "metadata": {},
   "outputs": [],
   "source": [
    "for a in range(1,11):\n",
    "    print(a)"
   ]
  },
  {
   "cell_type": "code",
   "execution_count": null,
   "id": "85a44522",
   "metadata": {},
   "outputs": [],
   "source": [
    "x = dict(range(2,4))\n",
    "print(x)\n"
   ]
  },
  {
   "cell_type": "code",
   "execution_count": null,
   "id": "72680b8c",
   "metadata": {},
   "outputs": [],
   "source": [
    "y = range(0,4)\n",
    "print(y[0])\n",
    "(y[1])\n",
    "(y[2])\n"
   ]
  },
  {
   "cell_type": "code",
   "execution_count": null,
   "id": "517165f8",
   "metadata": {},
   "outputs": [],
   "source": [
    "y = range(0,4)\n",
    "for x in y:\n",
    "    print(x)"
   ]
  },
  {
   "cell_type": "code",
   "execution_count": null,
   "id": "6b86bbcb",
   "metadata": {},
   "outputs": [],
   "source": [
    "g =0\n",
    "for a in range(1,11):\n",
    "    if a%2==0:\n",
    "        g=g+a\n",
    "        print(g)\n",
    "print(\"enter plus even number\",g)"
   ]
  },
  {
   "cell_type": "code",
   "execution_count": null,
   "id": "2b8074ba",
   "metadata": {},
   "outputs": [],
   "source": [
    "g =0\n",
    "for a in range(1,11):\n",
    "    if a%2==0:\n",
    "        g=g+a\n",
    "        print(g)\n",
    "    print(\"hello\")\n",
    "print(\"enter plus even number\",g)"
   ]
  },
  {
   "cell_type": "code",
   "execution_count": null,
   "id": "33b92d28",
   "metadata": {},
   "outputs": [],
   "source": [
    "x = int(range(1,11))\n",
    "if x%2==0:\n",
    "    print(x)"
   ]
  },
  {
   "cell_type": "code",
   "execution_count": null,
   "id": "69ff1503",
   "metadata": {},
   "outputs": [],
   "source": [
    "g = int(input())\n",
    "j = int(input())\n",
    "h = int(input())\n",
    "for a in range(0,20,2):\n",
    "    if a%2==0:\n",
    "        j= j+a\n",
    "        print(\"sum\",j)\n",
    "        \n",
    "\n",
    "    "
   ]
  },
  {
   "cell_type": "code",
   "execution_count": 1,
   "id": "00d1fc61",
   "metadata": {},
   "outputs": [
    {
     "name": "stdout",
     "output_type": "stream",
     "text": [
      "4\n",
      "4\n",
      "sum 0\n",
      "sum 1\n",
      "sum 3\n",
      "sum 6\n",
      "sum 6\n",
      "sum 7\n",
      "sum 9\n",
      "sum 12\n"
     ]
    }
   ],
   "source": [
    "g = int(input())\n",
    "k = 0\n",
    "j = int(input())\n",
    "for c in range(g):\n",
    "    if c%2==0:\n",
    "        for c in range (j):\n",
    "            k= k+c\n",
    "            print(\"sum\",k)"
   ]
  },
  {
   "cell_type": "code",
   "execution_count": null,
   "id": "ed7db829",
   "metadata": {},
   "outputs": [],
   "source": [
    "# Ask the user for the range from which the sum of even numbers should be printed.\n",
    "# eg. 10 to 20 60 to 1000, 70 to 80\n",
    "g = int(input())\n",
    "k = 0\n",
    "j = int(input())\n",
    "for c in range(g,j):\n",
    "    if c%2==0:\n",
    "        k= k+c\n",
    "        print(\"sum\",c)\n",
    "print(\"add sum\",k)"
   ]
  },
  {
   "cell_type": "code",
   "execution_count": null,
   "id": "cdcfd329",
   "metadata": {},
   "outputs": [],
   "source": [
    "10+12+14+16+18\n",
    "\n"
   ]
  },
  {
   "cell_type": "code",
   "execution_count": null,
   "id": "74c957f9",
   "metadata": {},
   "outputs": [],
   "source": []
  },
  {
   "cell_type": "code",
   "execution_count": null,
   "id": "28a5c485",
   "metadata": {},
   "outputs": [],
   "source": [
    "# square each number inside a list and finally print it.\n",
    "x=list(range(1,6))\n",
    "y =[]\n",
    "\n",
    "for a in range(1,6):\n",
    "    x = a*a\n",
    "    print(((x)))\n",
    "x.   "
   ]
  },
  {
   "cell_type": "code",
   "execution_count": null,
   "id": "81ab838f",
   "metadata": {},
   "outputs": [],
   "source": [
    "list(4,5,6,7)"
   ]
  },
  {
   "cell_type": "code",
   "execution_count": 58,
   "id": "62ab6dce",
   "metadata": {},
   "outputs": [
    {
     "name": "stdout",
     "output_type": "stream",
     "text": [
      "1\n",
      "2\n",
      "3\n",
      "4\n"
     ]
    }
   ],
   "source": [
    "x=list(range(1,5))\n",
    "for a in x:\n",
    "    \n",
    "    if  a**a:\n",
    "        print(((a)))\n"
   ]
  },
  {
   "cell_type": "code",
   "execution_count": null,
   "id": "fdcd8261",
   "metadata": {},
   "outputs": [],
   "source": [
    "x = range(0,31)\n",
    "for v in x:\n",
    "    if v%2==0:\n",
    "        print(\"this is a even no:\",v)\n",
    "    else:\n",
    "        print(\"enter is a odd no:\",v)"
   ]
  },
  {
   "cell_type": "code",
   "execution_count": 60,
   "id": "58686907",
   "metadata": {},
   "outputs": [
    {
     "ename": "TypeError",
     "evalue": "'int' object is not iterable",
     "output_type": "error",
     "traceback": [
      "\u001b[1;31m---------------------------------------------------------------------------\u001b[0m",
      "\u001b[1;31mTypeError\u001b[0m                                 Traceback (most recent call last)",
      "Cell \u001b[1;32mIn[60], line 4\u001b[0m\n\u001b[0;32m      2\u001b[0m y\u001b[38;5;241m=\u001b[39m[]\n\u001b[0;32m      3\u001b[0m \u001b[38;5;28;01mfor\u001b[39;00m a \u001b[38;5;129;01min\u001b[39;00m x:\n\u001b[1;32m----> 4\u001b[0m     \u001b[38;5;28;01mfor\u001b[39;00m u \u001b[38;5;129;01min\u001b[39;00m a:\n\u001b[0;32m      5\u001b[0m         a\u001b[38;5;241m*\u001b[39m\u001b[38;5;241m*\u001b[39ma\n\u001b[0;32m      6\u001b[0m \u001b[38;5;28mprint\u001b[39m((x))\n",
      "\u001b[1;31mTypeError\u001b[0m: 'int' object is not iterable"
     ]
    }
   ],
   "source": [
    "x=[1,3,5,6]\n",
    "y=[]\n",
    "for a in x:\n",
    "    for u in a:\n",
    "        a**a\n",
    "print((x))"
   ]
  },
  {
   "cell_type": "code",
   "execution_count": null,
   "id": "d40e4129",
   "metadata": {},
   "outputs": [],
   "source": [
    "students= {1:\"aa\",2:\"bb\",3:\"cc\",4:\"dd\"}\n",
    "x = int(input(\"\"))\n",
    "students[5]=\"ee\"\n",
    "students[x]"
   ]
  },
  {
   "cell_type": "code",
   "execution_count": 5,
   "id": "ff6445db",
   "metadata": {},
   "outputs": [
    {
     "name": "stdout",
     "output_type": "stream",
     "text": [
      "6\n",
      "\n",
      "1\n",
      "22\n",
      "333\n",
      "4444\n",
      "55555\n"
     ]
    }
   ],
   "source": [
    "# priting pattren\n",
    "w = list(range(int(input())))\n",
    "for z in w:\n",
    "    f = str(z)\n",
    "    print(z*f)"
   ]
  },
  {
   "cell_type": "raw",
   "id": "bff035bf",
   "metadata": {},
   "source": [
    "# tables is a for loops methods \n",
    "s = int(input(\"enter table no :\"))\n",
    "r = 1,2,3,4,5,6,7,8,9,10\n",
    "for q in r:\n",
    "    print(s,\"*\",q, \"=\",s*q)"
   ]
  },
  {
   "cell_type": "code",
   "execution_count": null,
   "id": "ae4e038a",
   "metadata": {},
   "outputs": [],
   "source": [
    "e = 0\n",
    "x = [2,5,25,35,40,45,]\n",
    "for y in x:\n",
    "    if y//5 == 10:\n",
    "        e=e+y\n",
    "        print(e)"
   ]
  },
  {
   "cell_type": "code",
   "execution_count": null,
   "id": "e57f2a03",
   "metadata": {},
   "outputs": [],
   "source": [
    "25//5"
   ]
  },
  {
   "cell_type": "code",
   "execution_count": 15,
   "id": "7e6a38eb",
   "metadata": {},
   "outputs": [
    {
     "data": {
      "text/plain": [
       "1"
      ]
     },
     "execution_count": 15,
     "metadata": {},
     "output_type": "execute_result"
    }
   ],
   "source": [
    "1**1"
   ]
  },
  {
   "cell_type": "code",
   "execution_count": null,
   "id": "a86c46d3",
   "metadata": {},
   "outputs": [],
   "source": []
  }
 ],
 "metadata": {
  "kernelspec": {
   "display_name": "Python 3 (ipykernel)",
   "language": "python",
   "name": "python3"
  },
  "language_info": {
   "codemirror_mode": {
    "name": "ipython",
    "version": 3
   },
   "file_extension": ".py",
   "mimetype": "text/x-python",
   "name": "python",
   "nbconvert_exporter": "python",
   "pygments_lexer": "ipython3",
   "version": "3.10.9"
  }
 },
 "nbformat": 4,
 "nbformat_minor": 5
}
